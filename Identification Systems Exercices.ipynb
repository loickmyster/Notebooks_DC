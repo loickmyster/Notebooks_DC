{
 "cells": [
  {
   "cell_type": "markdown",
   "metadata": {},
   "source": [
    "# Identification Systems Exercices"
   ]
  },
  {
   "cell_type": "markdown",
   "metadata": {},
   "source": [
    "#### Author : Loïck Myster"
   ]
  },
  {
   "cell_type": "markdown",
   "metadata": {},
   "source": [
    "### In this current notebook, you will be able to test your answers about identification systems."
   ]
  },
  {
   "cell_type": "code",
   "execution_count": 98,
   "metadata": {},
   "outputs": [],
   "source": [
    "from ipywidgets import widgets\n",
    "from IPython.display import display\n",
    "import numpy\n",
    "import sympy\n",
    "from sympy import *\n",
    "import control\n",
    "from control import matlab\n",
    "import matplotlib.pyplot as plt\n",
    "from scipy import *\n",
    "from pylab import *\n",
    "sympy.init_printing()\n",
    "s = Symbol('s')"
   ]
  },
  {
   "cell_type": "markdown",
   "metadata": {},
   "source": [
    "## Choose an order\n",
    "According the step response that you're studiying, please choose a proper order by clicking on one of the following buttons."
   ]
  },
  {
   "cell_type": "code",
   "execution_count": 107,
   "metadata": {},
   "outputs": [
    {
     "data": {
      "application/vnd.jupyter.widget-view+json": {
       "model_id": "8eff733be9f74d259fe7ebb9d66379c9",
       "version_major": 2,
       "version_minor": 0
      },
      "text/plain": [
       "HBox(children=(Button(description='Order 1', style=ButtonStyle()), Button(description='Order 2', style=ButtonS…"
      ]
     },
     "metadata": {},
     "output_type": "display_data"
    },
    {
     "data": {
      "application/vnd.jupyter.widget-view+json": {
       "model_id": "4f42112a80f84fe78d47443bdc3a99a7",
       "version_major": 2,
       "version_minor": 0
      },
      "text/plain": [
       "Button(description='Run', style=ButtonStyle())"
      ]
     },
     "metadata": {},
     "output_type": "display_data"
    },
    {
     "name": "stdout",
     "output_type": "stream",
     "text": [
      "Order 1 \n",
      "You have to type enter to confirm values then click on 'Run' button\n",
      "K/(Ts+1)\n"
     ]
    },
    {
     "data": {
      "application/vnd.jupyter.widget-view+json": {
       "model_id": "31cdaad278d64344aed9d7622313cce3",
       "version_major": 2,
       "version_minor": 0
      },
      "text/plain": [
       "Text(value='', description='K :', placeholder='Type a value for K')"
      ]
     },
     "metadata": {},
     "output_type": "display_data"
    },
    {
     "data": {
      "application/vnd.jupyter.widget-view+json": {
       "model_id": "223c45221b7544f48507501a145defe0",
       "version_major": 2,
       "version_minor": 0
      },
      "text/plain": [
       "Text(value='', description='T :', placeholder='Type a value for T')"
      ]
     },
     "metadata": {},
     "output_type": "display_data"
    },
    {
     "name": "stdout",
     "output_type": "stream",
     "text": [
      "1\n",
      "2\n",
      "1.0\n",
      "[2.0, 1]\n",
      "\n",
      "   1\n",
      "-------\n",
      "2 s + 1\n",
      "\n"
     ]
    },
    {
     "data": {
      "image/png": "[encoded data removed]",
      "text/plain": [
       "<Figure size 432x288 with 1 Axes>"
      ]
     },
     "metadata": {
      "needs_background": "light"
     },
     "output_type": "display_data"
    },
    {
     "name": "stdout",
     "output_type": "stream",
     "text": [
      "7\n",
      "7\n",
      "0.7\n",
      "7.0\n",
      "[0.7, 1]\n",
      "\n",
      "    7\n",
      "---------\n",
      "0.7 s + 1\n",
      "\n"
     ]
    },
    {
     "data": {
      "image/png": "[encoded data removed]",
      "text/plain": [
       "<Figure size 432x288 with 1 Axes>"
      ]
     },
     "metadata": {
      "needs_background": "light"
     },
     "output_type": "display_data"
    }
   ],
   "source": [
    "# Création des boutons\n",
    "\n",
    "btn_names = ['Order 1', 'Order 2', 'Order > 2']\n",
    "items = [widgets.Button(description=n) for n in btn_names]\n",
    "wbtn = widgets.HBox([items[0],items[1],items[2]])\n",
    "display(wbtn)\n",
    "# possibilité de créer un lien entre 2 widgets (slider and textfield)\n",
    "# Fonction clic sur un bouton déclenche l'apparition de textbox\n",
    "def on_button_clicked(b):\n",
    "    choice = b.description\n",
    "    print(choice, \"\\nYou have to press enter-key to confirm values then click on 'Run' button\")\n",
    "    if choice == \"Order 1\":\n",
    "        # bloquer les autres boutons\n",
    "        print(\"K/(Ts+1)\")\n",
    "        while 1:\n",
    "            edtK = widgets.Text(\n",
    "            value='',\n",
    "            placeholder='Type a value for K',\n",
    "            description='K :',\n",
    "            disabled=False)\n",
    "            display(edtK)\n",
    "\n",
    "            edtT = widgets.Text(\n",
    "            value='',\n",
    "            placeholder='Type a value for T',\n",
    "            description='T :',\n",
    "            disabled=False)\n",
    "            display(edtT)\n",
    "            edtK.on_submit(handle_submitK)\n",
    "            edtT.on_submit(handle_submitT)\n",
    "            break\n",
    "\n",
    "# fonction utile à récuper la valeur de la textbox\n",
    "def handle_submitK(sender):\n",
    "    print(sender.value)\n",
    "    global K\n",
    "    K = float(sender.value)\n",
    "   \n",
    "# fonction utile à récupérer la valeur de la textbox\n",
    "def handle_submitT(sender):\n",
    "    print(sender.value)\n",
    "    global T\n",
    "    T = float(sender.value)\n",
    "\n",
    "for i, elt in enumerate(items):\n",
    "    items[i].on_click(on_button_clicked)\n",
    "    \n",
    "def btn_valider(b):\n",
    "    #print(K)\n",
    "    #print(T)\n",
    "    num = K\n",
    "    den = [T, 1]\n",
    "    print(num)\n",
    "    print(den)\n",
    "    H = control.TransferFunction(num, den)\n",
    "    print(H)\n",
    "    y,t = matlab.step(H)\n",
    "    plt.plot(t,y)\n",
    "    plt.show()\n",
    "    \n",
    "\n",
    "valider = widgets.Button(description='Run')\n",
    "display(valider)\n",
    "valider.on_click(btn_valider)\n",
    "    \n"
   ]
  },
  {
   "cell_type": "code",
   "execution_count": null,
   "metadata": {},
   "outputs": [],
   "source": []
  }
 ],
 "metadata": {
  "kernelspec": {
   "display_name": "Python 3",
   "language": "python",
   "name": "python3"
  },
  "language_info": {
   "codemirror_mode": {
    "name": "ipython",
    "version": 3
   },
   "file_extension": ".py",
   "mimetype": "text/x-python",
   "name": "python",
   "nbconvert_exporter": "python",
   "pygments_lexer": "ipython3",
   "version": "3.7.1"
  },
  "widgets": {
   "application/vnd.jupyter.widget-state+json": {
    "state": {
     "0033e249891d45fa865606da7cb3e1e7": {
      "model_module": "@jupyter-widgets/base",
      "model_module_version": "1.1.0",
      "model_name": "LayoutModel",
      "state": {}
     },
     "0051b883ea44412383508206a0481d02": {
      "model_module": "@jupyter-widgets/controls",
      "model_module_version": "1.4.0",
      "model_name": "ButtonStyleModel",
      "state": {}
     },
     "0068b12462644a43bdd50bc1a2e6a3ef": {
      "model_module": "@jupyter-widgets/base",
      "model_module_version": "1.1.0",
      "model_name": "LayoutModel",
      "state": {}
     },
     "0093b3acdc984c75bedbf50860b4ffd1": {
      "model_module": "@jupyter-widgets/controls",
      "model_module_version": "1.4.0",
      "model_name": "ButtonModel",
      "state": {
       "description": "Order > 2",
       "layout": "IPY_MODEL_4cd4b923e9f446b49003988876c4ee1b",
       "style": "IPY_MODEL_4409725117ee401da74a4de72a8d05d9"
      }
     },
     "00b4af5968e440cca101b55d75ec57b9": {
      "model_module": "@jupyter-widgets/controls",
      "model_module_version": "1.4.0",
      "model_name": "ButtonModel",
      "state": {
       "description": "Order > 2",
       "layout": "IPY_MODEL_c6380aaf700d41b78a217e8831582c08",
       "style": "IPY_MODEL_d7c0c91faf824134918b2dc576eb575a"
      }
     },
     "012ad35c75db48f4b179181d9d98fd0c": {
      "model_module": "@jupyter-widgets/controls",
      "model_module_version": "1.4.0",
      "model_name": "ButtonModel",
      "state": {
       "description": "Order > 2",
       "layout": "IPY_MODEL_d3c0257782e14f968dfe3bec4ff0df0a",
       "style": "IPY_MODEL_4968b5f016f74c8c8e0edd0919d386f3"
      }
     },
     "012d1ce6e0754d0388ca83698b6b47b4": {
      "model_module": "@jupyter-widgets/controls",
      "model_module_version": "1.4.0",
      "model_name": "ButtonStyleModel",
      "state": {}
     },
     "018a919b3f424704a2b6c59040c317f1": {
      "model_module": "@jupyter-widgets/controls",
      "model_module_version": "1.4.0",
      "model_name": "ButtonStyleModel",
      "state": {}
     },
     "01d9a653c9554ca5b2fbca531cd326b9": {
      "model_module": "@jupyter-widgets/controls",
      "model_module_version": "1.4.0",
      "model_name": "ButtonModel",
      "state": {
       "description": "Order 1",
       "layout": "IPY_MODEL_16c02c7464f24fb9a8372e7366cb81b7",
       "style": "IPY_MODEL_c4b930e8680548f5a104628c4f8c6c45"
      }
     },
     "01dc6734565c4686a91b05f6eb13c56b": {
      "model_module": "@jupyter-widgets/controls",
      "model_module_version": "1.4.0",
      "model_name": "ButtonStyleModel",
      "state": {}
     },
     "02485efba45a4be18b6f659427d2d39e": {
      "model_module": "@jupyter-widgets/base",
      "model_module_version": "1.1.0",
      "model_name": "LayoutModel",
      "state": {}
     },
     "0267b98017044e23bba551ad8287a748": {
      "model_module": "@jupyter-widgets/controls",
      "model_module_version": "1.4.0",
      "model_name": "DescriptionStyleModel",
      "state": {
       "description_width": ""
      }
     },
     "02bf126c849f4d5b8089a90dae15ec15": {
      "model_module": "@jupyter-widgets/base",
      "model_module_version": "1.1.0",
      "model_name": "LayoutModel",
      "state": {}
     },
     "03a84f4102854ec0bb6ff506e0c2f502": {
      "model_module": "@jupyter-widgets/controls",
      "model_module_version": "1.4.0",
      "model_name": "ButtonModel",
      "state": {
       "description": "Order > 2",
       "layout": "IPY_MODEL_92dbad220d814373a76cd081b0ed769a",
       "style": "IPY_MODEL_5ef3175a3e944037a45ff5e7b7fc218e"
      }
     },
     "03c586d186ad406983443ea7f520ee5a": {
      "model_module": "@jupyter-widgets/controls",
      "model_module_version": "1.4.0",
      "model_name": "ButtonStyleModel",
      "state": {}
     },
     "03f70802bca74719be98721ef358fc44": {
      "model_module": "@jupyter-widgets/base",
      "model_module_version": "1.1.0",
      "model_name": "LayoutModel",
      "state": {}
     },
     "053daa5cc658433c91fff39495a18e46": {
      "model_module": "@jupyter-widgets/controls",
      "model_module_version": "1.4.0",
      "model_name": "ButtonModel",
      "state": {
       "description": "Order 1",
       "layout": "IPY_MODEL_1736508776f444b1bbde5546343e0988",
       "style": "IPY_MODEL_dad770c5e6504eb98bf2acdb9889ea2d"
      }
     },
     "056df855e7394e138f7c6e6dc29cbf4d": {
      "model_module": "@jupyter-widgets/controls",
      "model_module_version": "1.4.0",
      "model_name": "ButtonModel",
      "state": {
       "description": "Order 2",
       "layout": "IPY_MODEL_b842b38a562049d1b691847dbdcf8f6b",
       "style": "IPY_MODEL_f859f3154c094df49ffbac6d0a166bb8"
      }
     },
     "0580dff305e14859a79c40eac66b6c00": {
      "model_module": "@jupyter-widgets/controls",
      "model_module_version": "1.4.0",
      "model_name": "ButtonStyleModel",
      "state": {}
     },
     "059f70aeaea74c0cb101a5645fb6556c": {
      "model_module": "@jupyter-widgets/base",
      "model_module_version": "1.1.0",
      "model_name": "LayoutModel",
      "state": {}
     },
     "061daf3ea15c41e898fa0c8cf731547a": {
      "model_module": "@jupyter-widgets/controls",
      "model_module_version": "1.4.0",
      "model_name": "ButtonModel",
      "state": {
       "description": "Order 1",
       "layout": "IPY_MODEL_9dd699c05a354562b325c378d4cc74ef",
       "style": "IPY_MODEL_edad799639604f65aa648f6b2c3bfb02"
      }
     },
     "06582bb00879462b94ce3c4763ce5447": {
      "model_module": "@jupyter-widgets/controls",
      "model_module_version": "1.4.0",
      "model_name": "ButtonStyleModel",
      "state": {}
     },
     "06f4c2b9e5004b3c828b0679718aab93": {
      "model_module": "@jupyter-widgets/base",
      "model_module_version": "1.1.0",
      "model_name": "LayoutModel",
      "state": {}
     },
     "076a1119326844c18070f08a96a76391": {
      "model_module": "@jupyter-widgets/base",
      "model_module_version": "1.1.0",
      "model_name": "LayoutModel",
      "state": {}
     },
     "0798aa1df6fe402b845be0c90f6440fc": {
      "model_module": "@jupyter-widgets/controls",
      "model_module_version": "1.4.0",
      "model_name": "HBoxModel",
      "state": {
       "children": [
        "IPY_MODEL_e13a0c158c1a46b08c6d7fad8e7fdde6",
        "IPY_MODEL_11ef223236b743b0a369335d2f4aef76",
        "IPY_MODEL_1090951046634eb8b6bd835775e44197"
       ],
       "layout": "IPY_MODEL_e0b6f07b560c4ab1b7de322ca27725c1"
      }
     },
     "07a3a715b3254f498ed017bb6901369b": {
      "model_module": "@jupyter-widgets/controls",
      "model_module_version": "1.4.0",
      "model_name": "ButtonStyleModel",
      "state": {}
     },
     "07a7f6b127154d4ab608e5001d53405c": {
      "model_module": "@jupyter-widgets/base",
      "model_module_version": "1.1.0",
      "model_name": "LayoutModel",
      "state": {}
     },
     "07bf29b6fee44cf69c5a9a9f1dd7a4b0": {
      "model_module": "@jupyter-widgets/controls",
      "model_module_version": "1.4.0",
      "model_name": "DescriptionStyleModel",
      "state": {
       "description_width": ""
      }
     },
     "08b347cbe0594a85a58d1bf711cd228b": {
      "model_module": "@jupyter-widgets/controls",
      "model_module_version": "1.4.0",
      "model_name": "ButtonModel",
      "state": {
       "description": "Order 1",
       "layout": "IPY_MODEL_1e164b3ed77a4596a3cf85ca80b3419f",
       "style": "IPY_MODEL_cb1700569acb47388888898cebb209e7"
      }
     },
     "08cc5a9900d64dd3881e307c0f4a2ff5": {
      "model_module": "@jupyter-widgets/controls",
      "model_module_version": "1.4.0",
      "model_name": "ButtonStyleModel",
      "state": {}
     },
     "08cddf81ea164a369b62ac8eccbd0f3c": {
      "model_module": "@jupyter-widgets/base",
      "model_module_version": "1.1.0",
      "model_name": "LayoutModel",
      "state": {}
     },
     "0926ceea3efd4575b37506afb9e5496d": {
      "model_module": "@jupyter-widgets/controls",
      "model_module_version": "1.4.0",
      "model_name": "ButtonModel",
      "state": {
       "description": "Order 2",
       "layout": "IPY_MODEL_a2596b649b1c4027a4e8db614ed3b04c",
       "style": "IPY_MODEL_08cc5a9900d64dd3881e307c0f4a2ff5"
      }
     },
     "093ccc6f0deb4a439fbd4a221b2f0bf0": {
      "model_module": "@jupyter-widgets/base",
      "model_module_version": "1.1.0",
      "model_name": "LayoutModel",
      "state": {}
     },
     "0946c7c34dd5413ebc87eace24c43f91": {
      "model_module": "@jupyter-widgets/controls",
      "model_module_version": "1.4.0",
      "model_name": "ButtonModel",
      "state": {
       "description": "Order > 2",
       "layout": "IPY_MODEL_3873bb14680242ac8d2f2c31b7208fe2",
       "style": "IPY_MODEL_d02ea26edb39403085e2c95f6e790bb9"
      }
     },
     "097736f0d70941e5a0d318f819422c75": {
      "model_module": "@jupyter-widgets/base",
      "model_module_version": "1.1.0",
      "model_name": "LayoutModel",
      "state": {}
     },
     "0a5d33cd498041b9af0546777068c124": {
      "model_module": "@jupyter-widgets/controls",
      "model_module_version": "1.4.0",
      "model_name": "TextModel",
      "state": {
       "description": "K :",
       "layout": "IPY_MODEL_c0a57b6fccc0461aa6295fe2aa036e12",
       "placeholder": "Type a value for K",
       "style": "IPY_MODEL_ac1260d14e944195b2a6c974e522baf0",
       "value": "8"
      }
     },
     "0abd3cd92cba4538998611145a9e594e": {
      "model_module": "@jupyter-widgets/base",
      "model_module_version": "1.1.0",
      "model_name": "LayoutModel",
      "state": {}
     },
     "0aca6af96a334fa0b75fb2aab5bc930c": {
      "model_module": "@jupyter-widgets/controls",
      "model_module_version": "1.4.0",
      "model_name": "ButtonModel",
      "state": {
       "description": "Order 1",
       "layout": "IPY_MODEL_360af84f928d491cb863f0de2657393a",
       "style": "IPY_MODEL_2e49b1f54b914573a460b682eccc9e16"
      }
     },
     "0af22833596d42c0ab12f0157cd2269f": {
      "model_module": "@jupyter-widgets/base",
      "model_module_version": "1.1.0",
      "model_name": "LayoutModel",
      "state": {}
     },
     "0b9ac3fc310544c4addc661b8da8a839": {
      "model_module": "@jupyter-widgets/base",
      "model_module_version": "1.1.0",
      "model_name": "LayoutModel",
      "state": {}
     },
     "0c07bd0e8dd6424780247f91c55a68cc": {
      "model_module": "@jupyter-widgets/controls",
      "model_module_version": "1.4.0",
      "model_name": "ButtonStyleModel",
      "state": {}
     },
     "0c098dbe00b6484a8142c01ec77ef1b3": {
      "model_module": "@jupyter-widgets/controls",
      "model_module_version": "1.4.0",
      "model_name": "ButtonStyleModel",
      "state": {}
     },
     "0c3bbad0696447fb821901c138edb6de": {
      "model_module": "@jupyter-widgets/controls",
      "model_module_version": "1.4.0",
      "model_name": "ButtonStyleModel",
      "state": {}
     },
     "0c4796c9144e439497d41668d4b29c91": {
      "model_module": "@jupyter-widgets/controls",
      "model_module_version": "1.4.0",
      "model_name": "ButtonModel",
      "state": {
       "description": "Order 1",
       "layout": "IPY_MODEL_20409f103cde40a8ac0e3f9387c5eb89",
       "style": "IPY_MODEL_79c1cb9c878541edac8f676ed543832a"
      }
     },
     "0c75852a01c8492196d74275259a009d": {
      "model_module": "@jupyter-widgets/controls",
      "model_module_version": "1.4.0",
      "model_name": "HBoxModel",
      "state": {
       "children": [
        "IPY_MODEL_50cb96473f204b56afbd4f548f4e9307",
        "IPY_MODEL_d8a6b2e46a65456d980e5ff6a0691c71",
        "IPY_MODEL_5ac328ffa57146cbaec480ea6d172007"
       ],
       "layout": "IPY_MODEL_e399cd585a6649649b73ce4b215d6a67"
      }
     },
     "0ce0cdeba640465fb4d8c313d7adc0b8": {
      "model_module": "@jupyter-widgets/base",
      "model_module_version": "1.1.0",
      "model_name": "LayoutModel",
      "state": {}
     },
     "0d1490e844bc4e5a8b00a2d1c5869be0": {
      "model_module": "@jupyter-widgets/controls",
      "model_module_version": "1.4.0",
      "model_name": "HBoxModel",
      "state": {
       "children": [
        "IPY_MODEL_8e7c5665d42f423c9c91eb76a84fff89",
        "IPY_MODEL_b4e3c62eef3d4971afc52ae03493f623",
        "IPY_MODEL_142dfac6a5ca4b84873fc22e5894f1e1"
       ],
       "layout": "IPY_MODEL_e5627c868e2f403f8dc5ac60e9e37eb5"
      }
     },
     "0d6da271007c4585afa567cb3c89b4f7": {
      "model_module": "@jupyter-widgets/controls",
      "model_module_version": "1.4.0",
      "model_name": "ButtonModel",
      "state": {
       "description": "Valider",
       "layout": "IPY_MODEL_1bd4c3452e754e2e95ad7b02736f8f00",
       "style": "IPY_MODEL_35fb70beec274de4a7e4abcb5dc23fc6"
      }
     },
     "0d924354c0fc41f5a4df4d1664d5bc9d": {
      "model_module": "@jupyter-widgets/base",
      "model_module_version": "1.1.0",
      "model_name": "LayoutModel",
      "state": {}
     },
     "0da9dc3f131b41708e0c384a9d17a81e": {
      "model_module": "@jupyter-widgets/controls",
      "model_module_version": "1.4.0",
      "model_name": "DescriptionStyleModel",
      "state": {
       "description_width": ""
      }
     },
     "0dd16845af924d20b78031096beaa9dd": {
      "model_module": "@jupyter-widgets/controls",
      "model_module_version": "1.4.0",
      "model_name": "ButtonStyleModel",
      "state": {}
     },
     "0ddfbdead60d40759162e55f12e991d8": {
      "model_module": "@jupyter-widgets/base",
      "model_module_version": "1.1.0",
      "model_name": "LayoutModel",
      "state": {}
     },
     "0de6bb24748344bcb1e37868ebdf30db": {
      "model_module": "@jupyter-widgets/controls",
      "model_module_version": "1.4.0",
      "model_name": "ButtonStyleModel",
      "state": {}
     },
     "0e678a43664e41ee8c418f662785f9b6": {
      "model_module": "@jupyter-widgets/base",
      "model_module_version": "1.1.0",
      "model_name": "LayoutModel",
      "state": {}
     },
     "0e7ae2f5a46342e2825e0bc1b73a1333": {
      "model_module": "@jupyter-widgets/controls",
      "model_module_version": "1.4.0",
      "model_name": "ButtonModel",
      "state": {
       "description": "Order > 2",
       "layout": "IPY_MODEL_53f6a6a630dc4bb5abdf9bf42190da2c",
       "style": "IPY_MODEL_ac66f8d5398b4b729840375265973f3b"
      }
     },
     "0e7dcc5a02694c9a8d47efb2fc3b5d66": {
      "model_module": "@jupyter-widgets/base",
      "model_module_version": "1.1.0",
      "model_name": "LayoutModel",
      "state": {}
     },
     "0e96efcd674a410ea001ed1952a11478": {
      "model_module": "@jupyter-widgets/controls",
      "model_module_version": "1.4.0",
      "model_name": "DescriptionStyleModel",
      "state": {
       "description_width": ""
      }
     },
     "0efbe77c6a6a4a448065934f7a125bd8": {
      "model_module": "@jupyter-widgets/base",
      "model_module_version": "1.1.0",
      "model_name": "LayoutModel",
      "state": {}
     },
     "0f21125461f8439d96a392e96d8db6dc": {
      "model_module": "@jupyter-widgets/controls",
      "model_module_version": "1.4.0",
      "model_name": "ButtonModel",
      "state": {
       "description": "Order > 2",
       "layout": "IPY_MODEL_3284cc34d55c48059f842b0d32e8f28f",
       "style": "IPY_MODEL_552f2a0df8dc4f088bc39ef72c79e112"
      }
     },
     "0fed6c77fcbc4a9fa1f20e5d57654972": {
      "model_module": "@jupyter-widgets/controls",
      "model_module_version": "1.4.0",
      "model_name": "ButtonModel",
      "state": {
       "description": "Order 2",
       "layout": "IPY_MODEL_a26e5ed9d2534f7bb94cd758b2e40a07",
       "style": "IPY_MODEL_faeceb0f48524965acbb9715fefbe03c"
      }
     },
     "10463dfe350e46f1aec04578e31dde37": {
      "model_module": "@jupyter-widgets/controls",
      "model_module_version": "1.4.0",
      "model_name": "ButtonModel",
      "state": {
       "description": "Order 1",
       "layout": "IPY_MODEL_55464af75c834017bdf0500294bdac10",
       "style": "IPY_MODEL_3b6f268a8131495cb9a9381b5cb0d436"
      }
     },
     "1084011ea72c40e1ab9f7e836f990a92": {
      "model_module": "@jupyter-widgets/base",
      "model_module_version": "1.1.0",
      "model_name": "LayoutModel",
      "state": {}
     },
     "1090951046634eb8b6bd835775e44197": {
      "model_module": "@jupyter-widgets/controls",
      "model_module_version": "1.4.0",
      "model_name": "ButtonModel",
      "state": {
       "description": "Order > 2",
       "layout": "IPY_MODEL_6e982d169ad34cea940c0afb414ad3c7",
       "style": "IPY_MODEL_f9bb3ea6f26742fab60ff5df28cde3c5"
      }
     },
     "109ed8c06e3e4f8a982cb46b17a45be1": {
      "model_module": "@jupyter-widgets/controls",
      "model_module_version": "1.4.0",
      "model_name": "TextModel",
      "state": {
       "description": "K :",
       "layout": "IPY_MODEL_f323b715151c4f4b8e7338d896de348c",
       "placeholder": "Type a value for K",
       "style": "IPY_MODEL_ae1296dc5317464d9ad28a166e317a33",
       "value": "1"
      }
     },
     "10b4175783fb488687d05627db62029b": {
      "model_module": "@jupyter-widgets/controls",
      "model_module_version": "1.4.0",
      "model_name": "HBoxModel",
      "state": {
       "children": [
        "IPY_MODEL_0c4796c9144e439497d41668d4b29c91",
        "IPY_MODEL_5eb9e7f682c94730bbdf5c1ee47f1449",
        "IPY_MODEL_a3812e3d7b8f47b4baf3329b7de8412a"
       ],
       "layout": "IPY_MODEL_636b562dcb1e401ab5c0a39dcd5f72e9"
      }
     },
     "10b58c6568b94a699f51f8351deb126e": {
      "model_module": "@jupyter-widgets/controls",
      "model_module_version": "1.4.0",
      "model_name": "DescriptionStyleModel",
      "state": {
       "description_width": ""
      }
     },
     "10f26851a4554491ad99c7cd21cbf266": {
      "model_module": "@jupyter-widgets/controls",
      "model_module_version": "1.4.0",
      "model_name": "ButtonStyleModel",
      "state": {}
     },
     "110130bfb23644e7ad8b6c24727466f9": {
      "model_module": "@jupyter-widgets/base",
      "model_module_version": "1.1.0",
      "model_name": "LayoutModel",
      "state": {}
     },
     "11749799921d41a9a93a18c641057ab4": {
      "model_module": "@jupyter-widgets/base",
      "model_module_version": "1.1.0",
      "model_name": "LayoutModel",
      "state": {}
     },
     "1180a903dcba4c71b9d9b8cdc43a7635": {
      "model_module": "@jupyter-widgets/base",
      "model_module_version": "1.1.0",
      "model_name": "LayoutModel",
      "state": {}
     },
     "11ef223236b743b0a369335d2f4aef76": {
      "model_module": "@jupyter-widgets/controls",
      "model_module_version": "1.4.0",
      "model_name": "ButtonModel",
      "state": {
       "description": "Order 2",
       "layout": "IPY_MODEL_0068b12462644a43bdd50bc1a2e6a3ef",
       "style": "IPY_MODEL_53794c79bd4e4387aa3c2e80599ed3da"
      }
     },
     "120db9349afb46019aecebd644141a52": {
      "model_module": "@jupyter-widgets/controls",
      "model_module_version": "1.4.0",
      "model_name": "DescriptionStyleModel",
      "state": {
       "description_width": ""
      }
     },
     "125b1ccd59ae40e8b04af5f7ca690932": {
      "model_module": "@jupyter-widgets/base",
      "model_module_version": "1.1.0",
      "model_name": "LayoutModel",
      "state": {}
     },
     "12983ae5af784680804919001d076221": {
      "model_module": "@jupyter-widgets/controls",
      "model_module_version": "1.4.0",
      "model_name": "ButtonModel",
      "state": {
       "description": "Order 1",
       "layout": "IPY_MODEL_d957679a7c9f48849b7ed5cdcf9a8a23",
       "style": "IPY_MODEL_ed041bc1cbaa459999bde3dd5c5ddd3d"
      }
     },
     "134ef997a7e3485387ae706411a0cdf3": {
      "model_module": "@jupyter-widgets/controls",
      "model_module_version": "1.4.0",
      "model_name": "ButtonModel",
      "state": {
       "description": "Order > 2",
       "layout": "IPY_MODEL_f644145f1a1849cd884719ce86a8f170",
       "style": "IPY_MODEL_2baaf774d6e14088b9a24df5b12f017d"
      }
     },
     "13540343ba5e4b9ab97e9200d640c020": {
      "model_module": "@jupyter-widgets/controls",
      "model_module_version": "1.4.0",
      "model_name": "HBoxModel",
      "state": {
       "children": [
        "IPY_MODEL_14279ad14ee74ce19c2934bd968b08df",
        "IPY_MODEL_7ca1a22b018b4b23b2c0a12d73585fa6",
        "IPY_MODEL_25be42d2cab0493f919c9139f1744a23"
       ],
       "layout": "IPY_MODEL_18453ea32a074d06bf440f5a475a4ce0"
      }
     },
     "13629db42fb948c69f90e5b5d31a0153": {
      "model_module": "@jupyter-widgets/controls",
      "model_module_version": "1.4.0",
      "model_name": "ButtonStyleModel",
      "state": {}
     },
     "1371b81ac20849b080677ce41ec7f819": {
      "model_module": "@jupyter-widgets/base",
      "model_module_version": "1.1.0",
      "model_name": "LayoutModel",
      "state": {}
     },
     "13974a87290a427ca13d9d8320031294": {
      "model_module": "@jupyter-widgets/base",
      "model_module_version": "1.1.0",
      "model_name": "LayoutModel",
      "state": {}
     },
     "13e870e1d9f042c6831ce0d4cafc3804": {
      "model_module": "@jupyter-widgets/controls",
      "model_module_version": "1.4.0",
      "model_name": "ButtonStyleModel",
      "state": {}
     },
     "14279ad14ee74ce19c2934bd968b08df": {
      "model_module": "@jupyter-widgets/controls",
      "model_module_version": "1.4.0",
      "model_name": "ButtonModel",
      "state": {
       "description": "Order 1",
       "layout": "IPY_MODEL_1dcf54ac07594b96999e30d811118302",
       "style": "IPY_MODEL_1c76ee2a871147d7bbc3b2429f48f01f"
      }
     },
     "142dfac6a5ca4b84873fc22e5894f1e1": {
      "model_module": "@jupyter-widgets/controls",
      "model_module_version": "1.4.0",
      "model_name": "ButtonModel",
      "state": {
       "description": "Order > 2",
       "layout": "IPY_MODEL_63e9c373cefb4f18bea2bf455ba23735",
       "style": "IPY_MODEL_9874741919354b279b5ed024559658e7"
      }
     },
     "144a08e3f8af49d5884bfc752221f30a": {
      "model_module": "@jupyter-widgets/controls",
      "model_module_version": "1.4.0",
      "model_name": "ButtonStyleModel",
      "state": {}
     },
     "14d7b15ce9bf44cd8deefc0ec87dcc84": {
      "model_module": "@jupyter-widgets/base",
      "model_module_version": "1.1.0",
      "model_name": "LayoutModel",
      "state": {}
     },
     "15010561c2934656ababf2da1fd017f4": {
      "model_module": "@jupyter-widgets/controls",
      "model_module_version": "1.4.0",
      "model_name": "TextModel",
      "state": {
       "description": "T :",
       "layout": "IPY_MODEL_e7a334b8e799483a9dd690bfc66cbc59",
       "placeholder": "Type a value for T",
       "style": "IPY_MODEL_2ae67796c66e485fb21a1eb0abe08218",
       "value": "2"
      }
     },
     "155913437ac74a0187232a35e292933b": {
      "model_module": "@jupyter-widgets/controls",
      "model_module_version": "1.4.0",
      "model_name": "ButtonStyleModel",
      "state": {}
     },
     "1570a76f32ba4665bb26f32a917a406a": {
      "model_module": "@jupyter-widgets/controls",
      "model_module_version": "1.4.0",
      "model_name": "ButtonModel",
      "state": {
       "description": "Order 2",
       "layout": "IPY_MODEL_ea88be34d76b4e02a98df89bd8dce3eb",
       "style": "IPY_MODEL_623f81f1d23449e2831ae6763bd159bd"
      }
     },
     "15828fd301794268a7fc6e3f88de4ada": {
      "model_module": "@jupyter-widgets/controls",
      "model_module_version": "1.4.0",
      "model_name": "ButtonModel",
      "state": {
       "description": "Order 1",
       "layout": "IPY_MODEL_7f03705aafb74c3baf5a2f9243a05fcd",
       "style": "IPY_MODEL_91922a64b7e442b4b64ab7864e2e3283"
      }
     },
     "15dc279e481f41da9c2525be9ee9a1a3": {
      "model_module": "@jupyter-widgets/controls",
      "model_module_version": "1.4.0",
      "model_name": "TextModel",
      "state": {
       "description": "T :",
       "layout": "IPY_MODEL_ef9d3620e6a64520b5fec7d7d0dd196b",
       "placeholder": "Type a value for T",
       "style": "IPY_MODEL_843cd12d1ca9440e8b8b9016de43dfa4"
      }
     },
     "15df64609bc94c9d9673b0010aa4667d": {
      "model_module": "@jupyter-widgets/controls",
      "model_module_version": "1.4.0",
      "model_name": "ButtonModel",
      "state": {
       "description": "Order 1",
       "layout": "IPY_MODEL_4d19512769114ac1873e03b3a379e808",
       "style": "IPY_MODEL_555b86c3d57942259d81152ba8a58c6f"
      }
     },
     "15f9439875a8436ea496ca29d176b397": {
      "model_module": "@jupyter-widgets/base",
      "model_module_version": "1.1.0",
      "model_name": "LayoutModel",
      "state": {}
     },
     "1600a9ff9723411eb2eca39825d70a97": {
      "model_module": "@jupyter-widgets/base",
      "model_module_version": "1.1.0",
      "model_name": "LayoutModel",
      "state": {}
     },
     "1600d5958c514692bd8e9b53baf52695": {
      "model_module": "@jupyter-widgets/controls",
      "model_module_version": "1.4.0",
      "model_name": "TextModel",
      "state": {
       "description": "K :",
       "layout": "IPY_MODEL_571d76eb267e44468b9c1e5eb44269dd",
       "placeholder": "Type a value for K",
       "style": "IPY_MODEL_16a7ee9512bc46d4bedcc3b1eb1a6348",
       "value": "6"
      }
     },
     "16490d205ee14a1bae094520b31de0c5": {
      "model_module": "@jupyter-widgets/controls",
      "model_module_version": "1.4.0",
      "model_name": "ButtonStyleModel",
      "state": {}
     },
     "1677e443fb5b4b41879be4436d774c90": {
      "model_module": "@jupyter-widgets/controls",
      "model_module_version": "1.4.0",
      "model_name": "HBoxModel",
      "state": {
       "children": [
        "IPY_MODEL_2a8bc9cb1bf94bf0bf1f8e674b46bb34",
        "IPY_MODEL_c0e068ad7d524e58bced72f60f55bee7",
        "IPY_MODEL_ecfa3c837d684c3a9c7ffcf72281cfa7"
       ],
       "layout": "IPY_MODEL_912cfa2cd3db464e893875d1255ce349"
      }
     },
     "167b45f92232473685f8edd7b15fcb11": {
      "model_module": "@jupyter-widgets/controls",
      "model_module_version": "1.4.0",
      "model_name": "ButtonModel",
      "state": {
       "description": "Order 2",
       "layout": "IPY_MODEL_59e615df7cd641f7b79e0aa342902319",
       "style": "IPY_MODEL_45ee21e317d14a9ab393bbf585dd3e0f"
      }
     },
     "16a6e5bb503b4a8bb4016ec1bbc12e6c": {
      "model_module": "@jupyter-widgets/controls",
      "model_module_version": "1.4.0",
      "model_name": "ButtonStyleModel",
      "state": {}
     },
     "16a7ee9512bc46d4bedcc3b1eb1a6348": {
      "model_module": "@jupyter-widgets/controls",
      "model_module_version": "1.4.0",
      "model_name": "DescriptionStyleModel",
      "state": {
       "description_width": ""
      }
     },
     "16b6553b275640d997c5536c70ce4bd9": {
      "model_module": "@jupyter-widgets/base",
      "model_module_version": "1.1.0",
      "model_name": "LayoutModel",
      "state": {}
     },
     "16c02c7464f24fb9a8372e7366cb81b7": {
      "model_module": "@jupyter-widgets/base",
      "model_module_version": "1.1.0",
      "model_name": "LayoutModel",
      "state": {}
     },
     "17042e5fdc2e4ee9aa87f44ea9640669": {
      "model_module": "@jupyter-widgets/controls",
      "model_module_version": "1.4.0",
      "model_name": "HBoxModel",
      "state": {
       "children": [
        "IPY_MODEL_86408e47ee79471dad5a22d7078aa485",
        "IPY_MODEL_ed6f037bd1f4418d989e8bc603bc44d3",
        "IPY_MODEL_7b3ae5702876487c97ad2b5fab2993f7"
       ],
       "layout": "IPY_MODEL_bfb9c7e5b740460590a377038dcde1a0"
      }
     },
     "1736508776f444b1bbde5546343e0988": {
      "model_module": "@jupyter-widgets/base",
      "model_module_version": "1.1.0",
      "model_name": "LayoutModel",
      "state": {}
     },
     "176b54c08a5c4a3ea9f8c34d44033725": {
      "model_module": "@jupyter-widgets/controls",
      "model_module_version": "1.4.0",
      "model_name": "TextModel",
      "state": {
       "description": "T :",
       "layout": "IPY_MODEL_02bf126c849f4d5b8089a90dae15ec15",
       "placeholder": "Type a value for T",
       "style": "IPY_MODEL_5ac87ed48155403ea6f92991471a0db1",
       "value": "9"
      }
     },
     "17a1fa41fc1748eca0b4b9647ed9ce3a": {
      "model_module": "@jupyter-widgets/base",
      "model_module_version": "1.1.0",
      "model_name": "LayoutModel",
      "state": {}
     },
     "17bdce73cd0c4c60b79f583a89879d0b": {
      "model_module": "@jupyter-widgets/controls",
      "model_module_version": "1.4.0",
      "model_name": "TextModel",
      "state": {
       "description": "T :",
       "layout": "IPY_MODEL_4d6518c563484a18a7c7af13eeeae1fe",
       "placeholder": "Type a value for T",
       "style": "IPY_MODEL_120db9349afb46019aecebd644141a52",
       "value": "2"
      }
     },
     "17d12e5a28bf4713960426e0591ad036": {
      "model_module": "@jupyter-widgets/base",
      "model_module_version": "1.1.0",
      "model_name": "LayoutModel",
      "state": {}
     },
     "17d5b3f3e69948bea028884ca2b4cce1": {
      "model_module": "@jupyter-widgets/controls",
      "model_module_version": "1.4.0",
      "model_name": "ButtonModel",
      "state": {
       "description": "Order 1",
       "layout": "IPY_MODEL_c4abc264f61249cdbd75d75f97f2e8d2",
       "style": "IPY_MODEL_6de3d76711094d26b9ea15b6dc73e9f2"
      }
     },
     "17e44ef20e2145348e3cf7e023296b62": {
      "model_module": "@jupyter-widgets/controls",
      "model_module_version": "1.4.0",
      "model_name": "TextModel",
      "state": {
       "description": "T :",
       "layout": "IPY_MODEL_216da1d9c43242e9b13754f678bace9a",
       "placeholder": "Type a value for T",
       "style": "IPY_MODEL_21a044f12cd5467a82862a077c39a6e0",
       "value": "7"
      }
     },
     "18453ea32a074d06bf440f5a475a4ce0": {
      "model_module": "@jupyter-widgets/base",
      "model_module_version": "1.1.0",
      "model_name": "LayoutModel",
      "state": {}
     },
     "185e1dfb06d44764bd357eabbd3268cc": {
      "model_module": "@jupyter-widgets/controls",
      "model_module_version": "1.4.0",
      "model_name": "TextModel",
      "state": {
       "description": "K :",
       "layout": "IPY_MODEL_13974a87290a427ca13d9d8320031294",
       "placeholder": "Type a value for K",
       "style": "IPY_MODEL_393d601f301744f8b0cc719ca1f472a8",
       "value": "2"
      }
     },
     "189eac1ae91c418b95c71732e0690558": {
      "model_module": "@jupyter-widgets/controls",
      "model_module_version": "1.4.0",
      "model_name": "TextModel",
      "state": {
       "description": "K :",
       "layout": "IPY_MODEL_a65219b415cb40eaa15bd1179fd3a5a0",
       "placeholder": "Type a value for K",
       "style": "IPY_MODEL_69201fd8460e4ec9b5281392a0c8c1e3",
       "value": "2"
      }
     },
     "18ab05b01c70486e8a4bc518e89ef81e": {
      "model_module": "@jupyter-widgets/controls",
      "model_module_version": "1.4.0",
      "model_name": "ButtonStyleModel",
      "state": {}
     },
     "18b1cac16d40482ca38d9930c520b8da": {
      "model_module": "@jupyter-widgets/base",
      "model_module_version": "1.1.0",
      "model_name": "LayoutModel",
      "state": {}
     },
     "191a7baf25ed4ef9bd1eb0d488268c46": {
      "model_module": "@jupyter-widgets/controls",
      "model_module_version": "1.4.0",
      "model_name": "ButtonStyleModel",
      "state": {}
     },
     "19468adbcf98468093d1ae445f5daefb": {
      "model_module": "@jupyter-widgets/controls",
      "model_module_version": "1.4.0",
      "model_name": "ButtonModel",
      "state": {
       "description": "Order 1",
       "layout": "IPY_MODEL_4143f64c630e4920b465bff784a27231",
       "style": "IPY_MODEL_b5a0eabd00cd4f0bb8d5bd5048354562"
      }
     },
     "1953b9b60efb454d9dd77b2a7839777f": {
      "model_module": "@jupyter-widgets/controls",
      "model_module_version": "1.4.0",
      "model_name": "ButtonModel",
      "state": {
       "description": "Order 1",
       "layout": "IPY_MODEL_5bd4cd927d82433c9dbc81bc53ab7dd2",
       "style": "IPY_MODEL_9876fdda6c794949b6f5e531d0622f08"
      }
     },
     "1963144aefc54de7afdd2c7a0d6a7688": {
      "model_module": "@jupyter-widgets/base",
      "model_module_version": "1.1.0",
      "model_name": "LayoutModel",
      "state": {}
     },
     "1a5310f64b2f41b8bd77de07eb8b7034": {
      "model_module": "@jupyter-widgets/controls",
      "model_module_version": "1.4.0",
      "model_name": "TextModel",
      "state": {
       "description": "K :",
       "layout": "IPY_MODEL_2602ddb0b22c4908aaccad608bec7849",
       "placeholder": "Type a value for K",
       "style": "IPY_MODEL_10b58c6568b94a699f51f8351deb126e",
       "value": "1"
      }
     },
     "1a5e9cbf341a453c8a7f7b00aa301514": {
      "model_module": "@jupyter-widgets/controls",
      "model_module_version": "1.4.0",
      "model_name": "ButtonModel",
      "state": {
       "description": "Order > 2",
       "layout": "IPY_MODEL_c447dda5249c4862ac076cf55b54b32f",
       "style": "IPY_MODEL_cf7c7606c30f44bbac8e983680a1e656"
      }
     },
     "1a68e2d33b814afcbc7e087817219b4a": {
      "model_module": "@jupyter-widgets/controls",
      "model_module_version": "1.4.0",
      "model_name": "ButtonModel",
      "state": {
       "description": "Order 1",
       "layout": "IPY_MODEL_57f92bfdaf444081aae6e76706122c20",
       "style": "IPY_MODEL_012d1ce6e0754d0388ca83698b6b47b4"
      }
     },
     "1aaa53aaa9ee4c5b852803017ffae074": {
      "model_module": "@jupyter-widgets/base",
      "model_module_version": "1.1.0",
      "model_name": "LayoutModel",
      "state": {}
     },
     "1bd4c3452e754e2e95ad7b02736f8f00": {
      "model_module": "@jupyter-widgets/base",
      "model_module_version": "1.1.0",
      "model_name": "LayoutModel",
      "state": {}
     },
     "1c431f41d9354f728b12742a87008d3b": {
      "model_module": "@jupyter-widgets/base",
      "model_module_version": "1.1.0",
      "model_name": "LayoutModel",
      "state": {}
     },
     "1c6f1039ef4f42a294f6b7895be78855": {
      "model_module": "@jupyter-widgets/controls",
      "model_module_version": "1.4.0",
      "model_name": "HBoxModel",
      "state": {
       "children": [
        "IPY_MODEL_7d1a3f4b2dd04c60a70f52417b29a806",
        "IPY_MODEL_62d73bf36da14296beaf7848d5c6bcb0",
        "IPY_MODEL_bf7cad2b095a4792a113f8893f5166a8"
       ],
       "layout": "IPY_MODEL_97a4a597e53e40a383cd736269528c68"
      }
     },
     "1c76ee2a871147d7bbc3b2429f48f01f": {
      "model_module": "@jupyter-widgets/controls",
      "model_module_version": "1.4.0",
      "model_name": "ButtonStyleModel",
      "state": {}
     },
     "1cdeda49cb784361bcffdaaf3f56d592": {
      "model_module": "@jupyter-widgets/controls",
      "model_module_version": "1.4.0",
      "model_name": "ButtonStyleModel",
      "state": {}
     },
     "1d445c6eb560450c891548c966ca503e": {
      "model_module": "@jupyter-widgets/controls",
      "model_module_version": "1.4.0",
      "model_name": "DescriptionStyleModel",
      "state": {
       "description_width": ""
      }
     },
     "1d9351bdb5b14aa4a2b501601302dffe": {
      "model_module": "@jupyter-widgets/controls",
      "model_module_version": "1.4.0",
      "model_name": "ButtonStyleModel",
      "state": {}
     },
     "1db8180d12614e81bcbd98d8e8861378": {
      "model_module": "@jupyter-widgets/controls",
      "model_module_version": "1.4.0",
      "model_name": "DescriptionStyleModel",
      "state": {
       "description_width": ""
      }
     },
     "1dcd9085f2144791a2ed998e9cdd42d5": {
      "model_module": "@jupyter-widgets/base",
      "model_module_version": "1.1.0",
      "model_name": "LayoutModel",
      "state": {}
     },
     "1dcf54ac07594b96999e30d811118302": {
      "model_module": "@jupyter-widgets/base",
      "model_module_version": "1.1.0",
      "model_name": "LayoutModel",
      "state": {}
     },
     "1de8945b5a9d45fe9ece60609723e734": {
      "model_module": "@jupyter-widgets/base",
      "model_module_version": "1.1.0",
      "model_name": "LayoutModel",
      "state": {}
     },
     "1e03f3291f344264af6a34d1624cf96d": {
      "model_module": "@jupyter-widgets/controls",
      "model_module_version": "1.4.0",
      "model_name": "TextModel",
      "state": {
       "description": "T :",
       "layout": "IPY_MODEL_bb8e1ef0fc7848388a01dd2164c98802",
       "placeholder": "Type a value for T",
       "style": "IPY_MODEL_331a0431f98940e7bdaee6133e9716c0",
       "value": "3"
      }
     },
     "1e164b3ed77a4596a3cf85ca80b3419f": {
      "model_module": "@jupyter-widgets/base",
      "model_module_version": "1.1.0",
      "model_name": "LayoutModel",
      "state": {}
     },
     "1e5c84bfb100400c97b870cb92845697": {
      "model_module": "@jupyter-widgets/controls",
      "model_module_version": "1.4.0",
      "model_name": "ButtonModel",
      "state": {
       "description": "Order 1",
       "layout": "IPY_MODEL_243c6d74a8dc4a368c5dc5a1116b71f6",
       "style": "IPY_MODEL_e653f909ccb944c58deb2bb7f2c853c1"
      }
     },
     "1f501746ee7344fbb6a51514183baab3": {
      "model_module": "@jupyter-widgets/controls",
      "model_module_version": "1.4.0",
      "model_name": "ButtonStyleModel",
      "state": {}
     },
     "1fb80fb773074f05bdb9ce76fd4705b8": {
      "model_module": "@jupyter-widgets/base",
      "model_module_version": "1.1.0",
      "model_name": "LayoutModel",
      "state": {}
     },
     "20409f103cde40a8ac0e3f9387c5eb89": {
      "model_module": "@jupyter-widgets/base",
      "model_module_version": "1.1.0",
      "model_name": "LayoutModel",
      "state": {}
     },
     "205b8b69ab4c416691b1fdbb2aa864b3": {
      "model_module": "@jupyter-widgets/controls",
      "model_module_version": "1.4.0",
      "model_name": "HBoxModel",
      "state": {
       "children": [
        "IPY_MODEL_b88dfb166dd14ab8b13d8302c3785efa",
        "IPY_MODEL_a2889b020e44411087628665cddc7bd0",
        "IPY_MODEL_8f5f511757ed415da3714d891f243a3a"
       ],
       "layout": "IPY_MODEL_f1d008f5a63c4ab28d5c16930a3d73e2"
      }
     },
     "20d70f97901f45d388324da1051430cf": {
      "model_module": "@jupyter-widgets/base",
      "model_module_version": "1.1.0",
      "model_name": "LayoutModel",
      "state": {}
     },
     "211ca5092aee402ea7cad5331e2a00de": {
      "model_module": "@jupyter-widgets/base",
      "model_module_version": "1.1.0",
      "model_name": "LayoutModel",
      "state": {}
     },
     "216da1d9c43242e9b13754f678bace9a": {
      "model_module": "@jupyter-widgets/base",
      "model_module_version": "1.1.0",
      "model_name": "LayoutModel",
      "state": {}
     },
     "21a044f12cd5467a82862a077c39a6e0": {
      "model_module": "@jupyter-widgets/controls",
      "model_module_version": "1.4.0",
      "model_name": "DescriptionStyleModel",
      "state": {
       "description_width": ""
      }
     },
     "2211126b939a4d37af85913f054f33a1": {
      "model_module": "@jupyter-widgets/base",
      "model_module_version": "1.1.0",
      "model_name": "LayoutModel",
      "state": {}
     },
     "2216418718c644e1855691249053fc67": {
      "model_module": "@jupyter-widgets/controls",
      "model_module_version": "1.4.0",
      "model_name": "ButtonModel",
      "state": {
       "description": "Order 2",
       "layout": "IPY_MODEL_df5af860cf684d699372abe5d7ed063a",
       "style": "IPY_MODEL_8652c24a0e0a46dd81acec3ee8a549c7"
      }
     },
     "223c45221b7544f48507501a145defe0": {
      "model_module": "@jupyter-widgets/controls",
      "model_module_version": "1.4.0",
      "model_name": "TextModel",
      "state": {
       "description": "T :",
       "layout": "IPY_MODEL_83835993fcc942bc85e9f38c580a89a0",
       "placeholder": "Type a value for T",
       "style": "IPY_MODEL_b599245f710643d2b74cc30411f6f1d9",
       "value": "0.7"
      }
     },
     "22d5c22cb35343f2b44bb32d1f1854d3": {
      "model_module": "@jupyter-widgets/controls",
      "model_module_version": "1.4.0",
      "model_name": "ButtonModel",
      "state": {
       "description": "Order > 2",
       "layout": "IPY_MODEL_382f750f25df41ad9803fcb314beb003",
       "style": "IPY_MODEL_d34020160540418c9a4faf0d99e55402"
      }
     },
     "232e2992a032446686c32af92183de00": {
      "model_module": "@jupyter-widgets/controls",
      "model_module_version": "1.4.0",
      "model_name": "ButtonStyleModel",
      "state": {}
     },
     "2386a3f8b9714f0497848e9cc6fb2db1": {
      "model_module": "@jupyter-widgets/controls",
      "model_module_version": "1.4.0",
      "model_name": "TextModel",
      "state": {
       "description": "T :",
       "layout": "IPY_MODEL_d7382f6f4cce4d27afdd2ddbebbb5519",
       "placeholder": "Type a value for T",
       "style": "IPY_MODEL_1d445c6eb560450c891548c966ca503e",
       "value": "9"
      }
     },
     "2394f19faf974c49b180d7085c71c693": {
      "model_module": "@jupyter-widgets/base",
      "model_module_version": "1.1.0",
      "model_name": "LayoutModel",
      "state": {}
     },
     "239d74c4f3d74a35b38e55b86e717d45": {
      "model_module": "@jupyter-widgets/base",
      "model_module_version": "1.1.0",
      "model_name": "LayoutModel",
      "state": {}
     },
     "2413d80736494b13b98e08484147ac9a": {
      "model_module": "@jupyter-widgets/base",
      "model_module_version": "1.1.0",
      "model_name": "LayoutModel",
      "state": {}
     },
     "243c6d74a8dc4a368c5dc5a1116b71f6": {
      "model_module": "@jupyter-widgets/base",
      "model_module_version": "1.1.0",
      "model_name": "LayoutModel",
      "state": {}
     },
     "2461e1ef1d934237999306f1a856a361": {
      "model_module": "@jupyter-widgets/controls",
      "model_module_version": "1.4.0",
      "model_name": "DescriptionStyleModel",
      "state": {
       "description_width": ""
      }
     },
     "246b5d0cc9a5444b965411e8fcff699e": {
      "model_module": "@jupyter-widgets/base",
      "model_module_version": "1.1.0",
      "model_name": "LayoutModel",
      "state": {}
     },
     "249d8cdbc04149a69beba2e1720c03ee": {
      "model_module": "@jupyter-widgets/base",
      "model_module_version": "1.1.0",
      "model_name": "LayoutModel",
      "state": {}
     },
     "2503771a94724daaa89a794a635375d8": {
      "model_module": "@jupyter-widgets/controls",
      "model_module_version": "1.4.0",
      "model_name": "DescriptionStyleModel",
      "state": {
       "description_width": ""
      }
     },
     "254bb2e10ffe42c08c100f2537d87d05": {
      "model_module": "@jupyter-widgets/controls",
      "model_module_version": "1.4.0",
      "model_name": "ButtonStyleModel",
      "state": {}
     },
     "258ab7c0fb0d4cc09562102058993539": {
      "model_module": "@jupyter-widgets/base",
      "model_module_version": "1.1.0",
      "model_name": "LayoutModel",
      "state": {}
     },
     "258f6906e34a4b98804838566705ebed": {
      "model_module": "@jupyter-widgets/base",
      "model_module_version": "1.1.0",
      "model_name": "LayoutModel",
      "state": {}
     },
     "25908f6047f2413bb675e4939d39a918": {
      "model_module": "@jupyter-widgets/controls",
      "model_module_version": "1.4.0",
      "model_name": "DescriptionStyleModel",
      "state": {
       "description_width": ""
      }
     },
     "25981e3064464403b7d4ff0b1875137a": {
      "model_module": "@jupyter-widgets/base",
      "model_module_version": "1.1.0",
      "model_name": "LayoutModel",
      "state": {}
     },
     "25be42d2cab0493f919c9139f1744a23": {
      "model_module": "@jupyter-widgets/controls",
      "model_module_version": "1.4.0",
      "model_name": "ButtonModel",
      "state": {
       "description": "Order > 2",
       "layout": "IPY_MODEL_71749322f09f4611bb2b47423a18fa67",
       "style": "IPY_MODEL_2def4ad2d8324fbf8bd29b1e0a406e0a"
      }
     },
     "25ca3da44c6d476d9d7d81665908436c": {
      "model_module": "@jupyter-widgets/controls",
      "model_module_version": "1.4.0",
      "model_name": "ButtonModel",
      "state": {
       "description": "Valider",
       "layout": "IPY_MODEL_4fa76d5ca2dc4750b683080159954064",
       "style": "IPY_MODEL_57cada8e658145ac9f9ff99c46e8ca04"
      }
     },
     "25e18771d93e4a3b90f7ea6552a552fe": {
      "model_module": "@jupyter-widgets/base",
      "model_module_version": "1.1.0",
      "model_name": "LayoutModel",
      "state": {}
     },
     "25e45e72a79a4938bcf0ea545f36fc44": {
      "model_module": "@jupyter-widgets/base",
      "model_module_version": "1.1.0",
      "model_name": "LayoutModel",
      "state": {}
     },
     "2602ddb0b22c4908aaccad608bec7849": {
      "model_module": "@jupyter-widgets/base",
      "model_module_version": "1.1.0",
      "model_name": "LayoutModel",
      "state": {}
     },
     "263baf1ef416416497e0fb7015ba83a3": {
      "model_module": "@jupyter-widgets/controls",
      "model_module_version": "1.4.0",
      "model_name": "ButtonModel",
      "state": {
       "description": "Order 2",
       "layout": "IPY_MODEL_246b5d0cc9a5444b965411e8fcff699e",
       "style": "IPY_MODEL_4e62630d5ceb41dd86d5381fb616a957"
      }
     },
     "26e51f1a75584af5b9f0bfdb00d925d7": {
      "model_module": "@jupyter-widgets/controls",
      "model_module_version": "1.4.0",
      "model_name": "ButtonStyleModel",
      "state": {}
     },
     "26f86b886dc440fd9a56d1b3c3e498bf": {
      "model_module": "@jupyter-widgets/base",
      "model_module_version": "1.1.0",
      "model_name": "LayoutModel",
      "state": {}
     },
     "272786c52f9b470ca9b0cc68e3d94dab": {
      "model_module": "@jupyter-widgets/base",
      "model_module_version": "1.1.0",
      "model_name": "LayoutModel",
      "state": {}
     },
     "272bd937aa284bdda51f336d59f558a2": {
      "model_module": "@jupyter-widgets/controls",
      "model_module_version": "1.4.0",
      "model_name": "ButtonStyleModel",
      "state": {}
     },
     "27a0c3eb2ecb48ab9b27a0fd9eab4531": {
      "model_module": "@jupyter-widgets/base",
      "model_module_version": "1.1.0",
      "model_name": "LayoutModel",
      "state": {}
     },
     "27b83b8087424494b871ad1fc044795d": {
      "model_module": "@jupyter-widgets/base",
      "model_module_version": "1.1.0",
      "model_name": "LayoutModel",
      "state": {}
     },
     "27d27432bbac4386934661da08546091": {
      "model_module": "@jupyter-widgets/controls",
      "model_module_version": "1.4.0",
      "model_name": "ButtonStyleModel",
      "state": {}
     },
     "28458cbc885e40da82d183a60751b294": {
      "model_module": "@jupyter-widgets/controls",
      "model_module_version": "1.4.0",
      "model_name": "DescriptionStyleModel",
      "state": {
       "description_width": ""
      }
     },
     "28a802800a444235bcf4b8ea17e0c573": {
      "model_module": "@jupyter-widgets/controls",
      "model_module_version": "1.4.0",
      "model_name": "HBoxModel",
      "state": {
       "children": [
        "IPY_MODEL_32dd37c70ae1412c82c9edbb96aebc26",
        "IPY_MODEL_b133f26e87514f7a84a4443c3fdb529f",
        "IPY_MODEL_1a5e9cbf341a453c8a7f7b00aa301514"
       ],
       "layout": "IPY_MODEL_f7744f2af57445b9921349db6258dba5"
      }
     },
     "28b23194a7a64a008af7af1a332cc745": {
      "model_module": "@jupyter-widgets/base",
      "model_module_version": "1.1.0",
      "model_name": "LayoutModel",
      "state": {}
     },
     "2971ff2834ed4cd8b8e57e6266f5b0bb": {
      "model_module": "@jupyter-widgets/base",
      "model_module_version": "1.1.0",
      "model_name": "LayoutModel",
      "state": {}
     },
     "29d8f7f8dddd4c7c99a18d206dbbf038": {
      "model_module": "@jupyter-widgets/base",
      "model_module_version": "1.1.0",
      "model_name": "LayoutModel",
      "state": {}
     },
     "2a05a142beab44b9b6474d2aec44843d": {
      "model_module": "@jupyter-widgets/controls",
      "model_module_version": "1.4.0",
      "model_name": "DescriptionStyleModel",
      "state": {
       "description_width": ""
      }
     },
     "2a4580c7d1044bbaa00912c62052c41d": {
      "model_module": "@jupyter-widgets/controls",
      "model_module_version": "1.4.0",
      "model_name": "ButtonModel",
      "state": {
       "description": "Order 2",
       "layout": "IPY_MODEL_5a33ad7b0980464b950a9fd180a31a8d",
       "style": "IPY_MODEL_60334d5485f6424f835ecc089e16580f"
      }
     },
     "2a593c92c1bb4c2383d0fdf8f1ceb5c4": {
      "model_module": "@jupyter-widgets/base",
      "model_module_version": "1.1.0",
      "model_name": "LayoutModel",
      "state": {}
     },
     "2a8bc9cb1bf94bf0bf1f8e674b46bb34": {
      "model_module": "@jupyter-widgets/controls",
      "model_module_version": "1.4.0",
      "model_name": "ButtonModel",
      "state": {
       "description": "Order 1",
       "layout": "IPY_MODEL_9e2aa765ced742409e65c173eb533327",
       "style": "IPY_MODEL_812406114d294e12920285c7b9f9828c"
      }
     },
     "2a96711376ba40c0b35b283c7bfe992e": {
      "model_module": "@jupyter-widgets/base",
      "model_module_version": "1.1.0",
      "model_name": "LayoutModel",
      "state": {}
     },
     "2ab2ff43039848f4bca7cab1deeebe39": {
      "model_module": "@jupyter-widgets/controls",
      "model_module_version": "1.4.0",
      "model_name": "ButtonModel",
      "state": {
       "description": "Valider",
       "layout": "IPY_MODEL_9add005d8f074f32a5540cc9509bb995",
       "style": "IPY_MODEL_26e51f1a75584af5b9f0bfdb00d925d7"
      }
     },
     "2ae67796c66e485fb21a1eb0abe08218": {
      "model_module": "@jupyter-widgets/controls",
      "model_module_version": "1.4.0",
      "model_name": "DescriptionStyleModel",
      "state": {
       "description_width": ""
      }
     },
     "2b5d81956e604047a3d6396481939695": {
      "model_module": "@jupyter-widgets/controls",
      "model_module_version": "1.4.0",
      "model_name": "DescriptionStyleModel",
      "state": {
       "description_width": ""
      }
     },
     "2b9acc43c2754e36af8f8b19a75fd36d": {
      "model_module": "@jupyter-widgets/controls",
      "model_module_version": "1.4.0",
      "model_name": "DescriptionStyleModel",
      "state": {
       "description_width": ""
      }
     },
     "2baaf774d6e14088b9a24df5b12f017d": {
      "model_module": "@jupyter-widgets/controls",
      "model_module_version": "1.4.0",
      "model_name": "ButtonStyleModel",
      "state": {}
     },
     "2c2e693d5fed4968831c8beb66a48cd3": {
      "model_module": "@jupyter-widgets/base",
      "model_module_version": "1.1.0",
      "model_name": "LayoutModel",
      "state": {}
     },
     "2c39a35b7b1745528f5fa2cefc663cf4": {
      "model_module": "@jupyter-widgets/base",
      "model_module_version": "1.1.0",
      "model_name": "LayoutModel",
      "state": {}
     },
     "2c452fd9a4b94a518100fd6178850ccd": {
      "model_module": "@jupyter-widgets/base",
      "model_module_version": "1.1.0",
      "model_name": "LayoutModel",
      "state": {}
     },
     "2c5f47f0a7254e128902b1287edaa5db": {
      "model_module": "@jupyter-widgets/controls",
      "model_module_version": "1.4.0",
      "model_name": "TextModel",
      "state": {
       "description": "K :",
       "layout": "IPY_MODEL_cd622f12d5ae4df2ada93549a81a4d6c",
       "placeholder": "Type a value for K",
       "style": "IPY_MODEL_07bf29b6fee44cf69c5a9a9f1dd7a4b0",
       "value": "3"
      }
     },
     "2c79a4a65e444991a7c7868e1b2fdcd9": {
      "model_module": "@jupyter-widgets/base",
      "model_module_version": "1.1.0",
      "model_name": "LayoutModel",
      "state": {}
     },
     "2cd5f46c468844b986343b3abec017b4": {
      "model_module": "@jupyter-widgets/base",
      "model_module_version": "1.1.0",
      "model_name": "LayoutModel",
      "state": {}
     },
     "2ce5022489d248ba95961ece0c6b15aa": {
      "model_module": "@jupyter-widgets/base",
      "model_module_version": "1.1.0",
      "model_name": "LayoutModel",
      "state": {}
     },
     "2cf367866a664bddaf2619e4dd65acb5": {
      "model_module": "@jupyter-widgets/base",
      "model_module_version": "1.1.0",
      "model_name": "LayoutModel",
      "state": {}
     },
     "2d127b5f88a147d9a1cf4850f006d523": {
      "model_module": "@jupyter-widgets/controls",
      "model_module_version": "1.4.0",
      "model_name": "HBoxModel",
      "state": {
       "children": [
        "IPY_MODEL_08b347cbe0594a85a58d1bf711cd228b",
        "IPY_MODEL_50e0f760f4934bf790c98f2f46fb8bec",
        "IPY_MODEL_b81e6feb2687460993dbbd5bc9e773b5"
       ],
       "layout": "IPY_MODEL_d760495742f941f3857d59c64418cdaa"
      }
     },
     "2d30f745fb94480799f17e3cab6c8517": {
      "model_module": "@jupyter-widgets/base",
      "model_module_version": "1.1.0",
      "model_name": "LayoutModel",
      "state": {}
     },
     "2d5425d5a0df4365924803116f0dc10e": {
      "model_module": "@jupyter-widgets/base",
      "model_module_version": "1.1.0",
      "model_name": "LayoutModel",
      "state": {}
     },
     "2d68b6891ded4fa9804229e1786ae0d0": {
      "model_module": "@jupyter-widgets/controls",
      "model_module_version": "1.4.0",
      "model_name": "ButtonModel",
      "state": {
       "description": "Order > 2",
       "layout": "IPY_MODEL_3d9e7d8424b442c8977bb8b3c5259391",
       "style": "IPY_MODEL_bc040099ee484241ad113579d805737c"
      }
     },
     "2dac3761b3c0489bbaa9e3ebc28d337e": {
      "model_module": "@jupyter-widgets/base",
      "model_module_version": "1.1.0",
      "model_name": "LayoutModel",
      "state": {}
     },
     "2db3c54238cd44e9988866e2610389a1": {
      "model_module": "@jupyter-widgets/base",
      "model_module_version": "1.1.0",
      "model_name": "LayoutModel",
      "state": {}
     },
     "2def4ad2d8324fbf8bd29b1e0a406e0a": {
      "model_module": "@jupyter-widgets/controls",
      "model_module_version": "1.4.0",
      "model_name": "ButtonStyleModel",
      "state": {}
     },
     "2e3f2c3c9d8b4d6abaa8a1f960e37fe6": {
      "model_module": "@jupyter-widgets/base",
      "model_module_version": "1.1.0",
      "model_name": "LayoutModel",
      "state": {}
     },
     "2e401131c95347d8802365522ca56000": {
      "model_module": "@jupyter-widgets/controls",
      "model_module_version": "1.4.0",
      "model_name": "ButtonStyleModel",
      "state": {}
     },
     "2e44a60950dc4b7b905c06cee358ae56": {
      "model_module": "@jupyter-widgets/controls",
      "model_module_version": "1.4.0",
      "model_name": "TextModel",
      "state": {
       "description": "K :",
       "layout": "IPY_MODEL_824f80f5567a47f9bbb23bd1b7b8bfd1",
       "placeholder": "Type a value for K",
       "style": "IPY_MODEL_588082cead2c41be8dfa70ff2a954194",
       "value": "1"
      }
     },
     "2e49b1f54b914573a460b682eccc9e16": {
      "model_module": "@jupyter-widgets/controls",
      "model_module_version": "1.4.0",
      "model_name": "ButtonStyleModel",
      "state": {}
     },
     "2ed0b5642b1d40e6a75858e1474a77b6": {
      "model_module": "@jupyter-widgets/base",
      "model_module_version": "1.1.0",
      "model_name": "LayoutModel",
      "state": {}
     },
     "2ed361938f744249bcb1f85a5b748a51": {
      "model_module": "@jupyter-widgets/controls",
      "model_module_version": "1.4.0",
      "model_name": "ButtonModel",
      "state": {
       "description": "Order 2",
       "layout": "IPY_MODEL_50fddce638bf4707b9b5a17d492bdb83",
       "style": "IPY_MODEL_018a919b3f424704a2b6c59040c317f1"
      }
     },
     "2ee939f2428e42d69a6b3b9fbc3f15cd": {
      "model_module": "@jupyter-widgets/base",
      "model_module_version": "1.1.0",
      "model_name": "LayoutModel",
      "state": {}
     },
     "2f1b8ad614aa495f909d7d52035fbde2": {
      "model_module": "@jupyter-widgets/controls",
      "model_module_version": "1.4.0",
      "model_name": "ButtonModel",
      "state": {
       "description": "Order 2",
       "layout": "IPY_MODEL_2a593c92c1bb4c2383d0fdf8f1ceb5c4",
       "style": "IPY_MODEL_86ac0d8f8b4840aaae62fdb715738e18"
      }
     },
     "2f20b966ff2f4b558855f9fca37d4b26": {
      "model_module": "@jupyter-widgets/base",
      "model_module_version": "1.1.0",
      "model_name": "LayoutModel",
      "state": {}
     },
     "2f2c13245fb443f189bb791be87f1d23": {
      "model_module": "@jupyter-widgets/controls",
      "model_module_version": "1.4.0",
      "model_name": "HBoxModel",
      "state": {
       "children": [
        "IPY_MODEL_6a2d296ab83a4a79a02885fb4128cc45",
        "IPY_MODEL_4ad0cdfbe4324995a262a22fd10ad902",
        "IPY_MODEL_832abff629fc4efbb9723168100ffe08"
       ],
       "layout": "IPY_MODEL_b7361aedfc5f4584a6cb209e5d2cff8d"
      }
     },
     "2f4048a3f3dc48569e8903728dd34d45": {
      "model_module": "@jupyter-widgets/base",
      "model_module_version": "1.1.0",
      "model_name": "LayoutModel",
      "state": {}
     },
     "2f615a54dc334090bdaaa2d13614e850": {
      "model_module": "@jupyter-widgets/controls",
      "model_module_version": "1.4.0",
      "model_name": "ButtonStyleModel",
      "state": {}
     },
     "2fe4994c79f64afaa5b207686a68418b": {
      "model_module": "@jupyter-widgets/base",
      "model_module_version": "1.1.0",
      "model_name": "LayoutModel",
      "state": {}
     },
     "30e9bcfdc6b74e939127e6c632e91630": {
      "model_module": "@jupyter-widgets/controls",
      "model_module_version": "1.4.0",
      "model_name": "ButtonModel",
      "state": {
       "description": "Order 2",
       "layout": "IPY_MODEL_a23c32d12b0149939f250269cf1ef5ca",
       "style": "IPY_MODEL_18ab05b01c70486e8a4bc518e89ef81e"
      }
     },
     "30fcb20af0954522981c095d62daf683": {
      "model_module": "@jupyter-widgets/controls",
      "model_module_version": "1.4.0",
      "model_name": "ButtonModel",
      "state": {
       "description": "Valider",
       "layout": "IPY_MODEL_2db3c54238cd44e9988866e2610389a1",
       "style": "IPY_MODEL_40dc56bcb19a4c2f8f4e2c3976b5d159"
      }
     },
     "314d4a6574b64c838577b5743d500c1b": {
      "model_module": "@jupyter-widgets/controls",
      "model_module_version": "1.4.0",
      "model_name": "ButtonModel",
      "state": {
       "description": "Order > 2",
       "layout": "IPY_MODEL_0efbe77c6a6a4a448065934f7a125bd8",
       "style": "IPY_MODEL_0de6bb24748344bcb1e37868ebdf30db"
      }
     },
     "3150fa2b410149d58e33132f2730c4c5": {
      "model_module": "@jupyter-widgets/controls",
      "model_module_version": "1.4.0",
      "model_name": "HBoxModel",
      "state": {
       "children": [
        "IPY_MODEL_5762a6645b9d44df91e7d6788c84fe8e",
        "IPY_MODEL_2216418718c644e1855691249053fc67",
        "IPY_MODEL_4bb372821cf641519cf075b4fed725b2"
       ],
       "layout": "IPY_MODEL_8f67c5567cf8441a8f7ca7b55c4bb38d"
      }
     },
     "31531b2f6f9d4ef4b01e9863d9333e46": {
      "model_module": "@jupyter-widgets/base",
      "model_module_version": "1.1.0",
      "model_name": "LayoutModel",
      "state": {}
     },
     "3157c56358db47df9fc4345fab4a5669": {
      "model_module": "@jupyter-widgets/base",
      "model_module_version": "1.1.0",
      "model_name": "LayoutModel",
      "state": {}
     },
     "3169b13486bc45a9b8df06e8648d1079": {
      "model_module": "@jupyter-widgets/controls",
      "model_module_version": "1.4.0",
      "model_name": "ButtonStyleModel",
      "state": {}
     },
     "318c647581d547f9bf26c9835aeae7ec": {
      "model_module": "@jupyter-widgets/base",
      "model_module_version": "1.1.0",
      "model_name": "LayoutModel",
      "state": {}
     },
     "318d04a92464488aa46df57d55dbf860": {
      "model_module": "@jupyter-widgets/controls",
      "model_module_version": "1.4.0",
      "model_name": "HBoxModel",
      "state": {
       "children": [
        "IPY_MODEL_9c6de3ccb0b94a41af0789cc2136f946",
        "IPY_MODEL_5eec8c2288a549108abc39bcdc6f179a",
        "IPY_MODEL_f1dd3cc73ce4460b8690bc828b9460f9"
       ],
       "layout": "IPY_MODEL_862091849d4044c0bc849efd33fb913d"
      }
     },
     "3190c933d52b490a8a48c29193e72be1": {
      "model_module": "@jupyter-widgets/controls",
      "model_module_version": "1.4.0",
      "model_name": "HBoxModel",
      "state": {
       "children": [
        "IPY_MODEL_7ee363774c9e49bab32b40dbb9f01c7d",
        "IPY_MODEL_5990827057c0476d8768c393fe690c3b",
        "IPY_MODEL_0946c7c34dd5413ebc87eace24c43f91"
       ],
       "layout": "IPY_MODEL_08cddf81ea164a369b62ac8eccbd0f3c"
      }
     },
     "31cdaad278d64344aed9d7622313cce3": {
      "model_module": "@jupyter-widgets/controls",
      "model_module_version": "1.4.0",
      "model_name": "TextModel",
      "state": {
       "description": "K :",
       "layout": "IPY_MODEL_6303a5e2e54f4c6d85153f7be2f46717",
       "placeholder": "Type a value for K",
       "style": "IPY_MODEL_bc7a7d54298141b0b5fdb2849ec70280",
       "value": "7"
      }
     },
     "3284cc34d55c48059f842b0d32e8f28f": {
      "model_module": "@jupyter-widgets/base",
      "model_module_version": "1.1.0",
      "model_name": "LayoutModel",
      "state": {}
     },
     "32dd37c70ae1412c82c9edbb96aebc26": {
      "model_module": "@jupyter-widgets/controls",
      "model_module_version": "1.4.0",
      "model_name": "ButtonModel",
      "state": {
       "description": "Order 1",
       "layout": "IPY_MODEL_f40fdae6b24e4b38bbaf4a0d3de94116",
       "style": "IPY_MODEL_db01d75a0a504e53afca4f106b4165aa"
      }
     },
     "331a0431f98940e7bdaee6133e9716c0": {
      "model_module": "@jupyter-widgets/controls",
      "model_module_version": "1.4.0",
      "model_name": "DescriptionStyleModel",
      "state": {
       "description_width": ""
      }
     },
     "3390351d9a2a4fcc9f90bf739434522b": {
      "model_module": "@jupyter-widgets/controls",
      "model_module_version": "1.4.0",
      "model_name": "ButtonModel",
      "state": {
       "description": "Order > 2",
       "layout": "IPY_MODEL_a2908ebfb6ce4a889bf32c1e0b5a73c8",
       "style": "IPY_MODEL_a8458a71d4fd4ff5ac54f1945bc7fdee"
      }
     },
     "33caee6c49124d9cb7f91aaaf9f3d4cf": {
      "model_module": "@jupyter-widgets/controls",
      "model_module_version": "1.4.0",
      "model_name": "DescriptionStyleModel",
      "state": {
       "description_width": ""
      }
     },
     "342297b34d9d438ba633ba1014e35a29": {
      "model_module": "@jupyter-widgets/controls",
      "model_module_version": "1.4.0",
      "model_name": "ButtonModel",
      "state": {
       "description": "Order > 2",
       "layout": "IPY_MODEL_25981e3064464403b7d4ff0b1875137a",
       "style": "IPY_MODEL_7113d3e3a4d84b4c84c724011180f835"
      }
     },
     "34678b7d76df4407b1348d674ef018f7": {
      "model_module": "@jupyter-widgets/controls",
      "model_module_version": "1.4.0",
      "model_name": "ButtonModel",
      "state": {
       "description": "Order 1",
       "layout": "IPY_MODEL_4f467b4dff74468bb94ce742f4594f48",
       "style": "IPY_MODEL_47fead948fb44c009d8058475316f6c6"
      }
     },
     "35011a9acab54d10aa3ec8e434bfa3b2": {
      "model_module": "@jupyter-widgets/controls",
      "model_module_version": "1.4.0",
      "model_name": "TextModel",
      "state": {
       "description": "K :",
       "layout": "IPY_MODEL_90243bf9cb1148fa9c88801834134550",
       "placeholder": "Type a value for K",
       "style": "IPY_MODEL_698765db528a47aa98f4a5c9d9836478",
       "value": "1"
      }
     },
     "3540421d552a4fbca2bf0368604c9ab7": {
      "model_module": "@jupyter-widgets/controls",
      "model_module_version": "1.4.0",
      "model_name": "TextModel",
      "state": {
       "description": "T :",
       "layout": "IPY_MODEL_812243b4889449419988346d8986355a",
       "placeholder": "Type a value for T",
       "style": "IPY_MODEL_bd883f6b9ae74d789617aafa95b7a1ed",
       "value": "1"
      }
     },
     "3542587a2b9b4caf8fcc1429a7e7ef74": {
      "model_module": "@jupyter-widgets/base",
      "model_module_version": "1.1.0",
      "model_name": "LayoutModel",
      "state": {}
     },
     "35fb70beec274de4a7e4abcb5dc23fc6": {
      "model_module": "@jupyter-widgets/controls",
      "model_module_version": "1.4.0",
      "model_name": "ButtonStyleModel",
      "state": {}
     },
     "360af84f928d491cb863f0de2657393a": {
      "model_module": "@jupyter-widgets/base",
      "model_module_version": "1.1.0",
      "model_name": "LayoutModel",
      "state": {}
     },
     "36967f4dcc6049909004ae256f54d656": {
      "model_module": "@jupyter-widgets/base",
      "model_module_version": "1.1.0",
      "model_name": "LayoutModel",
      "state": {}
     },
     "3698dad110254c8cafdc45cbe63b192e": {
      "model_module": "@jupyter-widgets/base",
      "model_module_version": "1.1.0",
      "model_name": "LayoutModel",
      "state": {}
     },
     "3702a4a03c2b4de0a6e0521091f943c5": {
      "model_module": "@jupyter-widgets/controls",
      "model_module_version": "1.4.0",
      "model_name": "ButtonModel",
      "state": {
       "description": "Order 2",
       "layout": "IPY_MODEL_e6ade5e4f4e948e3a33738a28317d948",
       "style": "IPY_MODEL_d193b11454c44781bc69a565ae78910d"
      }
     },
     "376faf319a3a458b878df339889555fc": {
      "model_module": "@jupyter-widgets/controls",
      "model_module_version": "1.4.0",
      "model_name": "TextModel",
      "state": {
       "description": "K :",
       "layout": "IPY_MODEL_770cd7dd0dd348fdb6648ecd45c5ddab",
       "placeholder": "Type a value for K",
       "style": "IPY_MODEL_9a31380e7c674ac5aca19319ade35e96",
       "value": "2"
      }
     },
     "37743446f8234f9c8efd0d3ce9c98f3d": {
      "model_module": "@jupyter-widgets/controls",
      "model_module_version": "1.4.0",
      "model_name": "ButtonStyleModel",
      "state": {}
     },
     "37ba37a186094234b7b1f9794a54ed8e": {
      "model_module": "@jupyter-widgets/controls",
      "model_module_version": "1.4.0",
      "model_name": "TextModel",
      "state": {
       "description": "K :",
       "layout": "IPY_MODEL_516ddbb102ac4dc98c71a866d0032585",
       "placeholder": "Type a value for K",
       "style": "IPY_MODEL_e164a23e75944767905d25fc4307a4f0",
       "value": "1"
      }
     },
     "38152d1eb9694c689a8c325028c896b6": {
      "model_module": "@jupyter-widgets/controls",
      "model_module_version": "1.4.0",
      "model_name": "ButtonModel",
      "state": {
       "description": "Order 1",
       "layout": "IPY_MODEL_52fc0f27abb14a3382ff68b7c79bde62",
       "style": "IPY_MODEL_4bbfadb008fd4370863eec487be20673"
      }
     },
     "382f750f25df41ad9803fcb314beb003": {
      "model_module": "@jupyter-widgets/base",
      "model_module_version": "1.1.0",
      "model_name": "LayoutModel",
      "state": {}
     },
     "3873bb14680242ac8d2f2c31b7208fe2": {
      "model_module": "@jupyter-widgets/base",
      "model_module_version": "1.1.0",
      "model_name": "LayoutModel",
      "state": {}
     },
     "387fc88ce27c49d1af22c469e5215852": {
      "model_module": "@jupyter-widgets/base",
      "model_module_version": "1.1.0",
      "model_name": "LayoutModel",
      "state": {}
     },
     "389bef96ce3c47d9a2d0aa4172e7f0a5": {
      "model_module": "@jupyter-widgets/controls",
      "model_module_version": "1.4.0",
      "model_name": "HBoxModel",
      "state": {
       "children": [
        "IPY_MODEL_faf9a81ba1c144b0bb3ad0c23c992e88",
        "IPY_MODEL_6c888a1fa645453d979ff222b3359e09",
        "IPY_MODEL_daa080992b6b4f44b430a7430ab3c5ed"
       ],
       "layout": "IPY_MODEL_58ba56810af64704b89e3f6d87fd0959"
      }
     },
     "38a1a18d0764461c84aa1efa7640a14a": {
      "model_module": "@jupyter-widgets/controls",
      "model_module_version": "1.4.0",
      "model_name": "DescriptionStyleModel",
      "state": {
       "description_width": ""
      }
     },
     "393d601f301744f8b0cc719ca1f472a8": {
      "model_module": "@jupyter-widgets/controls",
      "model_module_version": "1.4.0",
      "model_name": "DescriptionStyleModel",
      "state": {
       "description_width": ""
      }
     },
     "397874d1dc6540b998ea488dac4c5ad0": {
      "model_module": "@jupyter-widgets/controls",
      "model_module_version": "1.4.0",
      "model_name": "ButtonModel",
      "state": {
       "description": "Order 1",
       "layout": "IPY_MODEL_87104b3b4d9d417bb77118436993ef56",
       "style": "IPY_MODEL_7cb9fea225bc4b4183bc04dcf1b50f04"
      }
     },
     "39abf121e1f947498d5d83d5199f4955": {
      "model_module": "@jupyter-widgets/base",
      "model_module_version": "1.1.0",
      "model_name": "LayoutModel",
      "state": {}
     },
     "39d5be1bc0254cc9bf8b1699fc4673d0": {
      "model_module": "@jupyter-widgets/controls",
      "model_module_version": "1.4.0",
      "model_name": "ButtonStyleModel",
      "state": {}
     },
     "39effbceb09346d5af8e06e20ecfd6bf": {
      "model_module": "@jupyter-widgets/controls",
      "model_module_version": "1.4.0",
      "model_name": "TextModel",
      "state": {
       "description": "T :",
       "layout": "IPY_MODEL_f1a692af59564a82a6407ace884fe049",
       "placeholder": "Type a value for T",
       "style": "IPY_MODEL_f6d5ae1147d04a0fadc903910076b85e"
      }
     },
     "3a25797dcc974cf698c0a155d2d99f44": {
      "model_module": "@jupyter-widgets/base",
      "model_module_version": "1.1.0",
      "model_name": "LayoutModel",
      "state": {}
     },
     "3a28d2951ef644c3ab4ec4896f05fd51": {
      "model_module": "@jupyter-widgets/controls",
      "model_module_version": "1.4.0",
      "model_name": "ButtonModel",
      "state": {
       "description": "Order > 2",
       "layout": "IPY_MODEL_92c09a6c20c24c1f9e631f28955a6f48",
       "style": "IPY_MODEL_db0111e2771249728b93cbced38abe7f"
      }
     },
     "3a3f2c8504f54001a4839ef2cfd79386": {
      "model_module": "@jupyter-widgets/controls",
      "model_module_version": "1.4.0",
      "model_name": "ButtonModel",
      "state": {
       "description": "Order 2",
       "layout": "IPY_MODEL_9fd23853279c4cb597842b7e1bb2afc4",
       "style": "IPY_MODEL_3169b13486bc45a9b8df06e8648d1079"
      }
     },
     "3a52b7de7f3b4947bb9e34b8b7074a0c": {
      "model_module": "@jupyter-widgets/base",
      "model_module_version": "1.1.0",
      "model_name": "LayoutModel",
      "state": {}
     },
     "3abbc730fdf14df198d2621686de9462": {
      "model_module": "@jupyter-widgets/controls",
      "model_module_version": "1.4.0",
      "model_name": "TextModel",
      "state": {
       "description": "T :",
       "layout": "IPY_MODEL_1963144aefc54de7afdd2c7a0d6a7688",
       "placeholder": "Type a value for T",
       "style": "IPY_MODEL_49eba4ad51e2471d963696dfb34b79a1",
       "value": "5"
      }
     },
     "3aeb9495fe24437b861f1a953ba40527": {
      "model_module": "@jupyter-widgets/controls",
      "model_module_version": "1.4.0",
      "model_name": "ButtonStyleModel",
      "state": {}
     },
     "3b41f1995675424795c007bbd883fdc8": {
      "model_module": "@jupyter-widgets/controls",
      "model_module_version": "1.4.0",
      "model_name": "ButtonModel",
      "state": {
       "description": "Order 2",
       "layout": "IPY_MODEL_65092c4311b84625aa850263b5ff3811",
       "style": "IPY_MODEL_9b6eac66d62047a4b97a19c8f3b4c38d"
      }
     },
     "3b6f268a8131495cb9a9381b5cb0d436": {
      "model_module": "@jupyter-widgets/controls",
      "model_module_version": "1.4.0",
      "model_name": "ButtonStyleModel",
      "state": {}
     },
     "3b927aebbbc042b694868199a518e776": {
      "model_module": "@jupyter-widgets/controls",
      "model_module_version": "1.4.0",
      "model_name": "ButtonModel",
      "state": {
       "description": "Order 2",
       "layout": "IPY_MODEL_4e8da51d6a3543b0a417d2bb5a2bf9b6",
       "style": "IPY_MODEL_c7bf51fc468344c0b0fc218ef62254b9"
      }
     },
     "3c2d2693af1e42e492533c163ad6b071": {
      "model_module": "@jupyter-widgets/controls",
      "model_module_version": "1.4.0",
      "model_name": "TextModel",
      "state": {
       "description": "T :",
       "layout": "IPY_MODEL_8bf35306362141b1877043c26027bdb2",
       "placeholder": "Type a value for T",
       "style": "IPY_MODEL_b0efe0b176e84ecbaffb6c8670a2603b"
      }
     },
     "3c35f1441a3149c79af57b37ee2d9522": {
      "model_module": "@jupyter-widgets/controls",
      "model_module_version": "1.4.0",
      "model_name": "ButtonModel",
      "state": {
       "description": "Order 2",
       "layout": "IPY_MODEL_495ae3a721f449849cbf90b5ccb04249",
       "style": "IPY_MODEL_975d074b6ba04662ab1dc5d78025478d"
      }
     },
     "3d07121275b142c6adf4d7d995530279": {
      "model_module": "@jupyter-widgets/controls",
      "model_module_version": "1.4.0",
      "model_name": "ButtonModel",
      "state": {
       "description": "Valider",
       "layout": "IPY_MODEL_b9c77b0903c44b9a94f627347800684c",
       "style": "IPY_MODEL_4ba564b5a3344a6baec453bd2faca7ec"
      }
     },
     "3d2201f5f9394b67be9207f989a09e3e": {
      "model_module": "@jupyter-widgets/controls",
      "model_module_version": "1.4.0",
      "model_name": "TextModel",
      "state": {
       "description": "K :",
       "layout": "IPY_MODEL_9cf7b8b4c05e4138b22b147dc0a51a2e",
       "placeholder": "Type a value for K",
       "style": "IPY_MODEL_ecfde9db29b0499cb1da163d0f0282b3"
      }
     },
     "3d9e7d8424b442c8977bb8b3c5259391": {
      "model_module": "@jupyter-widgets/base",
      "model_module_version": "1.1.0",
      "model_name": "LayoutModel",
      "state": {}
     },
     "3e9e192d8b1a466bb0e050e8e120abff": {
      "model_module": "@jupyter-widgets/controls",
      "model_module_version": "1.4.0",
      "model_name": "DescriptionStyleModel",
      "state": {
       "description_width": ""
      }
     },
     "3eb1134095cd4fbfac4aa2562d0a04dc": {
      "model_module": "@jupyter-widgets/base",
      "model_module_version": "1.1.0",
      "model_name": "LayoutModel",
      "state": {}
     },
     "3ee3f7d81ab64681a329dbb52be7cb0d": {
      "model_module": "@jupyter-widgets/controls",
      "model_module_version": "1.4.0",
      "model_name": "TextModel",
      "state": {
       "description": "T :",
       "layout": "IPY_MODEL_ca3a05c2cc6d4ca6bb06c4a937f2047c",
       "placeholder": "Type a value for T",
       "style": "IPY_MODEL_ed18776adbfc4218ab7c4b07db58ef3c"
      }
     },
     "3f06c92b54ae448799bf38a5e2a71879": {
      "model_module": "@jupyter-widgets/base",
      "model_module_version": "1.1.0",
      "model_name": "LayoutModel",
      "state": {}
     },
     "3fb1d6ce39404e0ab57b9097120c60e1": {
      "model_module": "@jupyter-widgets/base",
      "model_module_version": "1.1.0",
      "model_name": "LayoutModel",
      "state": {}
     },
     "403d9827c8e347b2acf0576be36e0792": {
      "model_module": "@jupyter-widgets/controls",
      "model_module_version": "1.4.0",
      "model_name": "TextModel",
      "state": {
       "description": "K :",
       "layout": "IPY_MODEL_f0e0ceae1931418d8befcb5bad8c9af8",
       "placeholder": "Type a value for K",
       "style": "IPY_MODEL_eb9ae2b2fd5e41e8bff0367b277c8df5",
       "value": "1"
      }
     },
     "407038eca30f4049a2eef11ab082cbe1": {
      "model_module": "@jupyter-widgets/controls",
      "model_module_version": "1.4.0",
      "model_name": "HBoxModel",
      "state": {
       "children": [
        "IPY_MODEL_b42591b4078a419bb652bb29b605534f",
        "IPY_MODEL_67de35da77484bd58fdbadce27689074",
        "IPY_MODEL_8c7d2976e6184e61a8ef4d5ccbfb1c2c"
       ],
       "layout": "IPY_MODEL_0033e249891d45fa865606da7cb3e1e7"
      }
     },
     "40dc56bcb19a4c2f8f4e2c3976b5d159": {
      "model_module": "@jupyter-widgets/controls",
      "model_module_version": "1.4.0",
      "model_name": "ButtonStyleModel",
      "state": {}
     },
     "4121b673d5bf4355a1d8739aa7cee7ee": {
      "model_module": "@jupyter-widgets/controls",
      "model_module_version": "1.4.0",
      "model_name": "DescriptionStyleModel",
      "state": {
       "description_width": ""
      }
     },
     "413bbb9941784c3bbd9a580f6e7b65bb": {
      "model_module": "@jupyter-widgets/base",
      "model_module_version": "1.1.0",
      "model_name": "LayoutModel",
      "state": {}
     },
     "4143f64c630e4920b465bff784a27231": {
      "model_module": "@jupyter-widgets/base",
      "model_module_version": "1.1.0",
      "model_name": "LayoutModel",
      "state": {}
     },
     "416010d09111425f96fb91f57e731c28": {
      "model_module": "@jupyter-widgets/controls",
      "model_module_version": "1.4.0",
      "model_name": "DescriptionStyleModel",
      "state": {
       "description_width": ""
      }
     },
     "417659776bc2485189a5a0a11558b4ed": {
      "model_module": "@jupyter-widgets/base",
      "model_module_version": "1.1.0",
      "model_name": "LayoutModel",
      "state": {}
     },
     "419e663d6aaf45c395d6e2c713443db3": {
      "model_module": "@jupyter-widgets/base",
      "model_module_version": "1.1.0",
      "model_name": "LayoutModel",
      "state": {}
     },
     "41c02fbe327d4e31a8349ab8ea7c9c2b": {
      "model_module": "@jupyter-widgets/controls",
      "model_module_version": "1.4.0",
      "model_name": "ButtonStyleModel",
      "state": {}
     },
     "420915a134a0400a9c2c9fa2d3bb69b6": {
      "model_module": "@jupyter-widgets/base",
      "model_module_version": "1.1.0",
      "model_name": "LayoutModel",
      "state": {}
     },
     "423e04fd498840c6ae194a12d7fc4ff3": {
      "model_module": "@jupyter-widgets/controls",
      "model_module_version": "1.4.0",
      "model_name": "ButtonModel",
      "state": {
       "description": "Valider",
       "layout": "IPY_MODEL_adf7a8caf6204cf888934941d8837254",
       "style": "IPY_MODEL_722d6d59726842b99108de1629a07c1c"
      }
     },
     "436ff2cc41564f9f961c63c64938c652": {
      "model_module": "@jupyter-widgets/base",
      "model_module_version": "1.1.0",
      "model_name": "LayoutModel",
      "state": {}
     },
     "43f98a7d79424e6595f4d46515a2240b": {
      "model_module": "@jupyter-widgets/base",
      "model_module_version": "1.1.0",
      "model_name": "LayoutModel",
      "state": {}
     },
     "43fc25c24cb14d5a8155d548a403771c": {
      "model_module": "@jupyter-widgets/base",
      "model_module_version": "1.1.0",
      "model_name": "LayoutModel",
      "state": {}
     },
     "4400d85567214b399c29d8cb61fc3778": {
      "model_module": "@jupyter-widgets/controls",
      "model_module_version": "1.4.0",
      "model_name": "ButtonModel",
      "state": {
       "description": "Order > 2",
       "layout": "IPY_MODEL_c8060ccaf4e24a90a5c389efb9925804",
       "style": "IPY_MODEL_adc2063c81a04f2da30beb0b87163e2c"
      }
     },
     "4409725117ee401da74a4de72a8d05d9": {
      "model_module": "@jupyter-widgets/controls",
      "model_module_version": "1.4.0",
      "model_name": "ButtonStyleModel",
      "state": {}
     },
     "4410eb5bd4704a119a1d53ead51fe314": {
      "model_module": "@jupyter-widgets/controls",
      "model_module_version": "1.4.0",
      "model_name": "ButtonStyleModel",
      "state": {}
     },
     "442648579b9e44b5a9b2d463af973a3a": {
      "model_module": "@jupyter-widgets/controls",
      "model_module_version": "1.4.0",
      "model_name": "TextModel",
      "state": {
       "layout": "IPY_MODEL_1084011ea72c40e1ab9f7e836f990a92",
       "style": "IPY_MODEL_dc288bbed7814a54b332d4408805e9ed"
      }
     },
     "4466ed4be82d4848924bf3f6be099443": {
      "model_module": "@jupyter-widgets/controls",
      "model_module_version": "1.4.0",
      "model_name": "ButtonModel",
      "state": {
       "description": "Order > 2",
       "layout": "IPY_MODEL_69b37c8e352c489c97c0d4291af7967a",
       "style": "IPY_MODEL_75296304d96e49b38f97e8c4a560c5c6"
      }
     },
     "4471ff95bb104bad9fc8b098622a029b": {
      "model_module": "@jupyter-widgets/base",
      "model_module_version": "1.1.0",
      "model_name": "LayoutModel",
      "state": {}
     },
     "448765b3caec467a9005a93c141a90d8": {
      "model_module": "@jupyter-widgets/controls",
      "model_module_version": "1.4.0",
      "model_name": "ButtonStyleModel",
      "state": {}
     },
     "449c3f9b95054928935c9ccdf3e100ae": {
      "model_module": "@jupyter-widgets/controls",
      "model_module_version": "1.4.0",
      "model_name": "ButtonStyleModel",
      "state": {}
     },
     "44b1b20f4c0d43a4b4f86504548811a9": {
      "model_module": "@jupyter-widgets/base",
      "model_module_version": "1.1.0",
      "model_name": "LayoutModel",
      "state": {}
     },
     "44ff2a4de417417d928c128cc4d0c238": {
      "model_module": "@jupyter-widgets/controls",
      "model_module_version": "1.4.0",
      "model_name": "HBoxModel",
      "state": {
       "children": [
        "IPY_MODEL_f090889f2e404b22afafd95ec84f5736",
        "IPY_MODEL_cbeb1836b8144fdf9c90ea6193e0fd5a",
        "IPY_MODEL_22d5c22cb35343f2b44bb32d1f1854d3"
       ],
       "layout": "IPY_MODEL_79006dfeccbd4c21a3ff8b837ce4924c"
      }
     },
     "4539e28ed3f24b3ea0a73c9a4cd3ed94": {
      "model_module": "@jupyter-widgets/controls",
      "model_module_version": "1.4.0",
      "model_name": "ButtonModel",
      "state": {
       "description": "Order 2",
       "layout": "IPY_MODEL_2ed0b5642b1d40e6a75858e1474a77b6",
       "style": "IPY_MODEL_69cf7bd429bc489b9ea9484b33d88df4"
      }
     },
     "45599b3ac1b748f0bdad679c1450cacf": {
      "model_module": "@jupyter-widgets/controls",
      "model_module_version": "1.4.0",
      "model_name": "ButtonModel",
      "state": {
       "description": "Valider",
       "layout": "IPY_MODEL_8ca4676de61d4244b3204eebf8a67edf",
       "style": "IPY_MODEL_88a590ca92884664bcac649cdc34a898"
      }
     },
     "457c090f60064d808ab0d0cea59072cc": {
      "model_module": "@jupyter-widgets/base",
      "model_module_version": "1.1.0",
      "model_name": "LayoutModel",
      "state": {}
     },
     "45af7e5edbcf4b6cb5737d8a0e940f25": {
      "model_module": "@jupyter-widgets/controls",
      "model_module_version": "1.4.0",
      "model_name": "DescriptionStyleModel",
      "state": {
       "description_width": ""
      }
     },
     "45b9ad163c8c4d01bf41aca026908d81": {
      "model_module": "@jupyter-widgets/base",
      "model_module_version": "1.1.0",
      "model_name": "LayoutModel",
      "state": {}
     },
     "45ee21e317d14a9ab393bbf585dd3e0f": {
      "model_module": "@jupyter-widgets/controls",
      "model_module_version": "1.4.0",
      "model_name": "ButtonStyleModel",
      "state": {}
     },
     "462052e9401d4d298979f52b4db381de": {
      "model_module": "@jupyter-widgets/controls",
      "model_module_version": "1.4.0",
      "model_name": "ButtonModel",
      "state": {
       "description": "Order 1",
       "layout": "IPY_MODEL_4d35450d99e5447d8a6349827bc0beb6",
       "style": "IPY_MODEL_770ddeb113524fbea53489bfda0f6db3"
      }
     },
     "464e8940a9dd4d28a1261f0c194fdc3d": {
      "model_module": "@jupyter-widgets/controls",
      "model_module_version": "1.4.0",
      "model_name": "DescriptionStyleModel",
      "state": {
       "description_width": ""
      }
     },
     "4651ec879ad04ebc9e718d2c90610e0b": {
      "model_module": "@jupyter-widgets/controls",
      "model_module_version": "1.4.0",
      "model_name": "TextModel",
      "state": {
       "description": "T :",
       "layout": "IPY_MODEL_bbbbb373d8b7467491142c77eb1b332a",
       "placeholder": "Type a value for T",
       "style": "IPY_MODEL_c488cc217b394d5d8767c8e3dee0984c",
       "value": "7"
      }
     },
     "465e622e7adc4156acad658594f645fc": {
      "model_module": "@jupyter-widgets/controls",
      "model_module_version": "1.4.0",
      "model_name": "ButtonModel",
      "state": {
       "description": "Order 2",
       "layout": "IPY_MODEL_abb0e2e95ce94825808349bcfca7fb2f",
       "style": "IPY_MODEL_f280f03cb3364dcb8c881d66d92c3a83"
      }
     },
     "46981e2146914e8dad6221435b37bb63": {
      "model_module": "@jupyter-widgets/controls",
      "model_module_version": "1.4.0",
      "model_name": "TextModel",
      "state": {
       "description": "T :",
       "layout": "IPY_MODEL_bb0d150ba2884fab8814f52495be184c",
       "placeholder": "Type a value for T",
       "style": "IPY_MODEL_0e96efcd674a410ea001ed1952a11478",
       "value": "9"
      }
     },
     "46c29c7b445c4f028670e72d0009a25b": {
      "model_module": "@jupyter-widgets/controls",
      "model_module_version": "1.4.0",
      "model_name": "ButtonStyleModel",
      "state": {}
     },
     "46cf5b87f4a64c3db3cf6d23a9bdf624": {
      "model_module": "@jupyter-widgets/controls",
      "model_module_version": "1.4.0",
      "model_name": "DescriptionStyleModel",
      "state": {
       "description_width": ""
      }
     },
     "475ef3f528b14ae9a3305e646e480640": {
      "model_module": "@jupyter-widgets/base",
      "model_module_version": "1.1.0",
      "model_name": "LayoutModel",
      "state": {}
     },
     "47c459be519f477a9c2fe97135a59666": {
      "model_module": "@jupyter-widgets/controls",
      "model_module_version": "1.4.0",
      "model_name": "ButtonModel",
      "state": {
       "description": "Order 1",
       "layout": "IPY_MODEL_2971ff2834ed4cd8b8e57e6266f5b0bb",
       "style": "IPY_MODEL_621b32702d0a4b078a7ac55690475f99"
      }
     },
     "47fead948fb44c009d8058475316f6c6": {
      "model_module": "@jupyter-widgets/controls",
      "model_module_version": "1.4.0",
      "model_name": "ButtonStyleModel",
      "state": {}
     },
     "482175a213be4518b08e1b227dbd7d1c": {
      "model_module": "@jupyter-widgets/base",
      "model_module_version": "1.1.0",
      "model_name": "LayoutModel",
      "state": {}
     },
     "4831ce85d3db4a3aa2f34093ff616d69": {
      "model_module": "@jupyter-widgets/controls",
      "model_module_version": "1.4.0",
      "model_name": "HBoxModel",
      "state": {
       "children": [
        "IPY_MODEL_6eab5e2b4b0140698f801dfbd5d91514",
        "IPY_MODEL_c7ef39af22104114aad40bc11d7bdccb",
        "IPY_MODEL_03a84f4102854ec0bb6ff506e0c2f502"
       ],
       "layout": "IPY_MODEL_632b7098b5d4460aa130a5575b8e2eb9"
      }
     },
     "493d25b684bd4ef1b2b9678d681728ed": {
      "model_module": "@jupyter-widgets/base",
      "model_module_version": "1.1.0",
      "model_name": "LayoutModel",
      "state": {}
     },
     "495702869f8549d4a3b20d59fbf17cb5": {
      "model_module": "@jupyter-widgets/controls",
      "model_module_version": "1.4.0",
      "model_name": "ButtonStyleModel",
      "state": {}
     },
     "495ae3a721f449849cbf90b5ccb04249": {
      "model_module": "@jupyter-widgets/base",
      "model_module_version": "1.1.0",
      "model_name": "LayoutModel",
      "state": {}
     },
     "4968b5f016f74c8c8e0edd0919d386f3": {
      "model_module": "@jupyter-widgets/controls",
      "model_module_version": "1.4.0",
      "model_name": "ButtonStyleModel",
      "state": {}
     },
     "499306c24c394912b9cb9fbd18660654": {
      "model_module": "@jupyter-widgets/controls",
      "model_module_version": "1.4.0",
      "model_name": "ButtonModel",
      "state": {
       "description": "Order 1",
       "layout": "IPY_MODEL_68e4ae09572d43cea73cb94cfb467702",
       "style": "IPY_MODEL_c81a43cf7415482693f24c98fcbb57c6"
      }
     },
     "49eba4ad51e2471d963696dfb34b79a1": {
      "model_module": "@jupyter-widgets/controls",
      "model_module_version": "1.4.0",
      "model_name": "DescriptionStyleModel",
      "state": {
       "description_width": ""
      }
     },
     "4a1547f4d03444299aa43461ca6c89a2": {
      "model_module": "@jupyter-widgets/base",
      "model_module_version": "1.1.0",
      "model_name": "LayoutModel",
      "state": {}
     },
     "4a1f5cb2a33d47f794fac970515b9fbc": {
      "model_module": "@jupyter-widgets/controls",
      "model_module_version": "1.4.0",
      "model_name": "DescriptionStyleModel",
      "state": {
       "description_width": ""
      }
     },
     "4a4317520d644fd9b2230b3ea1877e79": {
      "model_module": "@jupyter-widgets/controls",
      "model_module_version": "1.4.0",
      "model_name": "ButtonStyleModel",
      "state": {}
     },
     "4a99a0e4da0247949afe56662b73b686": {
      "model_module": "@jupyter-widgets/base",
      "model_module_version": "1.1.0",
      "model_name": "LayoutModel",
      "state": {}
     },
     "4ad0cdfbe4324995a262a22fd10ad902": {
      "model_module": "@jupyter-widgets/controls",
      "model_module_version": "1.4.0",
      "model_name": "ButtonModel",
      "state": {
       "description": "Order 2",
       "layout": "IPY_MODEL_7acf70cc4ba543c181376c18f8d3807e",
       "style": "IPY_MODEL_678f4e734e5f477eb849c906b97834fe"
      }
     },
     "4b5961a9a888411ea287b1d6dac51000": {
      "model_module": "@jupyter-widgets/controls",
      "model_module_version": "1.4.0",
      "model_name": "ButtonStyleModel",
      "state": {}
     },
     "4ba564b5a3344a6baec453bd2faca7ec": {
      "model_module": "@jupyter-widgets/controls",
      "model_module_version": "1.4.0",
      "model_name": "ButtonStyleModel",
      "state": {}
     },
     "4bb372821cf641519cf075b4fed725b2": {
      "model_module": "@jupyter-widgets/controls",
      "model_module_version": "1.4.0",
      "model_name": "ButtonModel",
      "state": {
       "description": "Order > 2",
       "layout": "IPY_MODEL_f654711e61a84fb1abe171dabb8e410b",
       "style": "IPY_MODEL_5d6a6dc92e9d425ca6463eeaede30769"
      }
     },
     "4bbfadb008fd4370863eec487be20673": {
      "model_module": "@jupyter-widgets/controls",
      "model_module_version": "1.4.0",
      "model_name": "ButtonStyleModel",
      "state": {}
     },
     "4bd0e713a0f342b69fb5ce6b1861d585": {
      "model_module": "@jupyter-widgets/controls",
      "model_module_version": "1.4.0",
      "model_name": "ButtonModel",
      "state": {
       "description": "Order 1",
       "layout": "IPY_MODEL_1600a9ff9723411eb2eca39825d70a97",
       "style": "IPY_MODEL_8d239a3bd4d041dd8610eaeed3a2f447"
      }
     },
     "4c160a31c16547bd97cbba38514dd127": {
      "model_module": "@jupyter-widgets/controls",
      "model_module_version": "1.4.0",
      "model_name": "ButtonModel",
      "state": {
       "description": "Order 2",
       "layout": "IPY_MODEL_2c452fd9a4b94a518100fd6178850ccd",
       "style": "IPY_MODEL_e6c43893fb6b4c5c99d8d5bb6e6ed52a"
      }
     },
     "4c19a449325b4cb5b3de849cf5ac113b": {
      "model_module": "@jupyter-widgets/controls",
      "model_module_version": "1.4.0",
      "model_name": "ButtonModel",
      "state": {
       "description": "Valider",
       "layout": "IPY_MODEL_605c48889bf04f4dad0f21e2385f49e6",
       "style": "IPY_MODEL_d755ca6003f942aab399103c4f2bc9da"
      }
     },
     "4c281a31c85e40bcb52afbdf7c84b9d3": {
      "model_module": "@jupyter-widgets/base",
      "model_module_version": "1.1.0",
      "model_name": "LayoutModel",
      "state": {}
     },
     "4c2be48acaeb47b6a68206be9124457d": {
      "model_module": "@jupyter-widgets/base",
      "model_module_version": "1.1.0",
      "model_name": "LayoutModel",
      "state": {}
     },
     "4c4b6efbc17a4f78a9209ffcbbf9399f": {
      "model_module": "@jupyter-widgets/base",
      "model_module_version": "1.1.0",
      "model_name": "LayoutModel",
      "state": {}
     },
     "4c89c11c128c41ecb74e446bb4124730": {
      "model_module": "@jupyter-widgets/controls",
      "model_module_version": "1.4.0",
      "model_name": "ButtonModel",
      "state": {
       "description": "Order 1",
       "layout": "IPY_MODEL_61aa6af42bd64c338cacf111de97624d",
       "style": "IPY_MODEL_ea51094b94e14843b489a2115d904221"
      }
     },
     "4cd4b923e9f446b49003988876c4ee1b": {
      "model_module": "@jupyter-widgets/base",
      "model_module_version": "1.1.0",
      "model_name": "LayoutModel",
      "state": {}
     },
     "4ce24fbd1cbc4abcade2123182c4ee51": {
      "model_module": "@jupyter-widgets/controls",
      "model_module_version": "1.4.0",
      "model_name": "TextModel",
      "state": {
       "description": "T :",
       "layout": "IPY_MODEL_0ddfbdead60d40759162e55f12e991d8",
       "placeholder": "Type a value for T",
       "style": "IPY_MODEL_38a1a18d0764461c84aa1efa7640a14a"
      }
     },
     "4d19512769114ac1873e03b3a379e808": {
      "model_module": "@jupyter-widgets/base",
      "model_module_version": "1.1.0",
      "model_name": "LayoutModel",
      "state": {}
     },
     "4d35450d99e5447d8a6349827bc0beb6": {
      "model_module": "@jupyter-widgets/base",
      "model_module_version": "1.1.0",
      "model_name": "LayoutModel",
      "state": {}
     },
     "4d6518c563484a18a7c7af13eeeae1fe": {
      "model_module": "@jupyter-widgets/base",
      "model_module_version": "1.1.0",
      "model_name": "LayoutModel",
      "state": {}
     },
     "4d7ca9e02478476783128025ab701033": {
      "model_module": "@jupyter-widgets/base",
      "model_module_version": "1.1.0",
      "model_name": "LayoutModel",
      "state": {}
     },
     "4e05e7d5ed0946d3af0579c3f4494e85": {
      "model_module": "@jupyter-widgets/base",
      "model_module_version": "1.1.0",
      "model_name": "LayoutModel",
      "state": {}
     },
     "4e072df2dbde495189982681b7c084b7": {
      "model_module": "@jupyter-widgets/controls",
      "model_module_version": "1.4.0",
      "model_name": "ButtonStyleModel",
      "state": {}
     },
     "4e62630d5ceb41dd86d5381fb616a957": {
      "model_module": "@jupyter-widgets/controls",
      "model_module_version": "1.4.0",
      "model_name": "ButtonStyleModel",
      "state": {}
     },
     "4e8da51d6a3543b0a417d2bb5a2bf9b6": {
      "model_module": "@jupyter-widgets/base",
      "model_module_version": "1.1.0",
      "model_name": "LayoutModel",
      "state": {}
     },
     "4f42112a80f84fe78d47443bdc3a99a7": {
      "model_module": "@jupyter-widgets/controls",
      "model_module_version": "1.4.0",
      "model_name": "ButtonModel",
      "state": {
       "description": "Run",
       "layout": "IPY_MODEL_4c4b6efbc17a4f78a9209ffcbbf9399f",
       "style": "IPY_MODEL_93e10d6060f14da88c62396a37056b7a"
      }
     },
     "4f467b4dff74468bb94ce742f4594f48": {
      "model_module": "@jupyter-widgets/base",
      "model_module_version": "1.1.0",
      "model_name": "LayoutModel",
      "state": {}
     },
     "4f5299c061e0444ca3b827e047916600": {
      "model_module": "@jupyter-widgets/controls",
      "model_module_version": "1.4.0",
      "model_name": "ButtonModel",
      "state": {
       "description": "Order 2",
       "layout": "IPY_MODEL_cd87ae4eb5654212ad9309acebd42eb9",
       "style": "IPY_MODEL_8a4702ba83c6436d8d0c6d07798a02eb"
      }
     },
     "4fa76d5ca2dc4750b683080159954064": {
      "model_module": "@jupyter-widgets/base",
      "model_module_version": "1.1.0",
      "model_name": "LayoutModel",
      "state": {}
     },
     "50ab8761c7794a75b9091029c79caaad": {
      "model_module": "@jupyter-widgets/controls",
      "model_module_version": "1.4.0",
      "model_name": "HBoxModel",
      "state": {
       "children": [
        "IPY_MODEL_7e1267fec0a14d998ab465d8ba3d2377",
        "IPY_MODEL_ba9cb185dc7a45128153e214fde44cd1",
        "IPY_MODEL_dcb243482e3e4043a5286e12cbd8ed3b"
       ],
       "layout": "IPY_MODEL_413bbb9941784c3bbd9a580f6e7b65bb"
      }
     },
     "50b6b91c13a74c7ea601b61b814d1ba5": {
      "model_module": "@jupyter-widgets/controls",
      "model_module_version": "1.4.0",
      "model_name": "TextModel",
      "state": {
       "description": "K :",
       "layout": "IPY_MODEL_c8ebb6efb4e94e6d8319ff5fbf5034a1",
       "placeholder": "Type a value for K",
       "style": "IPY_MODEL_6a89632df7f64a129a180b3aaec5bf84",
       "value": "2"
      }
     },
     "50cb96473f204b56afbd4f548f4e9307": {
      "model_module": "@jupyter-widgets/controls",
      "model_module_version": "1.4.0",
      "model_name": "ButtonModel",
      "state": {
       "description": "Order 1",
       "layout": "IPY_MODEL_e539c6f3c6c44cac89bd520ea988d665",
       "style": "IPY_MODEL_532e4d889f114e29b8338c5514818d00"
      }
     },
     "50e0f760f4934bf790c98f2f46fb8bec": {
      "model_module": "@jupyter-widgets/controls",
      "model_module_version": "1.4.0",
      "model_name": "ButtonModel",
      "state": {
       "description": "Order 2",
       "layout": "IPY_MODEL_87394bc504c64419b573a9e211ada524",
       "style": "IPY_MODEL_e3f9a048237e48d7a42c0e6ffe18111f"
      }
     },
     "50fddce638bf4707b9b5a17d492bdb83": {
      "model_module": "@jupyter-widgets/base",
      "model_module_version": "1.1.0",
      "model_name": "LayoutModel",
      "state": {}
     },
     "514b78ff75c242529f6b5f91bf5313b8": {
      "model_module": "@jupyter-widgets/controls",
      "model_module_version": "1.4.0",
      "model_name": "ButtonStyleModel",
      "state": {}
     },
     "515dd8a6fbf04186adcab6912ac08f99": {
      "model_module": "@jupyter-widgets/controls",
      "model_module_version": "1.4.0",
      "model_name": "ButtonModel",
      "state": {
       "description": "Order 2",
       "layout": "IPY_MODEL_f64d73d1dd234208b302b17d6afee813",
       "style": "IPY_MODEL_41c02fbe327d4e31a8349ab8ea7c9c2b"
      }
     },
     "516ddbb102ac4dc98c71a866d0032585": {
      "model_module": "@jupyter-widgets/base",
      "model_module_version": "1.1.0",
      "model_name": "LayoutModel",
      "state": {}
     },
     "51907483324c47a6be0bcc89451af163": {
      "model_module": "@jupyter-widgets/controls",
      "model_module_version": "1.4.0",
      "model_name": "ButtonStyleModel",
      "state": {}
     },
     "51a75ef8b7144ad587e148760c479458": {
      "model_module": "@jupyter-widgets/controls",
      "model_module_version": "1.4.0",
      "model_name": "ButtonStyleModel",
      "state": {}
     },
     "51d04c85028f4f82ae452d7dabc4be09": {
      "model_module": "@jupyter-widgets/controls",
      "model_module_version": "1.4.0",
      "model_name": "ButtonStyleModel",
      "state": {}
     },
     "521d4afa572f46a2a0c6fbbf3a550d8c": {
      "model_module": "@jupyter-widgets/base",
      "model_module_version": "1.1.0",
      "model_name": "LayoutModel",
      "state": {}
     },
     "525009807cb1447ca852c52518e9a37d": {
      "model_module": "@jupyter-widgets/base",
      "model_module_version": "1.1.0",
      "model_name": "LayoutModel",
      "state": {}
     },
     "52aab185efa24dcfb1a594f10bceb1f5": {
      "model_module": "@jupyter-widgets/base",
      "model_module_version": "1.1.0",
      "model_name": "LayoutModel",
      "state": {}
     },
     "52fc0f27abb14a3382ff68b7c79bde62": {
      "model_module": "@jupyter-widgets/base",
      "model_module_version": "1.1.0",
      "model_name": "LayoutModel",
      "state": {}
     },
     "531585e5e67046b1bb217e36c11e3b64": {
      "model_module": "@jupyter-widgets/controls",
      "model_module_version": "1.4.0",
      "model_name": "TextModel",
      "state": {
       "description": "T :",
       "layout": "IPY_MODEL_521d4afa572f46a2a0c6fbbf3a550d8c",
       "placeholder": "Type a value for T",
       "style": "IPY_MODEL_7f03c675ee0a45a9a6f0a0dde541d8ae",
       "value": "2"
      }
     },
     "532e4d889f114e29b8338c5514818d00": {
      "model_module": "@jupyter-widgets/controls",
      "model_module_version": "1.4.0",
      "model_name": "ButtonStyleModel",
      "state": {}
     },
     "53612e7960604f408daa615366369054": {
      "model_module": "@jupyter-widgets/base",
      "model_module_version": "1.1.0",
      "model_name": "LayoutModel",
      "state": {}
     },
     "5370465f8cdf488f9df975797dc11c75": {
      "model_module": "@jupyter-widgets/controls",
      "model_module_version": "1.4.0",
      "model_name": "ButtonStyleModel",
      "state": {}
     },
     "53794c79bd4e4387aa3c2e80599ed3da": {
      "model_module": "@jupyter-widgets/controls",
      "model_module_version": "1.4.0",
      "model_name": "ButtonStyleModel",
      "state": {}
     },
     "538846c5080641ca915a4078786a0503": {
      "model_module": "@jupyter-widgets/controls",
      "model_module_version": "1.4.0",
      "model_name": "ButtonModel",
      "state": {
       "description": "Valider",
       "layout": "IPY_MODEL_deae3d561a8c4c89a92dc7f83235be80",
       "style": "IPY_MODEL_67ac0614f7a147c9bcefe9da0cf1729e"
      }
     },
     "53e3862af2454a9786ecca7d72cf202d": {
      "model_module": "@jupyter-widgets/base",
      "model_module_version": "1.1.0",
      "model_name": "LayoutModel",
      "state": {}
     },
     "53e8a29392ae49d39b9032c7bae791cd": {
      "model_module": "@jupyter-widgets/base",
      "model_module_version": "1.1.0",
      "model_name": "LayoutModel",
      "state": {}
     },
     "53f1e4ea0a87479f8bb80dd6a7d85d5a": {
      "model_module": "@jupyter-widgets/base",
      "model_module_version": "1.1.0",
      "model_name": "LayoutModel",
      "state": {}
     },
     "53f6a6a630dc4bb5abdf9bf42190da2c": {
      "model_module": "@jupyter-widgets/base",
      "model_module_version": "1.1.0",
      "model_name": "LayoutModel",
      "state": {}
     },
     "546770db6f524c8cb202d36ee3f5533e": {
      "model_module": "@jupyter-widgets/controls",
      "model_module_version": "1.4.0",
      "model_name": "ButtonStyleModel",
      "state": {}
     },
     "54cd84b74e3745cd962543a78999dcc4": {
      "model_module": "@jupyter-widgets/controls",
      "model_module_version": "1.4.0",
      "model_name": "ButtonStyleModel",
      "state": {}
     },
     "54d8a62958d94058927992de2e01c8a2": {
      "model_module": "@jupyter-widgets/controls",
      "model_module_version": "1.4.0",
      "model_name": "DescriptionStyleModel",
      "state": {
       "description_width": ""
      }
     },
     "552f2a0df8dc4f088bc39ef72c79e112": {
      "model_module": "@jupyter-widgets/controls",
      "model_module_version": "1.4.0",
      "model_name": "ButtonStyleModel",
      "state": {}
     },
     "55464af75c834017bdf0500294bdac10": {
      "model_module": "@jupyter-widgets/base",
      "model_module_version": "1.1.0",
      "model_name": "LayoutModel",
      "state": {}
     },
     "555b86c3d57942259d81152ba8a58c6f": {
      "model_module": "@jupyter-widgets/controls",
      "model_module_version": "1.4.0",
      "model_name": "ButtonStyleModel",
      "state": {}
     },
     "559455068cac4b5ea0adf2a71c2213ad": {
      "model_module": "@jupyter-widgets/controls",
      "model_module_version": "1.4.0",
      "model_name": "TextModel",
      "state": {
       "description": "K :",
       "layout": "IPY_MODEL_110130bfb23644e7ad8b6c24727466f9",
       "placeholder": "Type a value for K",
       "style": "IPY_MODEL_9be89f3a6bac43ebadc82a8370dac2f2",
       "value": "2"
      }
     },
     "561c24d47fe14c6786d1851013742a5a": {
      "model_module": "@jupyter-widgets/controls",
      "model_module_version": "1.4.0",
      "model_name": "TextModel",
      "state": {
       "description": "K :",
       "layout": "IPY_MODEL_419e663d6aaf45c395d6e2c713443db3",
       "placeholder": "Type a value for K",
       "style": "IPY_MODEL_4121b673d5bf4355a1d8739aa7cee7ee",
       "value": "1"
      }
     },
     "565b9acd99454c5b964f12d924193905": {
      "model_module": "@jupyter-widgets/controls",
      "model_module_version": "1.4.0",
      "model_name": "HBoxModel",
      "state": {
       "children": [
        "IPY_MODEL_a08d2eb478604259a00f4bd316bc332a",
        "IPY_MODEL_633451798da349ba869556738259ca83",
        "IPY_MODEL_62dc201026c943bf969c4946bf8c99a6"
       ],
       "layout": "IPY_MODEL_0abd3cd92cba4538998611145a9e594e"
      }
     },
     "5663e02ae5624eee9188f3a611817001": {
      "model_module": "@jupyter-widgets/base",
      "model_module_version": "1.1.0",
      "model_name": "LayoutModel",
      "state": {}
     },
     "5671af4712fd4e69a07d97c47bc8cee2": {
      "model_module": "@jupyter-widgets/controls",
      "model_module_version": "1.4.0",
      "model_name": "HBoxModel",
      "state": {
       "children": [
        "IPY_MODEL_c744e9ca918b4315ae123beb849a826c",
        "IPY_MODEL_78fd85cdda9c4bf3b904f423bf7ee4db",
        "IPY_MODEL_a200836dbb894bb6ac8fa9a9d0d6fc1b"
       ],
       "layout": "IPY_MODEL_14d7b15ce9bf44cd8deefc0ec87dcc84"
      }
     },
     "56c60327f46a4092a132688b90198135": {
      "model_module": "@jupyter-widgets/controls",
      "model_module_version": "1.4.0",
      "model_name": "ButtonStyleModel",
      "state": {}
     },
     "56ca8754037441149f315fa0512517de": {
      "model_module": "@jupyter-widgets/controls",
      "model_module_version": "1.4.0",
      "model_name": "HBoxModel",
      "state": {
       "children": [
        "IPY_MODEL_b6d5108815184479ba465fa8e5c50912",
        "IPY_MODEL_3702a4a03c2b4de0a6e0521091f943c5",
        "IPY_MODEL_70a4c433f70c4ce8b4b7156ffe56d0ba"
       ],
       "layout": "IPY_MODEL_c09c8145f32546d6aff605ca73059e42"
      }
     },
     "56edee20008d434f83b48aaf3b18858a": {
      "model_module": "@jupyter-widgets/controls",
      "model_module_version": "1.4.0",
      "model_name": "HBoxModel",
      "state": {
       "children": [
        "IPY_MODEL_87e12328b2704217b2637097448c077c",
        "IPY_MODEL_4c160a31c16547bd97cbba38514dd127",
        "IPY_MODEL_c447007bc68641a18fb2b1f3575a4539"
       ],
       "layout": "IPY_MODEL_694515cd6122419d8f621cedb56df766"
      }
     },
     "56f5b4f89eff4c84b733623543c6e1a2": {
      "model_module": "@jupyter-widgets/controls",
      "model_module_version": "1.4.0",
      "model_name": "DescriptionStyleModel",
      "state": {
       "description_width": ""
      }
     },
     "570ef40124204be3a5164c3ea8bf765f": {
      "model_module": "@jupyter-widgets/base",
      "model_module_version": "1.1.0",
      "model_name": "LayoutModel",
      "state": {}
     },
     "571d76eb267e44468b9c1e5eb44269dd": {
      "model_module": "@jupyter-widgets/base",
      "model_module_version": "1.1.0",
      "model_name": "LayoutModel",
      "state": {}
     },
     "5762a6645b9d44df91e7d6788c84fe8e": {
      "model_module": "@jupyter-widgets/controls",
      "model_module_version": "1.4.0",
      "model_name": "ButtonModel",
      "state": {
       "description": "Order 1",
       "layout": "IPY_MODEL_5dbac702a9d84283b7ddc9e6045b4b53",
       "style": "IPY_MODEL_ae40a7943b664a7eafaeaf80b11fbd67"
      }
     },
     "57cada8e658145ac9f9ff99c46e8ca04": {
      "model_module": "@jupyter-widgets/controls",
      "model_module_version": "1.4.0",
      "model_name": "ButtonStyleModel",
      "state": {}
     },
     "57f92bfdaf444081aae6e76706122c20": {
      "model_module": "@jupyter-widgets/base",
      "model_module_version": "1.1.0",
      "model_name": "LayoutModel",
      "state": {}
     },
     "581abd6310ad4dd2b96a42b609ce4c73": {
      "model_module": "@jupyter-widgets/controls",
      "model_module_version": "1.4.0",
      "model_name": "ButtonModel",
      "state": {
       "description": "Order 2",
       "layout": "IPY_MODEL_239d74c4f3d74a35b38e55b86e717d45",
       "style": "IPY_MODEL_bbe5eaff4dbe422d9b08b4eaacb05ccf"
      }
     },
     "584be6a7bba548048b0dced1619f6ab1": {
      "model_module": "@jupyter-widgets/controls",
      "model_module_version": "1.4.0",
      "model_name": "ButtonStyleModel",
      "state": {}
     },
     "585b0ca47b634da6a8ba6a99c49700ec": {
      "model_module": "@jupyter-widgets/controls",
      "model_module_version": "1.4.0",
      "model_name": "ButtonStyleModel",
      "state": {}
     },
     "588082cead2c41be8dfa70ff2a954194": {
      "model_module": "@jupyter-widgets/controls",
      "model_module_version": "1.4.0",
      "model_name": "DescriptionStyleModel",
      "state": {
       "description_width": ""
      }
     },
     "5896301a5e2b455bb11bd2412b618774": {
      "model_module": "@jupyter-widgets/controls",
      "model_module_version": "1.4.0",
      "model_name": "TextModel",
      "state": {
       "description": "T :",
       "layout": "IPY_MODEL_ec2d23089fd5414dba3aded4ccb63dd4",
       "placeholder": "Type a value for T",
       "style": "IPY_MODEL_d8a2d699bdda4e818e4d59924ff2fbbf",
       "value": "3"
      }
     },
     "58a744a1503e4ce3a03c4ce5ee44bcb4": {
      "model_module": "@jupyter-widgets/controls",
      "model_module_version": "1.4.0",
      "model_name": "TextModel",
      "state": {
       "description": "K :",
       "layout": "IPY_MODEL_15f9439875a8436ea496ca29d176b397",
       "placeholder": "Type a value for K",
       "style": "IPY_MODEL_ca7fbb41e92d4a539a3f48990ac80605",
       "value": "6"
      }
     },
     "58b58cd0c397440fa6c0bf17a837cc61": {
      "model_module": "@jupyter-widgets/controls",
      "model_module_version": "1.4.0",
      "model_name": "ButtonStyleModel",
      "state": {}
     },
     "58ba56810af64704b89e3f6d87fd0959": {
      "model_module": "@jupyter-widgets/base",
      "model_module_version": "1.1.0",
      "model_name": "LayoutModel",
      "state": {}
     },
     "5923b876989941de900dcf5b71218e57": {
      "model_module": "@jupyter-widgets/base",
      "model_module_version": "1.1.0",
      "model_name": "LayoutModel",
      "state": {}
     },
     "592a35cab3d64d4aa9759368473cb0af": {
      "model_module": "@jupyter-widgets/controls",
      "model_module_version": "1.4.0",
      "model_name": "ButtonStyleModel",
      "state": {}
     },
     "594d1af66d054b06b8376de13100ae76": {
      "model_module": "@jupyter-widgets/base",
      "model_module_version": "1.1.0",
      "model_name": "LayoutModel",
      "state": {}
     },
     "5990827057c0476d8768c393fe690c3b": {
      "model_module": "@jupyter-widgets/controls",
      "model_module_version": "1.4.0",
      "model_name": "ButtonModel",
      "state": {
       "description": "Order 2",
       "layout": "IPY_MODEL_1fb80fb773074f05bdb9ce76fd4705b8",
       "style": "IPY_MODEL_0c07bd0e8dd6424780247f91c55a68cc"
      }
     },
     "59b3be2897f84aec8ed75c6a6dfb647d": {
      "model_module": "@jupyter-widgets/controls",
      "model_module_version": "1.4.0",
      "model_name": "ButtonStyleModel",
      "state": {}
     },
     "59e615df7cd641f7b79e0aa342902319": {
      "model_module": "@jupyter-widgets/base",
      "model_module_version": "1.1.0",
      "model_name": "LayoutModel",
      "state": {}
     },
     "5a33ad7b0980464b950a9fd180a31a8d": {
      "model_module": "@jupyter-widgets/base",
      "model_module_version": "1.1.0",
      "model_name": "LayoutModel",
      "state": {}
     },
     "5ac328ffa57146cbaec480ea6d172007": {
      "model_module": "@jupyter-widgets/controls",
      "model_module_version": "1.4.0",
      "model_name": "ButtonModel",
      "state": {
       "description": "Order > 2",
       "layout": "IPY_MODEL_e8044241ad3840aa8d5a2eb11922cd1e",
       "style": "IPY_MODEL_ab8187c490a1441d88e57a62e07f0993"
      }
     },
     "5ac87ed48155403ea6f92991471a0db1": {
      "model_module": "@jupyter-widgets/controls",
      "model_module_version": "1.4.0",
      "model_name": "DescriptionStyleModel",
      "state": {
       "description_width": ""
      }
     },
     "5b3aec234aec49ef9f745d894479f65e": {
      "model_module": "@jupyter-widgets/controls",
      "model_module_version": "1.4.0",
      "model_name": "ButtonStyleModel",
      "state": {}
     },
     "5bd4cd927d82433c9dbc81bc53ab7dd2": {
      "model_module": "@jupyter-widgets/base",
      "model_module_version": "1.1.0",
      "model_name": "LayoutModel",
      "state": {}
     },
     "5be9e251c4c94e70af976219e49c8636": {
      "model_module": "@jupyter-widgets/controls",
      "model_module_version": "1.4.0",
      "model_name": "ButtonStyleModel",
      "state": {}
     },
     "5c0ca146bc8148c1884da36df9d863a6": {
      "model_module": "@jupyter-widgets/controls",
      "model_module_version": "1.4.0",
      "model_name": "ButtonStyleModel",
      "state": {}
     },
     "5d12c6015ede4ffb87e209abe2422ea4": {
      "model_module": "@jupyter-widgets/controls",
      "model_module_version": "1.4.0",
      "model_name": "DescriptionStyleModel",
      "state": {
       "description_width": ""
      }
     },
     "5d6a6dc92e9d425ca6463eeaede30769": {
      "model_module": "@jupyter-widgets/controls",
      "model_module_version": "1.4.0",
      "model_name": "ButtonStyleModel",
      "state": {}
     },
     "5dbac702a9d84283b7ddc9e6045b4b53": {
      "model_module": "@jupyter-widgets/base",
      "model_module_version": "1.1.0",
      "model_name": "LayoutModel",
      "state": {}
     },
     "5e3997e095734c89a3962f25e6ebacd5": {
      "model_module": "@jupyter-widgets/base",
      "model_module_version": "1.1.0",
      "model_name": "LayoutModel",
      "state": {}
     },
     "5e9396aeede14ecc8a4822b659196d8d": {
      "model_module": "@jupyter-widgets/controls",
      "model_module_version": "1.4.0",
      "model_name": "TextModel",
      "state": {
       "description": "T :",
       "layout": "IPY_MODEL_e6ccc53a793e4a56a5dcaab4b42798d9",
       "placeholder": "Type a value for T",
       "style": "IPY_MODEL_45af7e5edbcf4b6cb5737d8a0e940f25",
       "value": "5"
      }
     },
     "5eb9e7f682c94730bbdf5c1ee47f1449": {
      "model_module": "@jupyter-widgets/controls",
      "model_module_version": "1.4.0",
      "model_name": "ButtonModel",
      "state": {
       "description": "Order 2",
       "layout": "IPY_MODEL_b8eb7278270540afb1ff4e07b9ac023a",
       "style": "IPY_MODEL_f60661a7be2848699a2c5da7638a2ad4"
      }
     },
     "5eec8c2288a549108abc39bcdc6f179a": {
      "model_module": "@jupyter-widgets/controls",
      "model_module_version": "1.4.0",
      "model_name": "ButtonModel",
      "state": {
       "description": "Order 2",
       "layout": "IPY_MODEL_387fc88ce27c49d1af22c469e5215852",
       "style": "IPY_MODEL_13e870e1d9f042c6831ce0d4cafc3804"
      }
     },
     "5ef0e7869539401bb08e8821e6a5f102": {
      "model_module": "@jupyter-widgets/base",
      "model_module_version": "1.1.0",
      "model_name": "LayoutModel",
      "state": {}
     },
     "5ef3175a3e944037a45ff5e7b7fc218e": {
      "model_module": "@jupyter-widgets/controls",
      "model_module_version": "1.4.0",
      "model_name": "ButtonStyleModel",
      "state": {}
     },
     "5f660ca44722498f907001d0ef752466": {
      "model_module": "@jupyter-widgets/controls",
      "model_module_version": "1.4.0",
      "model_name": "DescriptionStyleModel",
      "state": {
       "description_width": ""
      }
     },
     "5fb5293d42bc4a58b962bd297c22d227": {
      "model_module": "@jupyter-widgets/controls",
      "model_module_version": "1.4.0",
      "model_name": "LabelModel",
      "state": {
       "description": "LabelOK",
       "layout": "IPY_MODEL_7279c7b917d24d4f960426298b7fd0f0",
       "style": "IPY_MODEL_79243eb07df441ac933043be03220142"
      }
     },
     "5fd0530a2e894d78b8d3f28aa3f5a2ea": {
      "model_module": "@jupyter-widgets/base",
      "model_module_version": "1.1.0",
      "model_name": "LayoutModel",
      "state": {}
     },
     "5fe2031dfcfa4537bdedcb012172563c": {
      "model_module": "@jupyter-widgets/base",
      "model_module_version": "1.1.0",
      "model_name": "LayoutModel",
      "state": {}
     },
     "6001cdbe2c9444d3956cc09d62cbb0e3": {
      "model_module": "@jupyter-widgets/controls",
      "model_module_version": "1.4.0",
      "model_name": "ButtonModel",
      "state": {
       "description": "Order 1",
       "layout": "IPY_MODEL_17a1fa41fc1748eca0b4b9647ed9ce3a",
       "style": "IPY_MODEL_93c729441abd4763ae8c7e41202680ad"
      }
     },
     "60334d5485f6424f835ecc089e16580f": {
      "model_module": "@jupyter-widgets/controls",
      "model_module_version": "1.4.0",
      "model_name": "ButtonStyleModel",
      "state": {}
     },
     "60468de212c54848904e3b34c2e68947": {
      "model_module": "@jupyter-widgets/controls",
      "model_module_version": "1.4.0",
      "model_name": "ButtonModel",
      "state": {
       "description": "Order 1",
       "layout": "IPY_MODEL_7193e3b42cff43afbfdacf11c02baa41",
       "style": "IPY_MODEL_96fa33f900c44d95a0d9e591e3873048"
      }
     },
     "605c48889bf04f4dad0f21e2385f49e6": {
      "model_module": "@jupyter-widgets/base",
      "model_module_version": "1.1.0",
      "model_name": "LayoutModel",
      "state": {}
     },
     "60e412b256bd44158ad638a554773c6b": {
      "model_module": "@jupyter-widgets/controls",
      "model_module_version": "1.4.0",
      "model_name": "TextModel",
      "state": {
       "description": "K :",
       "layout": "IPY_MODEL_457c090f60064d808ab0d0cea59072cc",
       "placeholder": "Type a value for K",
       "style": "IPY_MODEL_af496f264c734c489687545d345088f5",
       "value": "3"
      }
     },
     "60f525bbd5b94960a29478ba7fca4371": {
      "model_module": "@jupyter-widgets/controls",
      "model_module_version": "1.4.0",
      "model_name": "TextModel",
      "state": {
       "description": "T :",
       "layout": "IPY_MODEL_ad652dc7b6b443fc8dd8b48d2e4967e7",
       "placeholder": "Type a value for T",
       "style": "IPY_MODEL_2503771a94724daaa89a794a635375d8",
       "value": "2"
      }
     },
     "612570422a104c8584fc11530f1e6a69": {
      "model_module": "@jupyter-widgets/controls",
      "model_module_version": "1.4.0",
      "model_name": "ButtonStyleModel",
      "state": {}
     },
     "613ff14bb79b4ab3bbf5c4cc3f29d992": {
      "model_module": "@jupyter-widgets/controls",
      "model_module_version": "1.4.0",
      "model_name": "ButtonStyleModel",
      "state": {}
     },
     "6185b3ca324d45f181147a430c1c444b": {
      "model_module": "@jupyter-widgets/controls",
      "model_module_version": "1.4.0",
      "model_name": "DescriptionStyleModel",
      "state": {
       "description_width": ""
      }
     },
     "6198d454330f494f96271e0844b31bfa": {
      "model_module": "@jupyter-widgets/controls",
      "model_module_version": "1.4.0",
      "model_name": "HBoxModel",
      "state": {
       "children": [
        "IPY_MODEL_8ec618989b1d45109f44f2985a74450a",
        "IPY_MODEL_abb1c260f87b438782c1c7fb2f5d6471",
        "IPY_MODEL_4466ed4be82d4848924bf3f6be099443"
       ],
       "layout": "IPY_MODEL_ef41f145496e43cd91c109ecce6e12fd"
      }
     },
     "619f39b1f62b489a8a41616728574379": {
      "model_module": "@jupyter-widgets/controls",
      "model_module_version": "1.4.0",
      "model_name": "HBoxModel",
      "state": {
       "children": [
        "IPY_MODEL_f94741e4782e4ea5988dc8e8285c78f8",
        "IPY_MODEL_a5730ed81c6e4e138e38e8b4f168d5c5",
        "IPY_MODEL_a2645741440c46a6b50ae1ad0e5764fe"
       ],
       "layout": "IPY_MODEL_e4e4c983b5a048fabe4db7f4d9340ec5"
      }
     },
     "61a5aba3ca764901ae0290ed84c78e74": {
      "model_module": "@jupyter-widgets/controls",
      "model_module_version": "1.4.0",
      "model_name": "TextModel",
      "state": {
       "description": "T :",
       "layout": "IPY_MODEL_570ef40124204be3a5164c3ea8bf765f",
       "placeholder": "Type a value for T",
       "style": "IPY_MODEL_9adf9d23571a477c9812c5638d79a592",
       "value": "1"
      }
     },
     "61aa6af42bd64c338cacf111de97624d": {
      "model_module": "@jupyter-widgets/base",
      "model_module_version": "1.1.0",
      "model_name": "LayoutModel",
      "state": {}
     },
     "621b32702d0a4b078a7ac55690475f99": {
      "model_module": "@jupyter-widgets/controls",
      "model_module_version": "1.4.0",
      "model_name": "ButtonStyleModel",
      "state": {}
     },
     "623f81f1d23449e2831ae6763bd159bd": {
      "model_module": "@jupyter-widgets/controls",
      "model_module_version": "1.4.0",
      "model_name": "ButtonStyleModel",
      "state": {}
     },
     "625748bd4f13440bbbb0b953753cf2ea": {
      "model_module": "@jupyter-widgets/controls",
      "model_module_version": "1.4.0",
      "model_name": "ButtonStyleModel",
      "state": {}
     },
     "629cd26ef269478db151d0331d71adcf": {
      "model_module": "@jupyter-widgets/controls",
      "model_module_version": "1.4.0",
      "model_name": "ButtonModel",
      "state": {
       "description": "Valider",
       "layout": "IPY_MODEL_fe59cb68e9724613887e8b16391e822a",
       "style": "IPY_MODEL_c0000e4b122b438286a0abcfe2962f6c"
      }
     },
     "62b60d32ecc74fefafd34529da960f73": {
      "model_module": "@jupyter-widgets/base",
      "model_module_version": "1.1.0",
      "model_name": "LayoutModel",
      "state": {}
     },
     "62d40b07ffd442acadd7bb9cdb79b096": {
      "model_module": "@jupyter-widgets/controls",
      "model_module_version": "1.4.0",
      "model_name": "ButtonModel",
      "state": {
       "description": "Valider",
       "layout": "IPY_MODEL_7ea20a0a53c549f0a1a23a58cc796e93",
       "style": "IPY_MODEL_514b78ff75c242529f6b5f91bf5313b8"
      }
     },
     "62d73bf36da14296beaf7848d5c6bcb0": {
      "model_module": "@jupyter-widgets/controls",
      "model_module_version": "1.4.0",
      "model_name": "ButtonModel",
      "state": {
       "description": "Order 2",
       "layout": "IPY_MODEL_258ab7c0fb0d4cc09562102058993539",
       "style": "IPY_MODEL_80a5c9f09a3d453ea84b275c848a8c43"
      }
     },
     "62dc201026c943bf969c4946bf8c99a6": {
      "model_module": "@jupyter-widgets/controls",
      "model_module_version": "1.4.0",
      "model_name": "ButtonModel",
      "state": {
       "description": "Order > 2",
       "layout": "IPY_MODEL_125b1ccd59ae40e8b04af5f7ca690932",
       "style": "IPY_MODEL_c2688c99935547ba96f79f4fc88ce018"
      }
     },
     "6303a5e2e54f4c6d85153f7be2f46717": {
      "model_module": "@jupyter-widgets/base",
      "model_module_version": "1.1.0",
      "model_name": "LayoutModel",
      "state": {}
     },
     "632b7098b5d4460aa130a5575b8e2eb9": {
      "model_module": "@jupyter-widgets/base",
      "model_module_version": "1.1.0",
      "model_name": "LayoutModel",
      "state": {}
     },
     "633451798da349ba869556738259ca83": {
      "model_module": "@jupyter-widgets/controls",
      "model_module_version": "1.4.0",
      "model_name": "ButtonModel",
      "state": {
       "description": "Order 2",
       "layout": "IPY_MODEL_e93d7743e7ed41bbb0cee03427ecce85",
       "style": "IPY_MODEL_9551ed9b725142ed8cac206a32537e68"
      }
     },
     "634a8258893e4d9bb574895ba48d3512": {
      "model_module": "@jupyter-widgets/base",
      "model_module_version": "1.1.0",
      "model_name": "LayoutModel",
      "state": {}
     },
     "6359248b970743d88fe3fc22c056dfe3": {
      "model_module": "@jupyter-widgets/controls",
      "model_module_version": "1.4.0",
      "model_name": "ButtonStyleModel",
      "state": {}
     },
     "636b562dcb1e401ab5c0a39dcd5f72e9": {
      "model_module": "@jupyter-widgets/base",
      "model_module_version": "1.1.0",
      "model_name": "LayoutModel",
      "state": {}
     },
     "63a1a323ff9e4dbaa7cb81f6a8373ca6": {
      "model_module": "@jupyter-widgets/controls",
      "model_module_version": "1.4.0",
      "model_name": "TextModel",
      "state": {
       "description": "K :",
       "layout": "IPY_MODEL_2394f19faf974c49b180d7085c71c693",
       "placeholder": "Type a value for K",
       "style": "IPY_MODEL_eab66f85619e4971906cf529bfb51710",
       "value": "2"
      }
     },
     "63e9c373cefb4f18bea2bf455ba23735": {
      "model_module": "@jupyter-widgets/base",
      "model_module_version": "1.1.0",
      "model_name": "LayoutModel",
      "state": {}
     },
     "644ac7e315154e2c891eb8bd3b08ab45": {
      "model_module": "@jupyter-widgets/base",
      "model_module_version": "1.1.0",
      "model_name": "LayoutModel",
      "state": {}
     },
     "65092c4311b84625aa850263b5ff3811": {
      "model_module": "@jupyter-widgets/base",
      "model_module_version": "1.1.0",
      "model_name": "LayoutModel",
      "state": {}
     },
     "650c3433a2a747098a5778178affcb22": {
      "model_module": "@jupyter-widgets/base",
      "model_module_version": "1.1.0",
      "model_name": "LayoutModel",
      "state": {}
     },
     "6529da2495024019975affd871df6673": {
      "model_module": "@jupyter-widgets/base",
      "model_module_version": "1.1.0",
      "model_name": "LayoutModel",
      "state": {}
     },
     "656483980b3e4031bfe949b5b0b68868": {
      "model_module": "@jupyter-widgets/controls",
      "model_module_version": "1.4.0",
      "model_name": "HBoxModel",
      "state": {
       "children": [
        "IPY_MODEL_7554e9cb78084ab5a0a6f8bf5892d8c1",
        "IPY_MODEL_aa6cfcdaa38e4598a4b2d7d97bc9379e",
        "IPY_MODEL_df025b992f1c4575958fab92fd3a12ce"
       ],
       "layout": "IPY_MODEL_98b6ae3efd9f4b71b1d5aca39081b8dd"
      }
     },
     "65af2bdc0327477b8ae819c52561ccf7": {
      "model_module": "@jupyter-widgets/controls",
      "model_module_version": "1.4.0",
      "model_name": "HBoxModel",
      "state": {
       "children": [
        "IPY_MODEL_061daf3ea15c41e898fa0c8cf731547a",
        "IPY_MODEL_f64ed0891a984e32bbfefe927660d4f9",
        "IPY_MODEL_8a050c328ec5472ebff99d914860ff9e"
       ],
       "layout": "IPY_MODEL_3a52b7de7f3b4947bb9e34b8b7074a0c"
      }
     },
     "65cbc6a218b444c394cfce39d11118a3": {
      "model_module": "@jupyter-widgets/controls",
      "model_module_version": "1.4.0",
      "model_name": "DescriptionStyleModel",
      "state": {
       "description_width": ""
      }
     },
     "65dbc8edd7104ebabd257446d49a9753": {
      "model_module": "@jupyter-widgets/controls",
      "model_module_version": "1.4.0",
      "model_name": "ButtonModel",
      "state": {
       "description": "Order > 2",
       "layout": "IPY_MODEL_0b9ac3fc310544c4addc661b8da8a839",
       "style": "IPY_MODEL_87556f1e6abe49b1b13598ea5fff2f51"
      }
     },
     "65ed935241624b05899afdbb218c3b27": {
      "model_module": "@jupyter-widgets/controls",
      "model_module_version": "1.4.0",
      "model_name": "DescriptionStyleModel",
      "state": {
       "description_width": ""
      }
     },
     "6633c5f1a05140ea81bcc22de99ac44b": {
      "model_module": "@jupyter-widgets/controls",
      "model_module_version": "1.4.0",
      "model_name": "TextModel",
      "state": {
       "description": "K :",
       "layout": "IPY_MODEL_780d4bbb6fe14c02a781dae0df0da763",
       "placeholder": "Type a value for K",
       "style": "IPY_MODEL_c8e896aa185a4112bf514823f5938324",
       "value": "2"
      }
     },
     "6644ee37ffd240a59970f0d0b86a4428": {
      "model_module": "@jupyter-widgets/controls",
      "model_module_version": "1.4.0",
      "model_name": "HBoxModel",
      "state": {
       "children": [
        "IPY_MODEL_1a68e2d33b814afcbc7e087817219b4a",
        "IPY_MODEL_1570a76f32ba4665bb26f32a917a406a",
        "IPY_MODEL_b84ed21f21cd46749e1b00fdd4699a13"
       ],
       "layout": "IPY_MODEL_cb9c7cc8b730453c8cf092e548ea3b91"
      }
     },
     "666b7535779e49ed8ac0f152b424fff8": {
      "model_module": "@jupyter-widgets/controls",
      "model_module_version": "1.4.0",
      "model_name": "HBoxModel",
      "state": {
       "children": [
        "IPY_MODEL_1953b9b60efb454d9dd77b2a7839777f",
        "IPY_MODEL_465e622e7adc4156acad658594f645fc",
        "IPY_MODEL_72049d4b0a3c4d5b8732b72749330ca1"
       ],
       "layout": "IPY_MODEL_ce3255738ffa4e30a4dc2ca9fbdef833"
      }
     },
     "66c5548eda8240d2846948b78891b714": {
      "model_module": "@jupyter-widgets/controls",
      "model_module_version": "1.4.0",
      "model_name": "ButtonStyleModel",
      "state": {}
     },
     "66f0dd227ae14c7ab840e9fe3b0b01a0": {
      "model_module": "@jupyter-widgets/controls",
      "model_module_version": "1.4.0",
      "model_name": "HBoxModel",
      "state": {
       "children": [
        "IPY_MODEL_17d5b3f3e69948bea028884ca2b4cce1",
        "IPY_MODEL_4f5299c061e0444ca3b827e047916600",
        "IPY_MODEL_0f21125461f8439d96a392e96d8db6dc"
       ],
       "layout": "IPY_MODEL_45b9ad163c8c4d01bf41aca026908d81"
      }
     },
     "67467a515aa64dd5abce478b85223db3": {
      "model_module": "@jupyter-widgets/controls",
      "model_module_version": "1.4.0",
      "model_name": "ButtonModel",
      "state": {
       "description": "Order > 2",
       "layout": "IPY_MODEL_097736f0d70941e5a0d318f819422c75",
       "style": "IPY_MODEL_d833d561aa9843a9a3dbdb6f04a885a9"
      }
     },
     "6765accfeccd4fbe8e43e75c9a341c60": {
      "model_module": "@jupyter-widgets/controls",
      "model_module_version": "1.4.0",
      "model_name": "ButtonStyleModel",
      "state": {}
     },
     "678f4e734e5f477eb849c906b97834fe": {
      "model_module": "@jupyter-widgets/controls",
      "model_module_version": "1.4.0",
      "model_name": "ButtonStyleModel",
      "state": {}
     },
     "67ac0614f7a147c9bcefe9da0cf1729e": {
      "model_module": "@jupyter-widgets/controls",
      "model_module_version": "1.4.0",
      "model_name": "ButtonStyleModel",
      "state": {}
     },
     "67b13a73ffd142bcbb3d3bb5bb25dd35": {
      "model_module": "@jupyter-widgets/base",
      "model_module_version": "1.1.0",
      "model_name": "LayoutModel",
      "state": {}
     },
     "67de35da77484bd58fdbadce27689074": {
      "model_module": "@jupyter-widgets/controls",
      "model_module_version": "1.4.0",
      "model_name": "ButtonModel",
      "state": {
       "description": "Order 2",
       "layout": "IPY_MODEL_249d8cdbc04149a69beba2e1720c03ee",
       "style": "IPY_MODEL_2e401131c95347d8802365522ca56000"
      }
     },
     "68479570d03745dd8cce42bce971dc23": {
      "model_module": "@jupyter-widgets/base",
      "model_module_version": "1.1.0",
      "model_name": "LayoutModel",
      "state": {}
     },
     "68e4ae09572d43cea73cb94cfb467702": {
      "model_module": "@jupyter-widgets/base",
      "model_module_version": "1.1.0",
      "model_name": "LayoutModel",
      "state": {}
     },
     "68e5e29356894510bd93ba55b650f2f6": {
      "model_module": "@jupyter-widgets/base",
      "model_module_version": "1.1.0",
      "model_name": "LayoutModel",
      "state": {}
     },
     "69201fd8460e4ec9b5281392a0c8c1e3": {
      "model_module": "@jupyter-widgets/controls",
      "model_module_version": "1.4.0",
      "model_name": "DescriptionStyleModel",
      "state": {
       "description_width": ""
      }
     },
     "694515cd6122419d8f621cedb56df766": {
      "model_module": "@jupyter-widgets/base",
      "model_module_version": "1.1.0",
      "model_name": "LayoutModel",
      "state": {}
     },
     "697d6037d1204fb591406cdbde38d42c": {
      "model_module": "@jupyter-widgets/controls",
      "model_module_version": "1.4.0",
      "model_name": "ButtonStyleModel",
      "state": {}
     },
     "698765db528a47aa98f4a5c9d9836478": {
      "model_module": "@jupyter-widgets/controls",
      "model_module_version": "1.4.0",
      "model_name": "DescriptionStyleModel",
      "state": {
       "description_width": ""
      }
     },
     "69b37c8e352c489c97c0d4291af7967a": {
      "model_module": "@jupyter-widgets/base",
      "model_module_version": "1.1.0",
      "model_name": "LayoutModel",
      "state": {}
     },
     "69cf7bd429bc489b9ea9484b33d88df4": {
      "model_module": "@jupyter-widgets/controls",
      "model_module_version": "1.4.0",
      "model_name": "ButtonStyleModel",
      "state": {}
     },
     "6a2d296ab83a4a79a02885fb4128cc45": {
      "model_module": "@jupyter-widgets/controls",
      "model_module_version": "1.4.0",
      "model_name": "ButtonModel",
      "state": {
       "description": "Order 1",
       "layout": "IPY_MODEL_6f1d2050760344088eab9e56e6613235",
       "style": "IPY_MODEL_fdb3fb81b5e946498d861f577ebfffdf"
      }
     },
     "6a44cef7c22146ec9a0ed3529bc5a94e": {
      "model_module": "@jupyter-widgets/base",
      "model_module_version": "1.1.0",
      "model_name": "LayoutModel",
      "state": {}
     },
     "6a8949e7b24c40a0b981945e4397bb0d": {
      "model_module": "@jupyter-widgets/controls",
      "model_module_version": "1.4.0",
      "model_name": "ButtonStyleModel",
      "state": {}
     },
     "6a89632df7f64a129a180b3aaec5bf84": {
      "model_module": "@jupyter-widgets/controls",
      "model_module_version": "1.4.0",
      "model_name": "DescriptionStyleModel",
      "state": {
       "description_width": ""
      }
     },
     "6a94dc251074413c93e48ccbee0cc736": {
      "model_module": "@jupyter-widgets/controls",
      "model_module_version": "1.4.0",
      "model_name": "ButtonStyleModel",
      "state": {}
     },
     "6aca12d2d74f4938b13fdcb9a939b46c": {
      "model_module": "@jupyter-widgets/controls",
      "model_module_version": "1.4.0",
      "model_name": "ButtonStyleModel",
      "state": {}
     },
     "6b23d980651242ba90cd19e355ad342f": {
      "model_module": "@jupyter-widgets/base",
      "model_module_version": "1.1.0",
      "model_name": "LayoutModel",
      "state": {}
     },
     "6b3de295b15e4e47a8293b39c79aa445": {
      "model_module": "@jupyter-widgets/controls",
      "model_module_version": "1.4.0",
      "model_name": "ButtonModel",
      "state": {
       "description": "Valider",
       "layout": "IPY_MODEL_26f86b886dc440fd9a56d1b3c3e498bf",
       "style": "IPY_MODEL_bf277a2b72584c0690e463e4238b7e5f"
      }
     },
     "6b9af70ad7624dc1be6ddf337464ca17": {
      "model_module": "@jupyter-widgets/controls",
      "model_module_version": "1.4.0",
      "model_name": "ButtonStyleModel",
      "state": {}
     },
     "6ba234e17a1e4f76b519e8aebd26cf13": {
      "model_module": "@jupyter-widgets/base",
      "model_module_version": "1.1.0",
      "model_name": "LayoutModel",
      "state": {}
     },
     "6c888a1fa645453d979ff222b3359e09": {
      "model_module": "@jupyter-widgets/controls",
      "model_module_version": "1.4.0",
      "model_name": "ButtonModel",
      "state": {
       "description": "Order 2",
       "layout": "IPY_MODEL_39abf121e1f947498d5d83d5199f4955",
       "style": "IPY_MODEL_b12b49004e3a4fe987bbdcea8bd9c5c2"
      }
     },
     "6ccd6f5f7dd341d891f79d7d4ee394d8": {
      "model_module": "@jupyter-widgets/controls",
      "model_module_version": "1.4.0",
      "model_name": "TextModel",
      "state": {
       "description": "T :",
       "layout": "IPY_MODEL_25e45e72a79a4938bcf0ea545f36fc44",
       "placeholder": "Type a value for T",
       "style": "IPY_MODEL_416010d09111425f96fb91f57e731c28"
      }
     },
     "6d90b8d9cb8442c9b7c6eb2d35db8aad": {
      "model_module": "@jupyter-widgets/controls",
      "model_module_version": "1.4.0",
      "model_name": "ButtonStyleModel",
      "state": {}
     },
     "6dd699f020a14bf3b07024f2b0ab2663": {
      "model_module": "@jupyter-widgets/base",
      "model_module_version": "1.1.0",
      "model_name": "LayoutModel",
      "state": {}
     },
     "6ddfe53dd86246bb83cb316b34ca1ca9": {
      "model_module": "@jupyter-widgets/controls",
      "model_module_version": "1.4.0",
      "model_name": "ButtonStyleModel",
      "state": {}
     },
     "6de3d76711094d26b9ea15b6dc73e9f2": {
      "model_module": "@jupyter-widgets/controls",
      "model_module_version": "1.4.0",
      "model_name": "ButtonStyleModel",
      "state": {}
     },
     "6e02b30bdbe341208ac6ad9d3f34d1c9": {
      "model_module": "@jupyter-widgets/controls",
      "model_module_version": "1.4.0",
      "model_name": "ButtonStyleModel",
      "state": {}
     },
     "6e82f7ecbb334bbf84fc54d504c86b2b": {
      "model_module": "@jupyter-widgets/base",
      "model_module_version": "1.1.0",
      "model_name": "LayoutModel",
      "state": {}
     },
     "6e982d169ad34cea940c0afb414ad3c7": {
      "model_module": "@jupyter-widgets/base",
      "model_module_version": "1.1.0",
      "model_name": "LayoutModel",
      "state": {}
     },
     "6eab5e2b4b0140698f801dfbd5d91514": {
      "model_module": "@jupyter-widgets/controls",
      "model_module_version": "1.4.0",
      "model_name": "ButtonModel",
      "state": {
       "description": "Order 1",
       "layout": "IPY_MODEL_85563630ba8b4ebdb6b1335c15ea6f90",
       "style": "IPY_MODEL_84955ac1249f48aebef6e9ba8bc037d7"
      }
     },
     "6ec1518511074b68a6ef9cbed1459c47": {
      "model_module": "@jupyter-widgets/controls",
      "model_module_version": "1.4.0",
      "model_name": "TextModel",
      "state": {
       "description": "T :",
       "layout": "IPY_MODEL_941766e18ef44dffbed62993d8cc9c4c",
       "placeholder": "Type a value for T",
       "style": "IPY_MODEL_3e9e192d8b1a466bb0e050e8e120abff",
       "value": "2"
      }
     },
     "6f1d2050760344088eab9e56e6613235": {
      "model_module": "@jupyter-widgets/base",
      "model_module_version": "1.1.0",
      "model_name": "LayoutModel",
      "state": {}
     },
     "6f70c8520cca4d429c3c79a67e24586f": {
      "model_module": "@jupyter-widgets/base",
      "model_module_version": "1.1.0",
      "model_name": "LayoutModel",
      "state": {}
     },
     "700d2db69af34f4fa3863ef8bc08ae30": {
      "model_module": "@jupyter-widgets/controls",
      "model_module_version": "1.4.0",
      "model_name": "TextModel",
      "state": {
       "description": "K :",
       "layout": "IPY_MODEL_5923b876989941de900dcf5b71218e57",
       "placeholder": "Type a value for K",
       "style": "IPY_MODEL_86d558663bcc4d528a1bcb0213720483",
       "value": "7"
      }
     },
     "703083a3fe224147bfec732b240432d7": {
      "model_module": "@jupyter-widgets/controls",
      "model_module_version": "1.4.0",
      "model_name": "ButtonModel",
      "state": {
       "description": "Valider",
       "layout": "IPY_MODEL_2fe4994c79f64afaa5b207686a68418b",
       "style": "IPY_MODEL_16490d205ee14a1bae094520b31de0c5"
      }
     },
     "704aaa0389834d5488b2b7d6d3b8844d": {
      "model_module": "@jupyter-widgets/controls",
      "model_module_version": "1.4.0",
      "model_name": "ButtonStyleModel",
      "state": {}
     },
     "70809cbb32334790b5017eec8ca1ed7c": {
      "model_module": "@jupyter-widgets/controls",
      "model_module_version": "1.4.0",
      "model_name": "ButtonModel",
      "state": {
       "description": "Valider",
       "layout": "IPY_MODEL_4a1547f4d03444299aa43461ca6c89a2",
       "style": "IPY_MODEL_a0ac0d07b4be40b997583717cfeab0be"
      }
     },
     "70a4c433f70c4ce8b4b7156ffe56d0ba": {
      "model_module": "@jupyter-widgets/controls",
      "model_module_version": "1.4.0",
      "model_name": "ButtonModel",
      "state": {
       "description": "Order > 2",
       "layout": "IPY_MODEL_29d8f7f8dddd4c7c99a18d206dbbf038",
       "style": "IPY_MODEL_6a8949e7b24c40a0b981945e4397bb0d"
      }
     },
     "7113d3e3a4d84b4c84c724011180f835": {
      "model_module": "@jupyter-widgets/controls",
      "model_module_version": "1.4.0",
      "model_name": "ButtonStyleModel",
      "state": {}
     },
     "71370cfcc50246a6aa059e3b1c112c28": {
      "model_module": "@jupyter-widgets/controls",
      "model_module_version": "1.4.0",
      "model_name": "TextModel",
      "state": {
       "layout": "IPY_MODEL_5fd0530a2e894d78b8d3f28aa3f5a2ea",
       "style": "IPY_MODEL_72b08261c2604b46973c95ff3d9d3a39",
       "value": "lol"
      }
     },
     "71749322f09f4611bb2b47423a18fa67": {
      "model_module": "@jupyter-widgets/base",
      "model_module_version": "1.1.0",
      "model_name": "LayoutModel",
      "state": {}
     },
     "718b463cf4f64eeb951afb5d18130972": {
      "model_module": "@jupyter-widgets/controls",
      "model_module_version": "1.4.0",
      "model_name": "HBoxModel",
      "state": {
       "children": [
        "IPY_MODEL_15828fd301794268a7fc6e3f88de4ada",
        "IPY_MODEL_b34eaf66354749ef8ce27ea9ed67e5f8",
        "IPY_MODEL_342297b34d9d438ba633ba1014e35a29"
       ],
       "layout": "IPY_MODEL_3fb1d6ce39404e0ab57b9097120c60e1"
      }
     },
     "7193e3b42cff43afbfdacf11c02baa41": {
      "model_module": "@jupyter-widgets/base",
      "model_module_version": "1.1.0",
      "model_name": "LayoutModel",
      "state": {}
     },
     "71c865f9ac634fe2b13f98c19426d7f8": {
      "model_module": "@jupyter-widgets/controls",
      "model_module_version": "1.4.0",
      "model_name": "ButtonModel",
      "state": {
       "description": "Order > 2",
       "layout": "IPY_MODEL_8c9c3d8bd3bd4014ae71465b780f2cc8",
       "style": "IPY_MODEL_0580dff305e14859a79c40eac66b6c00"
      }
     },
     "72049d4b0a3c4d5b8732b72749330ca1": {
      "model_module": "@jupyter-widgets/controls",
      "model_module_version": "1.4.0",
      "model_name": "ButtonModel",
      "state": {
       "description": "Order > 2",
       "layout": "IPY_MODEL_493d25b684bd4ef1b2b9678d681728ed",
       "style": "IPY_MODEL_4a4317520d644fd9b2230b3ea1877e79"
      }
     },
     "722d6d59726842b99108de1629a07c1c": {
      "model_module": "@jupyter-widgets/controls",
      "model_module_version": "1.4.0",
      "model_name": "ButtonStyleModel",
      "state": {}
     },
     "7279c7b917d24d4f960426298b7fd0f0": {
      "model_module": "@jupyter-widgets/base",
      "model_module_version": "1.1.0",
      "model_name": "LayoutModel",
      "state": {}
     },
     "72b08261c2604b46973c95ff3d9d3a39": {
      "model_module": "@jupyter-widgets/controls",
      "model_module_version": "1.4.0",
      "model_name": "DescriptionStyleModel",
      "state": {
       "description_width": ""
      }
     },
     "72b7a4228d3b4ba7bf714bf2b85c715f": {
      "model_module": "@jupyter-widgets/base",
      "model_module_version": "1.1.0",
      "model_name": "LayoutModel",
      "state": {}
     },
     "735a2044488645d6bf8962a967f4be07": {
      "model_module": "@jupyter-widgets/base",
      "model_module_version": "1.1.0",
      "model_name": "LayoutModel",
      "state": {}
     },
     "736ade9f76464171b7d3cfc9bacfd886": {
      "model_module": "@jupyter-widgets/controls",
      "model_module_version": "1.4.0",
      "model_name": "DescriptionStyleModel",
      "state": {
       "description_width": ""
      }
     },
     "73de6c520490470fa79df91fc9c868c8": {
      "model_module": "@jupyter-widgets/controls",
      "model_module_version": "1.4.0",
      "model_name": "ButtonModel",
      "state": {
       "description": "Order > 2",
       "layout": "IPY_MODEL_5ef0e7869539401bb08e8821e6a5f102",
       "style": "IPY_MODEL_584be6a7bba548048b0dced1619f6ab1"
      }
     },
     "73f3c306952142589ff8756122648ec2": {
      "model_module": "@jupyter-widgets/base",
      "model_module_version": "1.1.0",
      "model_name": "LayoutModel",
      "state": {}
     },
     "744f585f31a743a0965acfd8bca9b616": {
      "model_module": "@jupyter-widgets/controls",
      "model_module_version": "1.4.0",
      "model_name": "ButtonStyleModel",
      "state": {}
     },
     "748319407fe04198a100a55d5175abe8": {
      "model_module": "@jupyter-widgets/controls",
      "model_module_version": "1.4.0",
      "model_name": "HBoxModel",
      "state": {
       "children": [
        "IPY_MODEL_4c89c11c128c41ecb74e446bb4124730",
        "IPY_MODEL_cacec260b62f4fd293cffcd64fa36ec1",
        "IPY_MODEL_e1bd643037324abd98a5e8ddd548afc4"
       ],
       "layout": "IPY_MODEL_f0cf2255de14462b9096c771f4e37b48"
      }
     },
     "7523f6f9de51455aaa80b7081be742ae": {
      "model_module": "@jupyter-widgets/controls",
      "model_module_version": "1.4.0",
      "model_name": "DescriptionStyleModel",
      "state": {
       "description_width": ""
      }
     },
     "75296304d96e49b38f97e8c4a560c5c6": {
      "model_module": "@jupyter-widgets/controls",
      "model_module_version": "1.4.0",
      "model_name": "ButtonStyleModel",
      "state": {}
     },
     "7554e9cb78084ab5a0a6f8bf5892d8c1": {
      "model_module": "@jupyter-widgets/controls",
      "model_module_version": "1.4.0",
      "model_name": "ButtonModel",
      "state": {
       "description": "Order 1",
       "layout": "IPY_MODEL_a7f61ac2812b4998a20867955342227f",
       "style": "IPY_MODEL_155913437ac74a0187232a35e292933b"
      }
     },
     "7629a86abc004c99ba53d87d90a69e74": {
      "model_module": "@jupyter-widgets/controls",
      "model_module_version": "1.4.0",
      "model_name": "TextModel",
      "state": {
       "description": "T :",
       "layout": "IPY_MODEL_8d47dc8cedce48f183f5066cf34e8f0f",
       "placeholder": "Type a value for T",
       "style": "IPY_MODEL_c8574b840bb8423381300396c63cb31d",
       "value": "3"
      }
     },
     "767e579d0b324e8f95b3b39358ba322f": {
      "model_module": "@jupyter-widgets/base",
      "model_module_version": "1.1.0",
      "model_name": "LayoutModel",
      "state": {}
     },
     "76cd2c1ae2544d8e8d5628f0a9ee127e": {
      "model_module": "@jupyter-widgets/controls",
      "model_module_version": "1.4.0",
      "model_name": "ButtonStyleModel",
      "state": {}
     },
     "76e3362aaa2649a4a45125f7213d4399": {
      "model_module": "@jupyter-widgets/base",
      "model_module_version": "1.1.0",
      "model_name": "LayoutModel",
      "state": {}
     },
     "76f819f83a234061a5a55d34ebe35201": {
      "model_module": "@jupyter-widgets/controls",
      "model_module_version": "1.4.0",
      "model_name": "ButtonStyleModel",
      "state": {}
     },
     "770b212009204ae9a8ff82a59de3417a": {
      "model_module": "@jupyter-widgets/controls",
      "model_module_version": "1.4.0",
      "model_name": "ButtonStyleModel",
      "state": {}
     },
     "770cd7dd0dd348fdb6648ecd45c5ddab": {
      "model_module": "@jupyter-widgets/base",
      "model_module_version": "1.1.0",
      "model_name": "LayoutModel",
      "state": {}
     },
     "770ddeb113524fbea53489bfda0f6db3": {
      "model_module": "@jupyter-widgets/controls",
      "model_module_version": "1.4.0",
      "model_name": "ButtonStyleModel",
      "state": {}
     },
     "77e8ceb30c6141cd98658e6f58531eda": {
      "model_module": "@jupyter-widgets/controls",
      "model_module_version": "1.4.0",
      "model_name": "ButtonModel",
      "state": {
       "description": "Order > 2",
       "layout": "IPY_MODEL_07a7f6b127154d4ab608e5001d53405c",
       "style": "IPY_MODEL_51907483324c47a6be0bcc89451af163"
      }
     },
     "77ed9193b4b8459683959ba7d445e5fc": {
      "model_module": "@jupyter-widgets/base",
      "model_module_version": "1.1.0",
      "model_name": "LayoutModel",
      "state": {}
     },
     "780d4bbb6fe14c02a781dae0df0da763": {
      "model_module": "@jupyter-widgets/base",
      "model_module_version": "1.1.0",
      "model_name": "LayoutModel",
      "state": {}
     },
     "78aa6040df9840748559b12543caaaf0": {
      "model_module": "@jupyter-widgets/controls",
      "model_module_version": "1.4.0",
      "model_name": "ButtonModel",
      "state": {
       "description": "Valider",
       "layout": "IPY_MODEL_c7a592176fab4719b0b9e548936ca8e2",
       "style": "IPY_MODEL_f2bc7d3e8e974b3ba242e98bda765a9e"
      }
     },
     "78fd85cdda9c4bf3b904f423bf7ee4db": {
      "model_module": "@jupyter-widgets/controls",
      "model_module_version": "1.4.0",
      "model_name": "ButtonModel",
      "state": {
       "description": "Order 2",
       "layout": "IPY_MODEL_7a251078f0bc42e5b9a61469eb264d6c",
       "style": "IPY_MODEL_612570422a104c8584fc11530f1e6a69"
      }
     },
     "79006dfeccbd4c21a3ff8b837ce4924c": {
      "model_module": "@jupyter-widgets/base",
      "model_module_version": "1.1.0",
      "model_name": "LayoutModel",
      "state": {}
     },
     "7913e60e64a040a5952a32ad6ad7887d": {
      "model_module": "@jupyter-widgets/base",
      "model_module_version": "1.1.0",
      "model_name": "LayoutModel",
      "state": {}
     },
     "791a00482d5d467080fa21f8264600a2": {
      "model_module": "@jupyter-widgets/controls",
      "model_module_version": "1.4.0",
      "model_name": "ButtonModel",
      "state": {
       "description": "Valider",
       "layout": "IPY_MODEL_e1c09027827b47d1aa0a1518f93ceb98",
       "style": "IPY_MODEL_f631b96b0f8c49078c3e64f0507beb83"
      }
     },
     "7920557ddb604dc18c9dd010070a807e": {
      "model_module": "@jupyter-widgets/controls",
      "model_module_version": "1.4.0",
      "model_name": "ButtonStyleModel",
      "state": {}
     },
     "79243eb07df441ac933043be03220142": {
      "model_module": "@jupyter-widgets/controls",
      "model_module_version": "1.4.0",
      "model_name": "DescriptionStyleModel",
      "state": {
       "description_width": ""
      }
     },
     "792ee79804a445c1bef9659836f6e87b": {
      "model_module": "@jupyter-widgets/controls",
      "model_module_version": "1.4.0",
      "model_name": "ButtonModel",
      "state": {
       "description": "Order 1",
       "layout": "IPY_MODEL_b3635b379f844329a0e180552a526269",
       "style": "IPY_MODEL_d61ad2caa25f4ea09270760d51a85adf"
      }
     },
     "79c1cb9c878541edac8f676ed543832a": {
      "model_module": "@jupyter-widgets/controls",
      "model_module_version": "1.4.0",
      "model_name": "ButtonStyleModel",
      "state": {}
     },
     "7a19973e9b3248ce8712607e97408356": {
      "model_module": "@jupyter-widgets/controls",
      "model_module_version": "1.4.0",
      "model_name": "TextModel",
      "state": {
       "description": "K :",
       "layout": "IPY_MODEL_1180a903dcba4c71b9d9b8cdc43a7635",
       "placeholder": "Type a value for K",
       "style": "IPY_MODEL_c3f31f09f2a24d3c85fb20110a50464f"
      }
     },
     "7a251078f0bc42e5b9a61469eb264d6c": {
      "model_module": "@jupyter-widgets/base",
      "model_module_version": "1.1.0",
      "model_name": "LayoutModel",
      "state": {}
     },
     "7a55b8322cfa4e3d96c5fd7f8ee36b27": {
      "model_module": "@jupyter-widgets/base",
      "model_module_version": "1.1.0",
      "model_name": "LayoutModel",
      "state": {}
     },
     "7a62c7df18d84d8f99b6d9802a71b6d1": {
      "model_module": "@jupyter-widgets/controls",
      "model_module_version": "1.4.0",
      "model_name": "ButtonStyleModel",
      "state": {}
     },
     "7acf70cc4ba543c181376c18f8d3807e": {
      "model_module": "@jupyter-widgets/base",
      "model_module_version": "1.1.0",
      "model_name": "LayoutModel",
      "state": {}
     },
     "7b2bcfbd580649e5a99c22fe01cb900e": {
      "model_module": "@jupyter-widgets/base",
      "model_module_version": "1.1.0",
      "model_name": "LayoutModel",
      "state": {}
     },
     "7b3a98def5de4474bb122e781a4f47c2": {
      "model_module": "@jupyter-widgets/controls",
      "model_module_version": "1.4.0",
      "model_name": "ButtonModel",
      "state": {
       "description": "Order 1",
       "layout": "IPY_MODEL_53f1e4ea0a87479f8bb80dd6a7d85d5a",
       "style": "IPY_MODEL_a6c0f7ee877048048732f61e506d8c09"
      }
     },
     "7b3ae5702876487c97ad2b5fab2993f7": {
      "model_module": "@jupyter-widgets/controls",
      "model_module_version": "1.4.0",
      "model_name": "ButtonModel",
      "state": {
       "description": "Order > 2",
       "layout": "IPY_MODEL_b182ec1fdf6845d8a36e9ef9414a6118",
       "style": "IPY_MODEL_db87f038fdbf49e797c08a4e31bc61be"
      }
     },
     "7b4550cd50bc4edb84317a78acd80609": {
      "model_module": "@jupyter-widgets/base",
      "model_module_version": "1.1.0",
      "model_name": "LayoutModel",
      "state": {}
     },
     "7bcaa18e8f0d4fadacb308805442c933": {
      "model_module": "@jupyter-widgets/base",
      "model_module_version": "1.1.0",
      "model_name": "LayoutModel",
      "state": {}
     },
     "7ca1a22b018b4b23b2c0a12d73585fa6": {
      "model_module": "@jupyter-widgets/controls",
      "model_module_version": "1.4.0",
      "model_name": "ButtonModel",
      "state": {
       "description": "Order 2",
       "layout": "IPY_MODEL_eb31608005bf433c9604b4c18f49d060",
       "style": "IPY_MODEL_e55b92ef36ab4c5ea81f34b13b8c1bcb"
      }
     },
     "7cb9fea225bc4b4183bc04dcf1b50f04": {
      "model_module": "@jupyter-widgets/controls",
      "model_module_version": "1.4.0",
      "model_name": "ButtonStyleModel",
      "state": {}
     },
     "7ccba1e8759d46508c394a3e273c4585": {
      "model_module": "@jupyter-widgets/controls",
      "model_module_version": "1.4.0",
      "model_name": "TextModel",
      "state": {
       "description": "T :",
       "layout": "IPY_MODEL_a60ba4a40017441f8c03ab3ce9488a48",
       "placeholder": "Type a value for T",
       "style": "IPY_MODEL_56f5b4f89eff4c84b733623543c6e1a2"
      }
     },
     "7d0006a149484720a82bae1ec0d1dab3": {
      "model_module": "@jupyter-widgets/controls",
      "model_module_version": "1.4.0",
      "model_name": "ButtonStyleModel",
      "state": {}
     },
     "7d04739353c04c0483e46be0f91b3f07": {
      "model_module": "@jupyter-widgets/controls",
      "model_module_version": "1.4.0",
      "model_name": "ButtonStyleModel",
      "state": {}
     },
     "7d1a3f4b2dd04c60a70f52417b29a806": {
      "model_module": "@jupyter-widgets/controls",
      "model_module_version": "1.4.0",
      "model_name": "ButtonModel",
      "state": {
       "description": "Order 1",
       "layout": "IPY_MODEL_767e579d0b324e8f95b3b39358ba322f",
       "style": "IPY_MODEL_fe4b61ccf99246dbb89fe92c5d060b56"
      }
     },
     "7d56ba9da93b445c81093c4b4ade8c92": {
      "model_module": "@jupyter-widgets/base",
      "model_module_version": "1.1.0",
      "model_name": "LayoutModel",
      "state": {}
     },
     "7e0c853a97434fad8385c0580648d767": {
      "model_module": "@jupyter-widgets/controls",
      "model_module_version": "1.4.0",
      "model_name": "ButtonStyleModel",
      "state": {}
     },
     "7e1267fec0a14d998ab465d8ba3d2377": {
      "model_module": "@jupyter-widgets/controls",
      "model_module_version": "1.4.0",
      "model_name": "ButtonModel",
      "state": {
       "description": "Order 1",
       "layout": "IPY_MODEL_4d7ca9e02478476783128025ab701033",
       "style": "IPY_MODEL_ac81a0829406423287c4e213f2a3be1d"
      }
     },
     "7ea20a0a53c549f0a1a23a58cc796e93": {
      "model_module": "@jupyter-widgets/base",
      "model_module_version": "1.1.0",
      "model_name": "LayoutModel",
      "state": {}
     },
     "7ed4ffb484524bde8e176d266fddd46d": {
      "model_module": "@jupyter-widgets/base",
      "model_module_version": "1.1.0",
      "model_name": "LayoutModel",
      "state": {}
     },
     "7ed5827469d8404f888885e34660d815": {
      "model_module": "@jupyter-widgets/controls",
      "model_module_version": "1.4.0",
      "model_name": "ButtonModel",
      "state": {
       "description": "Order 1",
       "layout": "IPY_MODEL_68479570d03745dd8cce42bce971dc23",
       "style": "IPY_MODEL_df1a4cb963a542deb412c926a20aa696"
      }
     },
     "7ee363774c9e49bab32b40dbb9f01c7d": {
      "model_module": "@jupyter-widgets/controls",
      "model_module_version": "1.4.0",
      "model_name": "ButtonModel",
      "state": {
       "description": "Order 1",
       "layout": "IPY_MODEL_28b23194a7a64a008af7af1a332cc745",
       "style": "IPY_MODEL_c6cfa584d3544bc7b4c30c05fb189aea"
      }
     },
     "7f03705aafb74c3baf5a2f9243a05fcd": {
      "model_module": "@jupyter-widgets/base",
      "model_module_version": "1.1.0",
      "model_name": "LayoutModel",
      "state": {}
     },
     "7f03c675ee0a45a9a6f0a0dde541d8ae": {
      "model_module": "@jupyter-widgets/controls",
      "model_module_version": "1.4.0",
      "model_name": "DescriptionStyleModel",
      "state": {
       "description_width": ""
      }
     },
     "7f309972ab0f48588016aaaaa078bf08": {
      "model_module": "@jupyter-widgets/controls",
      "model_module_version": "1.4.0",
      "model_name": "ButtonModel",
      "state": {
       "description": "Order 2",
       "layout": "IPY_MODEL_cf1dd7136f0148eba72b10dd618afba5",
       "style": "IPY_MODEL_592a35cab3d64d4aa9759368473cb0af"
      }
     },
     "7fec3139c2cf48568db84455465880b6": {
      "model_module": "@jupyter-widgets/controls",
      "model_module_version": "1.4.0",
      "model_name": "ButtonStyleModel",
      "state": {}
     },
     "80a5c9f09a3d453ea84b275c848a8c43": {
      "model_module": "@jupyter-widgets/controls",
      "model_module_version": "1.4.0",
      "model_name": "ButtonStyleModel",
      "state": {}
     },
     "80c57f83f2ed45598419c0e1bba4be29": {
      "model_module": "@jupyter-widgets/controls",
      "model_module_version": "1.4.0",
      "model_name": "ButtonModel",
      "state": {
       "description": "Valider",
       "layout": "IPY_MODEL_62b60d32ecc74fefafd34529da960f73",
       "style": "IPY_MODEL_449c3f9b95054928935c9ccdf3e100ae"
      }
     },
     "812243b4889449419988346d8986355a": {
      "model_module": "@jupyter-widgets/base",
      "model_module_version": "1.1.0",
      "model_name": "LayoutModel",
      "state": {}
     },
     "812406114d294e12920285c7b9f9828c": {
      "model_module": "@jupyter-widgets/controls",
      "model_module_version": "1.4.0",
      "model_name": "ButtonStyleModel",
      "state": {}
     },
     "814f393e45fd4035a7046c3a4041cfe5": {
      "model_module": "@jupyter-widgets/base",
      "model_module_version": "1.1.0",
      "model_name": "LayoutModel",
      "state": {}
     },
     "81b379a1736e43ef8e4a6ccdfa6e9276": {
      "model_module": "@jupyter-widgets/controls",
      "model_module_version": "1.4.0",
      "model_name": "ButtonModel",
      "state": {
       "description": "Order 1",
       "layout": "IPY_MODEL_43fc25c24cb14d5a8155d548a403771c",
       "style": "IPY_MODEL_bf8bc678ac7e4fb8aa23b55dd574752b"
      }
     },
     "820a37a019544352ada5afb399c08c07": {
      "model_module": "@jupyter-widgets/controls",
      "model_module_version": "1.4.0",
      "model_name": "TextModel",
      "state": {
       "description": "K :",
       "layout": "IPY_MODEL_d00d2496b50b469594006500f754c68d",
       "placeholder": "Type a value for K",
       "style": "IPY_MODEL_a2626b1bd92944f4941f6b642626ba09",
       "value": "3"
      }
     },
     "822f961986da41209e733c7e510d88f5": {
      "model_module": "@jupyter-widgets/controls",
      "model_module_version": "1.4.0",
      "model_name": "DescriptionStyleModel",
      "state": {
       "description_width": ""
      }
     },
     "82348f249b0645b5beeb1f09ed14e719": {
      "model_module": "@jupyter-widgets/base",
      "model_module_version": "1.1.0",
      "model_name": "LayoutModel",
      "state": {}
     },
     "824f80f5567a47f9bbb23bd1b7b8bfd1": {
      "model_module": "@jupyter-widgets/base",
      "model_module_version": "1.1.0",
      "model_name": "LayoutModel",
      "state": {}
     },
     "829089f1e6644900bd891961678a390d": {
      "model_module": "@jupyter-widgets/controls",
      "model_module_version": "1.4.0",
      "model_name": "ButtonStyleModel",
      "state": {}
     },
     "831d14dbad944f2ab820cd92928eefab": {
      "model_module": "@jupyter-widgets/controls",
      "model_module_version": "1.4.0",
      "model_name": "ButtonModel",
      "state": {
       "description": "Order > 2",
       "layout": "IPY_MODEL_defd9e5e319b4a3ebba796f211a41ea6",
       "style": "IPY_MODEL_f40b5c9522c54e15acf9ca5e9f099459"
      }
     },
     "832abff629fc4efbb9723168100ffe08": {
      "model_module": "@jupyter-widgets/controls",
      "model_module_version": "1.4.0",
      "model_name": "ButtonModel",
      "state": {
       "description": "Order > 2",
       "layout": "IPY_MODEL_17d12e5a28bf4713960426e0591ad036",
       "style": "IPY_MODEL_ec1088e1b5f448f29c5890bf61ad436e"
      }
     },
     "8342f4c1aa724d7a8b1584e881f3d268": {
      "model_module": "@jupyter-widgets/base",
      "model_module_version": "1.1.0",
      "model_name": "LayoutModel",
      "state": {}
     },
     "83835993fcc942bc85e9f38c580a89a0": {
      "model_module": "@jupyter-widgets/base",
      "model_module_version": "1.1.0",
      "model_name": "LayoutModel",
      "state": {}
     },
     "8426c0866b6a46fdbf311bc66efd5315": {
      "model_module": "@jupyter-widgets/base",
      "model_module_version": "1.1.0",
      "model_name": "LayoutModel",
      "state": {}
     },
     "843cd12d1ca9440e8b8b9016de43dfa4": {
      "model_module": "@jupyter-widgets/controls",
      "model_module_version": "1.4.0",
      "model_name": "DescriptionStyleModel",
      "state": {
       "description_width": ""
      }
     },
     "84955ac1249f48aebef6e9ba8bc037d7": {
      "model_module": "@jupyter-widgets/controls",
      "model_module_version": "1.4.0",
      "model_name": "ButtonStyleModel",
      "state": {}
     },
     "84ba5ec9b00f4f64bf7408900ae93fb8": {
      "model_module": "@jupyter-widgets/base",
      "model_module_version": "1.1.0",
      "model_name": "LayoutModel",
      "state": {}
     },
     "84f71c3011ec40e6b76170151e2257f0": {
      "model_module": "@jupyter-widgets/controls",
      "model_module_version": "1.4.0",
      "model_name": "TextModel",
      "state": {
       "description": "T :",
       "layout": "IPY_MODEL_634a8258893e4d9bb574895ba48d3512",
       "placeholder": "Type a value for T",
       "style": "IPY_MODEL_8fbc8549dbf9408b8f4b8d1ebfdbad8a",
       "value": "4"
      }
     },
     "85563630ba8b4ebdb6b1335c15ea6f90": {
      "model_module": "@jupyter-widgets/base",
      "model_module_version": "1.1.0",
      "model_name": "LayoutModel",
      "state": {}
     },
     "855c151554b94a32a217fbce62145b44": {
      "model_module": "@jupyter-widgets/controls",
      "model_module_version": "1.4.0",
      "model_name": "ButtonStyleModel",
      "state": {}
     },
     "856f5dda4af4434bb933aea2ff307cf2": {
      "model_module": "@jupyter-widgets/controls",
      "model_module_version": "1.4.0",
      "model_name": "DescriptionStyleModel",
      "state": {
       "description_width": ""
      }
     },
     "862091849d4044c0bc849efd33fb913d": {
      "model_module": "@jupyter-widgets/base",
      "model_module_version": "1.1.0",
      "model_name": "LayoutModel",
      "state": {}
     },
     "86408e47ee79471dad5a22d7078aa485": {
      "model_module": "@jupyter-widgets/controls",
      "model_module_version": "1.4.0",
      "model_name": "ButtonModel",
      "state": {
       "description": "Order 1",
       "layout": "IPY_MODEL_91fce1b2a6194fc68ceff2b7916109a0",
       "style": "IPY_MODEL_51d04c85028f4f82ae452d7dabc4be09"
      }
     },
     "8652c24a0e0a46dd81acec3ee8a549c7": {
      "model_module": "@jupyter-widgets/controls",
      "model_module_version": "1.4.0",
      "model_name": "ButtonStyleModel",
      "state": {}
     },
     "8684b692ccb246889fae670c30c47237": {
      "model_module": "@jupyter-widgets/controls",
      "model_module_version": "1.4.0",
      "model_name": "ButtonModel",
      "state": {
       "description": "Order 2",
       "layout": "IPY_MODEL_20d70f97901f45d388324da1051430cf",
       "style": "IPY_MODEL_f164964aa18448c99f85a30c1b54fc4c"
      }
     },
     "86ac0d8f8b4840aaae62fdb715738e18": {
      "model_module": "@jupyter-widgets/controls",
      "model_module_version": "1.4.0",
      "model_name": "ButtonStyleModel",
      "state": {}
     },
     "86d558663bcc4d528a1bcb0213720483": {
      "model_module": "@jupyter-widgets/controls",
      "model_module_version": "1.4.0",
      "model_name": "DescriptionStyleModel",
      "state": {
       "description_width": ""
      }
     },
     "87104b3b4d9d417bb77118436993ef56": {
      "model_module": "@jupyter-widgets/base",
      "model_module_version": "1.1.0",
      "model_name": "LayoutModel",
      "state": {}
     },
     "87394bc504c64419b573a9e211ada524": {
      "model_module": "@jupyter-widgets/base",
      "model_module_version": "1.1.0",
      "model_name": "LayoutModel",
      "state": {}
     },
     "87556f1e6abe49b1b13598ea5fff2f51": {
      "model_module": "@jupyter-widgets/controls",
      "model_module_version": "1.4.0",
      "model_name": "ButtonStyleModel",
      "state": {}
     },
     "8764706a769c415bbb87dfe583c4df48": {
      "model_module": "@jupyter-widgets/controls",
      "model_module_version": "1.4.0",
      "model_name": "ButtonModel",
      "state": {
       "description": "Valider",
       "layout": "IPY_MODEL_5fe2031dfcfa4537bdedcb012172563c",
       "style": "IPY_MODEL_46c29c7b445c4f028670e72d0009a25b"
      }
     },
     "8787d9c9492d479b820608e32b50661e": {
      "model_module": "@jupyter-widgets/controls",
      "model_module_version": "1.4.0",
      "model_name": "ButtonModel",
      "state": {
       "description": "Order 2",
       "layout": "IPY_MODEL_e2ab9d6fa4994df3b1dc51ba7bddc9fd",
       "style": "IPY_MODEL_855c151554b94a32a217fbce62145b44"
      }
     },
     "879ea9bc0ea34374ad8e4b5103de3ce5": {
      "model_module": "@jupyter-widgets/controls",
      "model_module_version": "1.4.0",
      "model_name": "TextModel",
      "state": {
       "description": "K :",
       "layout": "IPY_MODEL_87b9e74eb8f14cb98316428d31f7aa81",
       "placeholder": "Type a value for K",
       "style": "IPY_MODEL_9d72b52b44344a1db28c49347946c0a6",
       "value": "2"
      }
     },
     "87b9e74eb8f14cb98316428d31f7aa81": {
      "model_module": "@jupyter-widgets/base",
      "model_module_version": "1.1.0",
      "model_name": "LayoutModel",
      "state": {}
     },
     "87cedec5b3e74f9db57687e19ed6490a": {
      "model_module": "@jupyter-widgets/controls",
      "model_module_version": "1.4.0",
      "model_name": "ButtonModel",
      "state": {
       "description": "Order 2",
       "layout": "IPY_MODEL_9832b22e11c649a39193ca9be74c0204",
       "style": "IPY_MODEL_a69683151f8a4cf8ac689a2bc2276c7c"
      }
     },
     "87e12328b2704217b2637097448c077c": {
      "model_module": "@jupyter-widgets/controls",
      "model_module_version": "1.4.0",
      "model_name": "ButtonModel",
      "state": {
       "description": "Order 1",
       "layout": "IPY_MODEL_1de8945b5a9d45fe9ece60609723e734",
       "style": "IPY_MODEL_c469ac52f08b4c20bcdc02bf5cd9988c"
      }
     },
     "87ea7a92a29b48c691a815f702de8a3e": {
      "model_module": "@jupyter-widgets/base",
      "model_module_version": "1.1.0",
      "model_name": "LayoutModel",
      "state": {}
     },
     "88a590ca92884664bcac649cdc34a898": {
      "model_module": "@jupyter-widgets/controls",
      "model_module_version": "1.4.0",
      "model_name": "ButtonStyleModel",
      "state": {}
     },
     "88a9f414f6074a0288c5a2414f7bd836": {
      "model_module": "@jupyter-widgets/controls",
      "model_module_version": "1.4.0",
      "model_name": "HBoxModel",
      "state": {
       "children": [
        "IPY_MODEL_7ed5827469d8404f888885e34660d815",
        "IPY_MODEL_7f309972ab0f48588016aaaaa078bf08",
        "IPY_MODEL_8cc3069d9c1d45809d04be58299457b0"
       ],
       "layout": "IPY_MODEL_f5253b3a5b2d487791889b9c2266aeb6"
      }
     },
     "891567b5fd2346b6a3e75c11f245813b": {
      "model_module": "@jupyter-widgets/base",
      "model_module_version": "1.1.0",
      "model_name": "LayoutModel",
      "state": {}
     },
     "89292dd9506045f5a8945618b25681d4": {
      "model_module": "@jupyter-widgets/controls",
      "model_module_version": "1.4.0",
      "model_name": "TextModel",
      "state": {
       "description": "K :",
       "layout": "IPY_MODEL_8e9a62067ca54711adbafaac8779b66c",
       "placeholder": "Type a value for K",
       "style": "IPY_MODEL_33caee6c49124d9cb7f91aaaf9f3d4cf",
       "value": "1"
      }
     },
     "893e354767614c58aed7c990a964b090": {
      "model_module": "@jupyter-widgets/controls",
      "model_module_version": "1.4.0",
      "model_name": "HBoxModel",
      "state": {
       "children": [
        "IPY_MODEL_19468adbcf98468093d1ae445f5daefb",
        "IPY_MODEL_b49b1981780b4a19b13a9ffc752bc475",
        "IPY_MODEL_831d14dbad944f2ab820cd92928eefab"
       ],
       "layout": "IPY_MODEL_4c281a31c85e40bcb52afbdf7c84b9d3"
      }
     },
     "899d851bdd854fad894e3fcd376f6ec0": {
      "model_module": "@jupyter-widgets/controls",
      "model_module_version": "1.4.0",
      "model_name": "ButtonStyleModel",
      "state": {}
     },
     "89aa3ef8b00644d793d32c49ef43d1e6": {
      "model_module": "@jupyter-widgets/controls",
      "model_module_version": "1.4.0",
      "model_name": "ButtonStyleModel",
      "state": {}
     },
     "8a050c328ec5472ebff99d914860ff9e": {
      "model_module": "@jupyter-widgets/controls",
      "model_module_version": "1.4.0",
      "model_name": "ButtonModel",
      "state": {
       "description": "Order > 2",
       "layout": "IPY_MODEL_c1da4f73222940eaa137bd4b01dd3de5",
       "style": "IPY_MODEL_920b1cc7d867430f9dd40c604b0003c9"
      }
     },
     "8a4702ba83c6436d8d0c6d07798a02eb": {
      "model_module": "@jupyter-widgets/controls",
      "model_module_version": "1.4.0",
      "model_name": "ButtonStyleModel",
      "state": {}
     },
     "8a619da8f1414239ae74ad58cd8e1818": {
      "model_module": "@jupyter-widgets/controls",
      "model_module_version": "1.4.0",
      "model_name": "TextModel",
      "state": {
       "description": "K :",
       "layout": "IPY_MODEL_d08cb24026344b5fbb898c91d729e095",
       "placeholder": "Type a value for K",
       "style": "IPY_MODEL_bebdcd5732b54146bc730d0cef0ac867",
       "value": "9"
      }
     },
     "8b4b27f7948142fea62ba48c34d7cd94": {
      "model_module": "@jupyter-widgets/controls",
      "model_module_version": "1.4.0",
      "model_name": "ButtonModel",
      "state": {
       "description": "Valider",
       "layout": "IPY_MODEL_1dcd9085f2144791a2ed998e9cdd42d5",
       "style": "IPY_MODEL_f86f8294b95a484eacb6e59170ee3c66"
      }
     },
     "8b5d81445bf7407eb493c66248d37ba2": {
      "model_module": "@jupyter-widgets/controls",
      "model_module_version": "1.4.0",
      "model_name": "ButtonModel",
      "state": {
       "description": "Order > 2",
       "layout": "IPY_MODEL_525009807cb1447ca852c52518e9a37d",
       "style": "IPY_MODEL_ef077b590e8e4de292600f4013794706"
      }
     },
     "8bbe8f0766754425bedb5a8506b38da3": {
      "model_module": "@jupyter-widgets/base",
      "model_module_version": "1.1.0",
      "model_name": "LayoutModel",
      "state": {}
     },
     "8be180678f204342b3a2e5d23ed0edbf": {
      "model_module": "@jupyter-widgets/base",
      "model_module_version": "1.1.0",
      "model_name": "LayoutModel",
      "state": {}
     },
     "8bf35306362141b1877043c26027bdb2": {
      "model_module": "@jupyter-widgets/base",
      "model_module_version": "1.1.0",
      "model_name": "LayoutModel",
      "state": {}
     },
     "8c7d2976e6184e61a8ef4d5ccbfb1c2c": {
      "model_module": "@jupyter-widgets/controls",
      "model_module_version": "1.4.0",
      "model_name": "ButtonModel",
      "state": {
       "description": "Order > 2",
       "layout": "IPY_MODEL_2f20b966ff2f4b558855f9fca37d4b26",
       "style": "IPY_MODEL_6765accfeccd4fbe8e43e75c9a341c60"
      }
     },
     "8c9c3d8bd3bd4014ae71465b780f2cc8": {
      "model_module": "@jupyter-widgets/base",
      "model_module_version": "1.1.0",
      "model_name": "LayoutModel",
      "state": {}
     },
     "8ca4676de61d4244b3204eebf8a67edf": {
      "model_module": "@jupyter-widgets/base",
      "model_module_version": "1.1.0",
      "model_name": "LayoutModel",
      "state": {}
     },
     "8cc3069d9c1d45809d04be58299457b0": {
      "model_module": "@jupyter-widgets/controls",
      "model_module_version": "1.4.0",
      "model_name": "ButtonModel",
      "state": {
       "description": "Order > 2",
       "layout": "IPY_MODEL_e63ed63af379483a8b8a21d7dc00ee1f",
       "style": "IPY_MODEL_191a7baf25ed4ef9bd1eb0d488268c46"
      }
     },
     "8ce663a8bbe54f0bba91fe91f0541838": {
      "model_module": "@jupyter-widgets/base",
      "model_module_version": "1.1.0",
      "model_name": "LayoutModel",
      "state": {}
     },
     "8d239a3bd4d041dd8610eaeed3a2f447": {
      "model_module": "@jupyter-widgets/controls",
      "model_module_version": "1.4.0",
      "model_name": "ButtonStyleModel",
      "state": {}
     },
     "8d47dc8cedce48f183f5066cf34e8f0f": {
      "model_module": "@jupyter-widgets/base",
      "model_module_version": "1.1.0",
      "model_name": "LayoutModel",
      "state": {}
     },
     "8d6599fbd18542ab83eff41769a59920": {
      "model_module": "@jupyter-widgets/controls",
      "model_module_version": "1.4.0",
      "model_name": "ButtonModel",
      "state": {
       "description": "Order 2",
       "layout": "IPY_MODEL_8ec16e2f5b054a1bb17670fe2ba527d0",
       "style": "IPY_MODEL_272bd937aa284bdda51f336d59f558a2"
      }
     },
     "8d77dd3eb39c45ef917d11219a8d03af": {
      "model_module": "@jupyter-widgets/controls",
      "model_module_version": "1.4.0",
      "model_name": "ButtonStyleModel",
      "state": {}
     },
     "8e547f8194864008a9111a50333b6f4d": {
      "model_module": "@jupyter-widgets/controls",
      "model_module_version": "1.4.0",
      "model_name": "ButtonModel",
      "state": {
       "description": "Order 2",
       "layout": "IPY_MODEL_3542587a2b9b4caf8fcc1429a7e7ef74",
       "style": "IPY_MODEL_7920557ddb604dc18c9dd010070a807e"
      }
     },
     "8e7c5665d42f423c9c91eb76a84fff89": {
      "model_module": "@jupyter-widgets/controls",
      "model_module_version": "1.4.0",
      "model_name": "ButtonModel",
      "state": {
       "description": "Order 1",
       "layout": "IPY_MODEL_7b2bcfbd580649e5a99c22fe01cb900e",
       "style": "IPY_MODEL_e09b33841b0b4cdda816bca8e09a1644"
      }
     },
     "8e9a62067ca54711adbafaac8779b66c": {
      "model_module": "@jupyter-widgets/base",
      "model_module_version": "1.1.0",
      "model_name": "LayoutModel",
      "state": {}
     },
     "8ea507b53edb4f5ab82716df38d66b50": {
      "model_module": "@jupyter-widgets/base",
      "model_module_version": "1.1.0",
      "model_name": "LayoutModel",
      "state": {}
     },
     "8ec16e2f5b054a1bb17670fe2ba527d0": {
      "model_module": "@jupyter-widgets/base",
      "model_module_version": "1.1.0",
      "model_name": "LayoutModel",
      "state": {}
     },
     "8ec618989b1d45109f44f2985a74450a": {
      "model_module": "@jupyter-widgets/controls",
      "model_module_version": "1.4.0",
      "model_name": "ButtonModel",
      "state": {
       "description": "Order 1",
       "layout": "IPY_MODEL_d6a37630c214466eafaa119669ad9cdb",
       "style": "IPY_MODEL_e9e9466b5ee14382b59d5cefea5b7aec"
      }
     },
     "8eff733be9f74d259fe7ebb9d66379c9": {
      "model_module": "@jupyter-widgets/controls",
      "model_module_version": "1.4.0",
      "model_name": "HBoxModel",
      "state": {
       "children": [
        "IPY_MODEL_95238a0c3991433bb3536ce05e810e0b",
        "IPY_MODEL_cc9dca23d7b34f8481904d44b9608c97",
        "IPY_MODEL_91ba8dbf8cda46e398a882327a408132"
       ],
       "layout": "IPY_MODEL_c38d91c7fc3b45c98e29f02f9fa8a552"
      }
     },
     "8f11ca9130294f75b347bdbd325f2234": {
      "model_module": "@jupyter-widgets/base",
      "model_module_version": "1.1.0",
      "model_name": "LayoutModel",
      "state": {}
     },
     "8f5b41b91e1f47c8a595c1427dd1e97e": {
      "model_module": "@jupyter-widgets/base",
      "model_module_version": "1.1.0",
      "model_name": "LayoutModel",
      "state": {}
     },
     "8f5f511757ed415da3714d891f243a3a": {
      "model_module": "@jupyter-widgets/controls",
      "model_module_version": "1.4.0",
      "model_name": "ButtonModel",
      "state": {
       "description": "Order > 2",
       "layout": "IPY_MODEL_f520afd79f014ab9ba4691976fbf7722",
       "style": "IPY_MODEL_e4c4c61383a94a00bc259ac43912cb3b"
      }
     },
     "8f67c5567cf8441a8f7ca7b55c4bb38d": {
      "model_module": "@jupyter-widgets/base",
      "model_module_version": "1.1.0",
      "model_name": "LayoutModel",
      "state": {}
     },
     "8fbc8549dbf9408b8f4b8d1ebfdbad8a": {
      "model_module": "@jupyter-widgets/controls",
      "model_module_version": "1.4.0",
      "model_name": "DescriptionStyleModel",
      "state": {
       "description_width": ""
      }
     },
     "90243bf9cb1148fa9c88801834134550": {
      "model_module": "@jupyter-widgets/base",
      "model_module_version": "1.1.0",
      "model_name": "LayoutModel",
      "state": {}
     },
     "90326bb91042401ab713dbbd9fabb6d5": {
      "model_module": "@jupyter-widgets/controls",
      "model_module_version": "1.4.0",
      "model_name": "ButtonModel",
      "state": {
       "description": "Order 1",
       "layout": "IPY_MODEL_0d924354c0fc41f5a4df4d1664d5bc9d",
       "style": "IPY_MODEL_5c0ca146bc8148c1884da36df9d863a6"
      }
     },
     "910d75c75b4742a99141778db23a7958": {
      "model_module": "@jupyter-widgets/controls",
      "model_module_version": "1.4.0",
      "model_name": "ButtonStyleModel",
      "state": {}
     },
     "912cfa2cd3db464e893875d1255ce349": {
      "model_module": "@jupyter-widgets/base",
      "model_module_version": "1.1.0",
      "model_name": "LayoutModel",
      "state": {}
     },
     "91922a64b7e442b4b64ab7864e2e3283": {
      "model_module": "@jupyter-widgets/controls",
      "model_module_version": "1.4.0",
      "model_name": "ButtonStyleModel",
      "state": {}
     },
     "919b189a06dd4444955f9465b332e8c4": {
      "model_module": "@jupyter-widgets/base",
      "model_module_version": "1.1.0",
      "model_name": "LayoutModel",
      "state": {}
     },
     "91ad59665f2749b3af09f706eb731cfc": {
      "model_module": "@jupyter-widgets/base",
      "model_module_version": "1.1.0",
      "model_name": "LayoutModel",
      "state": {}
     },
     "91ba8dbf8cda46e398a882327a408132": {
      "model_module": "@jupyter-widgets/controls",
      "model_module_version": "1.4.0",
      "model_name": "ButtonModel",
      "state": {
       "description": "Order > 2",
       "layout": "IPY_MODEL_8ce663a8bbe54f0bba91fe91f0541838",
       "style": "IPY_MODEL_66c5548eda8240d2846948b78891b714"
      }
     },
     "91fce1b2a6194fc68ceff2b7916109a0": {
      "model_module": "@jupyter-widgets/base",
      "model_module_version": "1.1.0",
      "model_name": "LayoutModel",
      "state": {}
     },
     "91fefad500994745aceff61fb28e9994": {
      "model_module": "@jupyter-widgets/controls",
      "model_module_version": "1.4.0",
      "model_name": "ButtonModel",
      "state": {
       "description": "Order > 2",
       "layout": "IPY_MODEL_02485efba45a4be18b6f659427d2d39e",
       "style": "IPY_MODEL_1cdeda49cb784361bcffdaaf3f56d592"
      }
     },
     "920b1cc7d867430f9dd40c604b0003c9": {
      "model_module": "@jupyter-widgets/controls",
      "model_module_version": "1.4.0",
      "model_name": "ButtonStyleModel",
      "state": {}
     },
     "923a64282f504ea69c71a015a7f82b51": {
      "model_module": "@jupyter-widgets/controls",
      "model_module_version": "1.4.0",
      "model_name": "ButtonStyleModel",
      "state": {}
     },
     "92c09a6c20c24c1f9e631f28955a6f48": {
      "model_module": "@jupyter-widgets/base",
      "model_module_version": "1.1.0",
      "model_name": "LayoutModel",
      "state": {}
     },
     "92dbad220d814373a76cd081b0ed769a": {
      "model_module": "@jupyter-widgets/base",
      "model_module_version": "1.1.0",
      "model_name": "LayoutModel",
      "state": {}
     },
     "93c729441abd4763ae8c7e41202680ad": {
      "model_module": "@jupyter-widgets/controls",
      "model_module_version": "1.4.0",
      "model_name": "ButtonStyleModel",
      "state": {}
     },
     "93d8cbcb09fa4871988b73ae420f1c6b": {
      "model_module": "@jupyter-widgets/controls",
      "model_module_version": "1.4.0",
      "model_name": "HBoxModel",
      "state": {
       "children": [
        "IPY_MODEL_38152d1eb9694c689a8c325028c896b6",
        "IPY_MODEL_3c35f1441a3149c79af57b37ee2d9522",
        "IPY_MODEL_e769ae08169f46379184bd3051f96ac0"
       ],
       "layout": "IPY_MODEL_68e5e29356894510bd93ba55b650f2f6"
      }
     },
     "93e10d6060f14da88c62396a37056b7a": {
      "model_module": "@jupyter-widgets/controls",
      "model_module_version": "1.4.0",
      "model_name": "ButtonStyleModel",
      "state": {}
     },
     "93f7106d41ce48b2a232a38a0fb4b738": {
      "model_module": "@jupyter-widgets/controls",
      "model_module_version": "1.4.0",
      "model_name": "ButtonStyleModel",
      "state": {}
     },
     "941766e18ef44dffbed62993d8cc9c4c": {
      "model_module": "@jupyter-widgets/base",
      "model_module_version": "1.1.0",
      "model_name": "LayoutModel",
      "state": {}
     },
     "95238a0c3991433bb3536ce05e810e0b": {
      "model_module": "@jupyter-widgets/controls",
      "model_module_version": "1.4.0",
      "model_name": "ButtonModel",
      "state": {
       "description": "Order 1",
       "layout": "IPY_MODEL_420915a134a0400a9c2c9fa2d3bb69b6",
       "style": "IPY_MODEL_d5f6284f9da84300b19978e3d9406bfd"
      }
     },
     "95262aae25ac4eefa97d03597efdb9eb": {
      "model_module": "@jupyter-widgets/controls",
      "model_module_version": "1.4.0",
      "model_name": "HBoxModel",
      "state": {
       "children": [
        "IPY_MODEL_cbfc161550ac4bfc9c0321c21f836008",
        "IPY_MODEL_b343fb899e7f49eb91955700386882d0",
        "IPY_MODEL_d52504b7d6344802b2efcb73ffd34641"
       ],
       "layout": "IPY_MODEL_7d56ba9da93b445c81093c4b4ade8c92"
      }
     },
     "9533fb2628b646f9b2b8219c3d25d11f": {
      "model_module": "@jupyter-widgets/controls",
      "model_module_version": "1.4.0",
      "model_name": "ButtonStyleModel",
      "state": {}
     },
     "9551ed9b725142ed8cac206a32537e68": {
      "model_module": "@jupyter-widgets/controls",
      "model_module_version": "1.4.0",
      "model_name": "ButtonStyleModel",
      "state": {}
     },
     "95bed2af149249a9880b0cb407fd89e0": {
      "model_module": "@jupyter-widgets/controls",
      "model_module_version": "1.4.0",
      "model_name": "ButtonStyleModel",
      "state": {}
     },
     "961a44bb74b5453b8a0c715e1fe1116a": {
      "model_module": "@jupyter-widgets/controls",
      "model_module_version": "1.4.0",
      "model_name": "ButtonModel",
      "state": {
       "description": "Order > 2",
       "layout": "IPY_MODEL_2211126b939a4d37af85913f054f33a1",
       "style": "IPY_MODEL_6359248b970743d88fe3fc22c056dfe3"
      }
     },
     "962362421a15439881497cd5e1a15a96": {
      "model_module": "@jupyter-widgets/controls",
      "model_module_version": "1.4.0",
      "model_name": "ButtonModel",
      "state": {
       "description": "Order 1",
       "layout": "IPY_MODEL_6dd699f020a14bf3b07024f2b0ab2663",
       "style": "IPY_MODEL_1d9351bdb5b14aa4a2b501601302dffe"
      }
     },
     "9625ec2b626248799c5f6423a8c0df42": {
      "model_module": "@jupyter-widgets/controls",
      "model_module_version": "1.4.0",
      "model_name": "ButtonStyleModel",
      "state": {}
     },
     "96aebbeb0fb848899f23cd24444b15d6": {
      "model_module": "@jupyter-widgets/controls",
      "model_module_version": "1.4.0",
      "model_name": "ButtonModel",
      "state": {
       "description": "Order 2",
       "layout": "IPY_MODEL_fcc069f9b9704d2080485b1a89bb4d64",
       "style": "IPY_MODEL_829089f1e6644900bd891961678a390d"
      }
     },
     "96fa33f900c44d95a0d9e591e3873048": {
      "model_module": "@jupyter-widgets/controls",
      "model_module_version": "1.4.0",
      "model_name": "ButtonStyleModel",
      "state": {}
     },
     "975d074b6ba04662ab1dc5d78025478d": {
      "model_module": "@jupyter-widgets/controls",
      "model_module_version": "1.4.0",
      "model_name": "ButtonStyleModel",
      "state": {}
     },
     "97a4a597e53e40a383cd736269528c68": {
      "model_module": "@jupyter-widgets/base",
      "model_module_version": "1.1.0",
      "model_name": "LayoutModel",
      "state": {}
     },
     "9815814639c14e90884ac2662e966ec0": {
      "model_module": "@jupyter-widgets/controls",
      "model_module_version": "1.4.0",
      "model_name": "ButtonStyleModel",
      "state": {}
     },
     "9832b22e11c649a39193ca9be74c0204": {
      "model_module": "@jupyter-widgets/base",
      "model_module_version": "1.1.0",
      "model_name": "LayoutModel",
      "state": {}
     },
     "98343240bee54cf18913110a1439e134": {
      "model_module": "@jupyter-widgets/controls",
      "model_module_version": "1.4.0",
      "model_name": "TextModel",
      "state": {
       "description": "K :",
       "layout": "IPY_MODEL_a66b6e5606af47b398db0de5abdeb2ed",
       "placeholder": "Type a value for K",
       "style": "IPY_MODEL_d7acacc828b249879e42d2eb6d550e72",
       "value": "2"
      }
     },
     "984260b2417148ae97a21f3cb4e246d6": {
      "model_module": "@jupyter-widgets/controls",
      "model_module_version": "1.4.0",
      "model_name": "HBoxModel",
      "state": {
       "children": [
        "IPY_MODEL_7b3a98def5de4474bb122e781a4f47c2",
        "IPY_MODEL_c86792b635eb4d75aa688cc840d67c9e",
        "IPY_MODEL_67467a515aa64dd5abce478b85223db3"
       ],
       "layout": "IPY_MODEL_c122c860302a4dfd9dbff29eb6f17444"
      }
     },
     "9874741919354b279b5ed024559658e7": {
      "model_module": "@jupyter-widgets/controls",
      "model_module_version": "1.4.0",
      "model_name": "ButtonStyleModel",
      "state": {}
     },
     "9876fdda6c794949b6f5e531d0622f08": {
      "model_module": "@jupyter-widgets/controls",
      "model_module_version": "1.4.0",
      "model_name": "ButtonStyleModel",
      "state": {}
     },
     "9890ddaf067549c0a8f5a9984e40a9b4": {
      "model_module": "@jupyter-widgets/base",
      "model_module_version": "1.1.0",
      "model_name": "LayoutModel",
      "state": {}
     },
     "98b6ae3efd9f4b71b1d5aca39081b8dd": {
      "model_module": "@jupyter-widgets/base",
      "model_module_version": "1.1.0",
      "model_name": "LayoutModel",
      "state": {}
     },
     "98f819b24a9547c4836e245eb7058373": {
      "model_module": "@jupyter-widgets/controls",
      "model_module_version": "1.4.0",
      "model_name": "ButtonModel",
      "state": {
       "description": "Order > 2",
       "layout": "IPY_MODEL_6a44cef7c22146ec9a0ed3529bc5a94e",
       "style": "IPY_MODEL_9533fb2628b646f9b2b8219c3d25d11f"
      }
     },
     "9900c916bae9497ca35e1e6983426e9a": {
      "model_module": "@jupyter-widgets/controls",
      "model_module_version": "1.4.0",
      "model_name": "ButtonStyleModel",
      "state": {}
     },
     "996ed926e6c14edebfd72a6dcc3d8b65": {
      "model_module": "@jupyter-widgets/base",
      "model_module_version": "1.1.0",
      "model_name": "LayoutModel",
      "state": {}
     },
     "99f99de25c6a4753aae7c33047bfb690": {
      "model_module": "@jupyter-widgets/base",
      "model_module_version": "1.1.0",
      "model_name": "LayoutModel",
      "state": {}
     },
     "99fea5e42c8c445fa1cf1480e2d3426a": {
      "model_module": "@jupyter-widgets/controls",
      "model_module_version": "1.4.0",
      "model_name": "ButtonModel",
      "state": {
       "description": "Order 2",
       "layout": "IPY_MODEL_eb4a77cf8c1b45bf9c18e4380df70402",
       "style": "IPY_MODEL_ea9fab0d110b47f18c65ce5a1c31ae09"
      }
     },
     "9a002dce45e048a69bf189d9479ce364": {
      "model_module": "@jupyter-widgets/controls",
      "model_module_version": "1.4.0",
      "model_name": "ButtonModel",
      "state": {
       "description": "Order 1",
       "layout": "IPY_MODEL_093ccc6f0deb4a439fbd4a221b2f0bf0",
       "style": "IPY_MODEL_6ddfe53dd86246bb83cb316b34ca1ca9"
      }
     },
     "9a31380e7c674ac5aca19319ade35e96": {
      "model_module": "@jupyter-widgets/controls",
      "model_module_version": "1.4.0",
      "model_name": "DescriptionStyleModel",
      "state": {
       "description_width": ""
      }
     },
     "9a339957bbf34f8da3e152158c0e0b45": {
      "model_module": "@jupyter-widgets/controls",
      "model_module_version": "1.4.0",
      "model_name": "DescriptionStyleModel",
      "state": {
       "description_width": ""
      }
     },
     "9a98f7e022dc44da8932d3ad25f64c89": {
      "model_module": "@jupyter-widgets/controls",
      "model_module_version": "1.4.0",
      "model_name": "DescriptionStyleModel",
      "state": {
       "description_width": ""
      }
     },
     "9add005d8f074f32a5540cc9509bb995": {
      "model_module": "@jupyter-widgets/base",
      "model_module_version": "1.1.0",
      "model_name": "LayoutModel",
      "state": {}
     },
     "9adf9d23571a477c9812c5638d79a592": {
      "model_module": "@jupyter-widgets/controls",
      "model_module_version": "1.4.0",
      "model_name": "DescriptionStyleModel",
      "state": {
       "description_width": ""
      }
     },
     "9b3272d6a66d490db7e2a79c824cb7b9": {
      "model_module": "@jupyter-widgets/controls",
      "model_module_version": "1.4.0",
      "model_name": "ButtonModel",
      "state": {
       "description": "Order > 2",
       "layout": "IPY_MODEL_1c431f41d9354f728b12742a87008d3b",
       "style": "IPY_MODEL_d5c97b9437ee47bdba2716dcf67f237f"
      }
     },
     "9b5fb7470eef46f49debcaa90b48e1d4": {
      "model_module": "@jupyter-widgets/controls",
      "model_module_version": "1.4.0",
      "model_name": "ButtonModel",
      "state": {
       "description": "Valider",
       "layout": "IPY_MODEL_2a96711376ba40c0b35b283c7bfe992e",
       "style": "IPY_MODEL_c879c46e4ca2489d81b4ceb56c8f3023"
      }
     },
     "9b6eac66d62047a4b97a19c8f3b4c38d": {
      "model_module": "@jupyter-widgets/controls",
      "model_module_version": "1.4.0",
      "model_name": "ButtonStyleModel",
      "state": {}
     },
     "9bc12cd16833419582ebe3729d1ff5ef": {
      "model_module": "@jupyter-widgets/controls",
      "model_module_version": "1.4.0",
      "model_name": "ButtonModel",
      "state": {
       "description": "Valider",
       "layout": "IPY_MODEL_c762182a673d418c965f7cf0a0b6cfe8",
       "style": "IPY_MODEL_27d27432bbac4386934661da08546091"
      }
     },
     "9bc459bb047344e8a061274af9c46897": {
      "model_module": "@jupyter-widgets/controls",
      "model_module_version": "1.4.0",
      "model_name": "ButtonStyleModel",
      "state": {}
     },
     "9be89f3a6bac43ebadc82a8370dac2f2": {
      "model_module": "@jupyter-widgets/controls",
      "model_module_version": "1.4.0",
      "model_name": "DescriptionStyleModel",
      "state": {
       "description_width": ""
      }
     },
     "9c473eca047f4b8da531e39fdd64c733": {
      "model_module": "@jupyter-widgets/controls",
      "model_module_version": "1.4.0",
      "model_name": "ButtonModel",
      "state": {
       "description": "Valider",
       "layout": "IPY_MODEL_2c2e693d5fed4968831c8beb66a48cd3",
       "style": "IPY_MODEL_ba8979d94ffa470294d9a7046864e7d3"
      }
     },
     "9c5e869bd7ab4f3c80192fdb45802998": {
      "model_module": "@jupyter-widgets/controls",
      "model_module_version": "1.4.0",
      "model_name": "ButtonModel",
      "state": {
       "description": "Valider",
       "layout": "IPY_MODEL_e7e6bc6c12cb4f52920bd96695e99653",
       "style": "IPY_MODEL_93f7106d41ce48b2a232a38a0fb4b738"
      }
     },
     "9c6de3ccb0b94a41af0789cc2136f946": {
      "model_module": "@jupyter-widgets/controls",
      "model_module_version": "1.4.0",
      "model_name": "ButtonModel",
      "state": {
       "description": "Order 1",
       "layout": "IPY_MODEL_891567b5fd2346b6a3e75c11f245813b",
       "style": "IPY_MODEL_5b3aec234aec49ef9f745d894479f65e"
      }
     },
     "9c7afa7abd9149de9a42936cf10fa9a6": {
      "model_module": "@jupyter-widgets/controls",
      "model_module_version": "1.4.0",
      "model_name": "HBoxModel",
      "state": {
       "children": [
        "IPY_MODEL_962362421a15439881497cd5e1a15a96",
        "IPY_MODEL_2a4580c7d1044bbaa00912c62052c41d",
        "IPY_MODEL_134ef997a7e3485387ae706411a0cdf3"
       ],
       "layout": "IPY_MODEL_3698dad110254c8cafdc45cbe63b192e"
      }
     },
     "9cc91ab03e65451a97743f381e3b03f2": {
      "model_module": "@jupyter-widgets/base",
      "model_module_version": "1.1.0",
      "model_name": "LayoutModel",
      "state": {}
     },
     "9cf7b8b4c05e4138b22b147dc0a51a2e": {
      "model_module": "@jupyter-widgets/base",
      "model_module_version": "1.1.0",
      "model_name": "LayoutModel",
      "state": {}
     },
     "9d2980d85ada4bfca10d2cfe4f9e0354": {
      "model_module": "@jupyter-widgets/controls",
      "model_module_version": "1.4.0",
      "model_name": "ButtonModel",
      "state": {
       "description": "Valider",
       "layout": "IPY_MODEL_2cf367866a664bddaf2619e4dd65acb5",
       "style": "IPY_MODEL_fb63c0e468764fd5af6e68d9bdee8f77"
      }
     },
     "9d2f4417d6dc42178548bc80753eb238": {
      "model_module": "@jupyter-widgets/controls",
      "model_module_version": "1.4.0",
      "model_name": "ButtonModel",
      "state": {
       "description": "Order > 2",
       "layout": "IPY_MODEL_7b4550cd50bc4edb84317a78acd80609",
       "style": "IPY_MODEL_4e072df2dbde495189982681b7c084b7"
      }
     },
     "9d72b52b44344a1db28c49347946c0a6": {
      "model_module": "@jupyter-widgets/controls",
      "model_module_version": "1.4.0",
      "model_name": "DescriptionStyleModel",
      "state": {
       "description_width": ""
      }
     },
     "9dd699c05a354562b325c378d4cc74ef": {
      "model_module": "@jupyter-widgets/base",
      "model_module_version": "1.1.0",
      "model_name": "LayoutModel",
      "state": {}
     },
     "9dd8d5f06d3e482eb295048fe0673102": {
      "model_module": "@jupyter-widgets/base",
      "model_module_version": "1.1.0",
      "model_name": "LayoutModel",
      "state": {}
     },
     "9ddd32098b5a4c38bb08355d35a0a111": {
      "model_module": "@jupyter-widgets/base",
      "model_module_version": "1.1.0",
      "model_name": "LayoutModel",
      "state": {}
     },
     "9e2aa765ced742409e65c173eb533327": {
      "model_module": "@jupyter-widgets/base",
      "model_module_version": "1.1.0",
      "model_name": "LayoutModel",
      "state": {}
     },
     "9e5165bccaef48f5a3406947a84f558e": {
      "model_module": "@jupyter-widgets/controls",
      "model_module_version": "1.4.0",
      "model_name": "ButtonModel",
      "state": {
       "description": "Valider",
       "layout": "IPY_MODEL_2ce5022489d248ba95961ece0c6b15aa",
       "style": "IPY_MODEL_254bb2e10ffe42c08c100f2537d87d05"
      }
     },
     "9ea0bc8a1af44965b7b2562076abed21": {
      "model_module": "@jupyter-widgets/base",
      "model_module_version": "1.1.0",
      "model_name": "LayoutModel",
      "state": {}
     },
     "9eab46f70fa7491ab489abdbdb668295": {
      "model_module": "@jupyter-widgets/controls",
      "model_module_version": "1.4.0",
      "model_name": "ButtonModel",
      "state": {
       "description": "Order 2",
       "layout": "IPY_MODEL_a3cdd6aa311240528767e4c29dda18a7",
       "style": "IPY_MODEL_e282450a335249fdaf1adbc6349c6901"
      }
     },
     "9fb0c6282db04804b592dd235105ed90": {
      "model_module": "@jupyter-widgets/base",
      "model_module_version": "1.1.0",
      "model_name": "LayoutModel",
      "state": {}
     },
     "9fd23853279c4cb597842b7e1bb2afc4": {
      "model_module": "@jupyter-widgets/base",
      "model_module_version": "1.1.0",
      "model_name": "LayoutModel",
      "state": {}
     },
     "9fd591fc27e244fe94734f249fdd440c": {
      "model_module": "@jupyter-widgets/base",
      "model_module_version": "1.1.0",
      "model_name": "LayoutModel",
      "state": {}
     },
     "a065a3a81ae24e3b9ca1726a1f7bc5c0": {
      "model_module": "@jupyter-widgets/controls",
      "model_module_version": "1.4.0",
      "model_name": "HBoxModel",
      "state": {
       "children": [
        "IPY_MODEL_9a002dce45e048a69bf189d9479ce364",
        "IPY_MODEL_515dd8a6fbf04186adcab6912ac08f99",
        "IPY_MODEL_c303579d1f8e42eb9b14f3da4fe5e1b7"
       ],
       "layout": "IPY_MODEL_0e7dcc5a02694c9a8d47efb2fc3b5d66"
      }
     },
     "a0679b9d2915447680b949a93b22e6cc": {
      "model_module": "@jupyter-widgets/base",
      "model_module_version": "1.1.0",
      "model_name": "LayoutModel",
      "state": {}
     },
     "a07e1b63b87a42918fa6e2b29e45a432": {
      "model_module": "@jupyter-widgets/controls",
      "model_module_version": "1.4.0",
      "model_name": "ButtonModel",
      "state": {
       "description": "Valider",
       "layout": "IPY_MODEL_650c3433a2a747098a5778178affcb22",
       "style": "IPY_MODEL_01dc6734565c4686a91b05f6eb13c56b"
      }
     },
     "a08d2eb478604259a00f4bd316bc332a": {
      "model_module": "@jupyter-widgets/controls",
      "model_module_version": "1.4.0",
      "model_name": "ButtonModel",
      "state": {
       "description": "Order 1",
       "layout": "IPY_MODEL_0e678a43664e41ee8c418f662785f9b6",
       "style": "IPY_MODEL_7a62c7df18d84d8f99b6d9802a71b6d1"
      }
     },
     "a0ac0d07b4be40b997583717cfeab0be": {
      "model_module": "@jupyter-widgets/controls",
      "model_module_version": "1.4.0",
      "model_name": "ButtonStyleModel",
      "state": {}
     },
     "a0b8c2d6ed1f49df936df57df27b4985": {
      "model_module": "@jupyter-widgets/base",
      "model_module_version": "1.1.0",
      "model_name": "LayoutModel",
      "state": {}
     },
     "a169abf474a54a2b8b0e63b4a16c860f": {
      "model_module": "@jupyter-widgets/controls",
      "model_module_version": "1.4.0",
      "model_name": "ButtonModel",
      "state": {
       "description": "Order 2",
       "layout": "IPY_MODEL_bb0f5b61625944c39f8eb3bf091b0f57",
       "style": "IPY_MODEL_7d0006a149484720a82bae1ec0d1dab3"
      }
     },
     "a170ac89db0042598bce6d60101c0f16": {
      "model_module": "@jupyter-widgets/base",
      "model_module_version": "1.1.0",
      "model_name": "LayoutModel",
      "state": {}
     },
     "a1d66ef318ea4314a51d4a57eb66e6e7": {
      "model_module": "@jupyter-widgets/controls",
      "model_module_version": "1.4.0",
      "model_name": "ButtonStyleModel",
      "state": {}
     },
     "a1e10fdd46db4e3db76a3b31b115b6a8": {
      "model_module": "@jupyter-widgets/controls",
      "model_module_version": "1.4.0",
      "model_name": "ButtonModel",
      "state": {
       "description": "Order 2",
       "layout": "IPY_MODEL_8426c0866b6a46fdbf311bc66efd5315",
       "style": "IPY_MODEL_923a64282f504ea69c71a015a7f82b51"
      }
     },
     "a1f9cf57295a4d66bd994fd25c4c88a1": {
      "model_module": "@jupyter-widgets/controls",
      "model_module_version": "1.4.0",
      "model_name": "TextModel",
      "state": {
       "description": "K :",
       "layout": "IPY_MODEL_d9fad1710e3b426da00038963dfd84fe",
       "placeholder": "Type a value for K",
       "style": "IPY_MODEL_2b9acc43c2754e36af8f8b19a75fd36d",
       "value": "2"
      }
     },
     "a200836dbb894bb6ac8fa9a9d0d6fc1b": {
      "model_module": "@jupyter-widgets/controls",
      "model_module_version": "1.4.0",
      "model_name": "ButtonModel",
      "state": {
       "description": "Order > 2",
       "layout": "IPY_MODEL_4c2be48acaeb47b6a68206be9124457d",
       "style": "IPY_MODEL_59b3be2897f84aec8ed75c6a6dfb647d"
      }
     },
     "a23c32d12b0149939f250269cf1ef5ca": {
      "model_module": "@jupyter-widgets/base",
      "model_module_version": "1.1.0",
      "model_name": "LayoutModel",
      "state": {}
     },
     "a2596b649b1c4027a4e8db614ed3b04c": {
      "model_module": "@jupyter-widgets/base",
      "model_module_version": "1.1.0",
      "model_name": "LayoutModel",
      "state": {}
     },
     "a2626b1bd92944f4941f6b642626ba09": {
      "model_module": "@jupyter-widgets/controls",
      "model_module_version": "1.4.0",
      "model_name": "DescriptionStyleModel",
      "state": {
       "description_width": ""
      }
     },
     "a2645741440c46a6b50ae1ad0e5764fe": {
      "model_module": "@jupyter-widgets/controls",
      "model_module_version": "1.4.0",
      "model_name": "ButtonModel",
      "state": {
       "description": "Order > 2",
       "layout": "IPY_MODEL_d7e243f186a042af8e0dae05043d3f48",
       "style": "IPY_MODEL_232e2992a032446686c32af92183de00"
      }
     },
     "a26e5ed9d2534f7bb94cd758b2e40a07": {
      "model_module": "@jupyter-widgets/base",
      "model_module_version": "1.1.0",
      "model_name": "LayoutModel",
      "state": {}
     },
     "a2889b020e44411087628665cddc7bd0": {
      "model_module": "@jupyter-widgets/controls",
      "model_module_version": "1.4.0",
      "model_name": "ButtonModel",
      "state": {
       "description": "Order 2",
       "layout": "IPY_MODEL_6f70c8520cca4d429c3c79a67e24586f",
       "style": "IPY_MODEL_4410eb5bd4704a119a1d53ead51fe314"
      }
     },
     "a2908ebfb6ce4a889bf32c1e0b5a73c8": {
      "model_module": "@jupyter-widgets/base",
      "model_module_version": "1.1.0",
      "model_name": "LayoutModel",
      "state": {}
     },
     "a2af094251db4781baf646bae51d2309": {
      "model_module": "@jupyter-widgets/controls",
      "model_module_version": "1.4.0",
      "model_name": "ButtonStyleModel",
      "state": {}
     },
     "a2c896e350844a2a8f4771b714afaf26": {
      "model_module": "@jupyter-widgets/controls",
      "model_module_version": "1.4.0",
      "model_name": "ButtonModel",
      "state": {
       "description": "Order 2",
       "layout": "IPY_MODEL_43f98a7d79424e6595f4d46515a2240b",
       "style": "IPY_MODEL_bb67679975464189b0ab1e69b10baa43"
      }
     },
     "a2fd1b19c9b7445e9b820892753ddb49": {
      "model_module": "@jupyter-widgets/base",
      "model_module_version": "1.1.0",
      "model_name": "LayoutModel",
      "state": {}
     },
     "a357e70bfd774a1e99f0bdd4f654ac55": {
      "model_module": "@jupyter-widgets/controls",
      "model_module_version": "1.4.0",
      "model_name": "HBoxModel",
      "state": {
       "children": [
        "IPY_MODEL_d7005be1be104df9823a04aebe3bbf9a",
        "IPY_MODEL_99fea5e42c8c445fa1cf1480e2d3426a",
        "IPY_MODEL_d9e34f9e8718460d96593b98643d72e6"
       ],
       "layout": "IPY_MODEL_da968ed27e064f498ea938e5d659ddec"
      }
     },
     "a3812e3d7b8f47b4baf3329b7de8412a": {
      "model_module": "@jupyter-widgets/controls",
      "model_module_version": "1.4.0",
      "model_name": "ButtonModel",
      "state": {
       "description": "Order > 2",
       "layout": "IPY_MODEL_9fd591fc27e244fe94734f249fdd440c",
       "style": "IPY_MODEL_6b9af70ad7624dc1be6ddf337464ca17"
      }
     },
     "a3cdd6aa311240528767e4c29dda18a7": {
      "model_module": "@jupyter-widgets/base",
      "model_module_version": "1.1.0",
      "model_name": "LayoutModel",
      "state": {}
     },
     "a3dfed5e484747c399abaa692e0fa9a5": {
      "model_module": "@jupyter-widgets/controls",
      "model_module_version": "1.4.0",
      "model_name": "HBoxModel",
      "state": {
       "children": [
        "IPY_MODEL_eaeec1a6f971434c90d0b24384b9e82b",
        "IPY_MODEL_a169abf474a54a2b8b0e63b4a16c860f",
        "IPY_MODEL_65dbc8edd7104ebabd257446d49a9753"
       ],
       "layout": "IPY_MODEL_ed02839304234127b84988f0050c8819"
      }
     },
     "a42c71613e194b908b649e0a3f806111": {
      "model_module": "@jupyter-widgets/base",
      "model_module_version": "1.1.0",
      "model_name": "LayoutModel",
      "state": {}
     },
     "a43d0f7cbd6d48949939ac937f1c90aa": {
      "model_module": "@jupyter-widgets/controls",
      "model_module_version": "1.4.0",
      "model_name": "TextModel",
      "state": {
       "layout": "IPY_MODEL_417659776bc2485189a5a0a11558b4ed",
       "style": "IPY_MODEL_822f961986da41209e733c7e510d88f5",
       "value": "23223"
      }
     },
     "a4e24adeaeff445a9fc0ccb33a632bb3": {
      "model_module": "@jupyter-widgets/controls",
      "model_module_version": "1.4.0",
      "model_name": "ButtonStyleModel",
      "state": {}
     },
     "a5730ed81c6e4e138e38e8b4f168d5c5": {
      "model_module": "@jupyter-widgets/controls",
      "model_module_version": "1.4.0",
      "model_name": "ButtonModel",
      "state": {
       "description": "Order 2",
       "layout": "IPY_MODEL_0ce0cdeba640465fb4d8c313d7adc0b8",
       "style": "IPY_MODEL_899d851bdd854fad894e3fcd376f6ec0"
      }
     },
     "a5e3da24da094015a9c37f210bd0d38f": {
      "model_module": "@jupyter-widgets/controls",
      "model_module_version": "1.4.0",
      "model_name": "HBoxModel",
      "state": {
       "children": [
        "IPY_MODEL_d75bcf6ce90a463487e5fb7e2b6fc268",
        "IPY_MODEL_2f1b8ad614aa495f909d7d52035fbde2",
        "IPY_MODEL_0e7ae2f5a46342e2825e0bc1b73a1333"
       ],
       "layout": "IPY_MODEL_2f4048a3f3dc48569e8903728dd34d45"
      }
     },
     "a60ba4a40017441f8c03ab3ce9488a48": {
      "model_module": "@jupyter-widgets/base",
      "model_module_version": "1.1.0",
      "model_name": "LayoutModel",
      "state": {}
     },
     "a645cd04e5f24fb6a0c5670a73c26109": {
      "model_module": "@jupyter-widgets/base",
      "model_module_version": "1.1.0",
      "model_name": "LayoutModel",
      "state": {}
     },
     "a65219b415cb40eaa15bd1179fd3a5a0": {
      "model_module": "@jupyter-widgets/base",
      "model_module_version": "1.1.0",
      "model_name": "LayoutModel",
      "state": {}
     },
     "a66b6e5606af47b398db0de5abdeb2ed": {
      "model_module": "@jupyter-widgets/base",
      "model_module_version": "1.1.0",
      "model_name": "LayoutModel",
      "state": {}
     },
     "a69683151f8a4cf8ac689a2bc2276c7c": {
      "model_module": "@jupyter-widgets/controls",
      "model_module_version": "1.4.0",
      "model_name": "ButtonStyleModel",
      "state": {}
     },
     "a6c0f7ee877048048732f61e506d8c09": {
      "model_module": "@jupyter-widgets/controls",
      "model_module_version": "1.4.0",
      "model_name": "ButtonStyleModel",
      "state": {}
     },
     "a6dade88e50143eaaee6568d58fa8cd4": {
      "model_module": "@jupyter-widgets/controls",
      "model_module_version": "1.4.0",
      "model_name": "ButtonStyleModel",
      "state": {}
     },
     "a7f61ac2812b4998a20867955342227f": {
      "model_module": "@jupyter-widgets/base",
      "model_module_version": "1.1.0",
      "model_name": "LayoutModel",
      "state": {}
     },
     "a80631c3e90349f08e0bb6b26afbf8c9": {
      "model_module": "@jupyter-widgets/controls",
      "model_module_version": "1.4.0",
      "model_name": "TextModel",
      "state": {
       "description": "K :",
       "layout": "IPY_MODEL_d834a00f22974ef0bbc4559a224417ee",
       "placeholder": "Type a value for K",
       "style": "IPY_MODEL_2a05a142beab44b9b6474d2aec44843d",
       "value": "2"
      }
     },
     "a81718d526c042c4ab2ed7454e8c4ceb": {
      "model_module": "@jupyter-widgets/controls",
      "model_module_version": "1.4.0",
      "model_name": "ButtonModel",
      "state": {
       "description": "Order > 2",
       "layout": "IPY_MODEL_4471ff95bb104bad9fc8b098622a029b",
       "style": "IPY_MODEL_770b212009204ae9a8ff82a59de3417a"
      }
     },
     "a8458a71d4fd4ff5ac54f1945bc7fdee": {
      "model_module": "@jupyter-widgets/controls",
      "model_module_version": "1.4.0",
      "model_name": "ButtonStyleModel",
      "state": {}
     },
     "a87a1d3061a34004a7688932fd2b8bd7": {
      "model_module": "@jupyter-widgets/base",
      "model_module_version": "1.1.0",
      "model_name": "LayoutModel",
      "state": {}
     },
     "a9b67adc481a4cfbbd8594939f5cd5ac": {
      "model_module": "@jupyter-widgets/base",
      "model_module_version": "1.1.0",
      "model_name": "LayoutModel",
      "state": {}
     },
     "a9bd0302eaf341398173aa6f7be490df": {
      "model_module": "@jupyter-widgets/controls",
      "model_module_version": "1.4.0",
      "model_name": "HBoxModel",
      "state": {
       "children": [
        "IPY_MODEL_ce6b3371064c48a4a6a124f8d2d10390",
        "IPY_MODEL_ebc36c8d591747ed99ad3a8ae1fa2c10",
        "IPY_MODEL_c639a5ffda494f43adb4e4f32ae1cdb9"
       ],
       "layout": "IPY_MODEL_73f3c306952142589ff8756122648ec2"
      }
     },
     "aa34af157f024492955802daa0b88171": {
      "model_module": "@jupyter-widgets/controls",
      "model_module_version": "1.4.0",
      "model_name": "TextModel",
      "state": {
       "description": "K :",
       "layout": "IPY_MODEL_d6b7638e17af44a38b62d5427236cc42",
       "placeholder": "Type a value for K",
       "style": "IPY_MODEL_f731bd7ce3c349edbae439e681b47541",
       "value": "1"
      }
     },
     "aa6cfcdaa38e4598a4b2d7d97bc9379e": {
      "model_module": "@jupyter-widgets/controls",
      "model_module_version": "1.4.0",
      "model_name": "ButtonModel",
      "state": {
       "description": "Order 2",
       "layout": "IPY_MODEL_e92b6c5176b44537bd251a49c9980d65",
       "style": "IPY_MODEL_9bc459bb047344e8a061274af9c46897"
      }
     },
     "aa7ad5165c344dc99d766610e47ca6ee": {
      "model_module": "@jupyter-widgets/controls",
      "model_module_version": "1.4.0",
      "model_name": "ButtonModel",
      "state": {
       "description": "Order 1",
       "layout": "IPY_MODEL_318c647581d547f9bf26c9835aeae7ec",
       "style": "IPY_MODEL_e848c208f1a8413480aed3faabdcda16"
      }
     },
     "aadb7296ddd24e858b577edf04fd9bd8": {
      "model_module": "@jupyter-widgets/controls",
      "model_module_version": "1.4.0",
      "model_name": "DescriptionStyleModel",
      "state": {
       "description_width": ""
      }
     },
     "aadcb9c88f58403a9368fcd05403c7ab": {
      "model_module": "@jupyter-widgets/controls",
      "model_module_version": "1.4.0",
      "model_name": "TextModel",
      "state": {
       "description": "K :",
       "layout": "IPY_MODEL_84ba5ec9b00f4f64bf7408900ae93fb8",
       "placeholder": "Type a value for K",
       "style": "IPY_MODEL_464e8940a9dd4d28a1261f0c194fdc3d",
       "value": "7"
      }
     },
     "ab293b3e02e64de7a903b8b37f57557b": {
      "model_module": "@jupyter-widgets/base",
      "model_module_version": "1.1.0",
      "model_name": "LayoutModel",
      "state": {}
     },
     "ab8187c490a1441d88e57a62e07f0993": {
      "model_module": "@jupyter-widgets/controls",
      "model_module_version": "1.4.0",
      "model_name": "ButtonStyleModel",
      "state": {}
     },
     "abb0e2e95ce94825808349bcfca7fb2f": {
      "model_module": "@jupyter-widgets/base",
      "model_module_version": "1.1.0",
      "model_name": "LayoutModel",
      "state": {}
     },
     "abb1c260f87b438782c1c7fb2f5d6471": {
      "model_module": "@jupyter-widgets/controls",
      "model_module_version": "1.4.0",
      "model_name": "ButtonModel",
      "state": {
       "description": "Order 2",
       "layout": "IPY_MODEL_436ff2cc41564f9f961c63c64938c652",
       "style": "IPY_MODEL_e622f063c28344b2896132e973d6d672"
      }
     },
     "ac1260d14e944195b2a6c974e522baf0": {
      "model_module": "@jupyter-widgets/controls",
      "model_module_version": "1.4.0",
      "model_name": "DescriptionStyleModel",
      "state": {
       "description_width": ""
      }
     },
     "ac327e2f9bf94e25ae80700508751a99": {
      "model_module": "@jupyter-widgets/controls",
      "model_module_version": "1.4.0",
      "model_name": "ButtonStyleModel",
      "state": {}
     },
     "ac66f8d5398b4b729840375265973f3b": {
      "model_module": "@jupyter-widgets/controls",
      "model_module_version": "1.4.0",
      "model_name": "ButtonStyleModel",
      "state": {}
     },
     "ac81a0829406423287c4e213f2a3be1d": {
      "model_module": "@jupyter-widgets/controls",
      "model_module_version": "1.4.0",
      "model_name": "ButtonStyleModel",
      "state": {}
     },
     "acb5fbc67fd44b8a9e4324e95e2205f2": {
      "model_module": "@jupyter-widgets/controls",
      "model_module_version": "1.4.0",
      "model_name": "ButtonStyleModel",
      "state": {}
     },
     "ad652dc7b6b443fc8dd8b48d2e4967e7": {
      "model_module": "@jupyter-widgets/base",
      "model_module_version": "1.1.0",
      "model_name": "LayoutModel",
      "state": {}
     },
     "adbff679d0654c5db2cedd5b6930263b": {
      "model_module": "@jupyter-widgets/controls",
      "model_module_version": "1.4.0",
      "model_name": "TextModel",
      "state": {
       "description": "K :",
       "layout": "IPY_MODEL_5e3997e095734c89a3962f25e6ebacd5",
       "placeholder": "Type a value for K",
       "style": "IPY_MODEL_dcc7af94d9a14bb7b9109eb9037cdec7",
       "value": "2"
      }
     },
     "adc2063c81a04f2da30beb0b87163e2c": {
      "model_module": "@jupyter-widgets/controls",
      "model_module_version": "1.4.0",
      "model_name": "ButtonStyleModel",
      "state": {}
     },
     "adf7a8caf6204cf888934941d8837254": {
      "model_module": "@jupyter-widgets/base",
      "model_module_version": "1.1.0",
      "model_name": "LayoutModel",
      "state": {}
     },
     "ae1296dc5317464d9ad28a166e317a33": {
      "model_module": "@jupyter-widgets/controls",
      "model_module_version": "1.4.0",
      "model_name": "DescriptionStyleModel",
      "state": {
       "description_width": ""
      }
     },
     "ae40a7943b664a7eafaeaf80b11fbd67": {
      "model_module": "@jupyter-widgets/controls",
      "model_module_version": "1.4.0",
      "model_name": "ButtonStyleModel",
      "state": {}
     },
     "aef3c35fa3fe4b64be50f227d4b42024": {
      "model_module": "@jupyter-widgets/base",
      "model_module_version": "1.1.0",
      "model_name": "LayoutModel",
      "state": {}
     },
     "af2b8e40b67b4dcbaec4831cc315e2dd": {
      "model_module": "@jupyter-widgets/base",
      "model_module_version": "1.1.0",
      "model_name": "LayoutModel",
      "state": {}
     },
     "af4799f0bbcc4c8d97d5ccc095845505": {
      "model_module": "@jupyter-widgets/base",
      "model_module_version": "1.1.0",
      "model_name": "LayoutModel",
      "state": {}
     },
     "af496f264c734c489687545d345088f5": {
      "model_module": "@jupyter-widgets/controls",
      "model_module_version": "1.4.0",
      "model_name": "DescriptionStyleModel",
      "state": {
       "description_width": ""
      }
     },
     "af5952f82c5248b49d6763e159639196": {
      "model_module": "@jupyter-widgets/controls",
      "model_module_version": "1.4.0",
      "model_name": "ButtonModel",
      "state": {
       "description": "Order > 2",
       "layout": "IPY_MODEL_3a25797dcc974cf698c0a155d2d99f44",
       "style": "IPY_MODEL_f4e646c62e474161987ad5889d194fe5"
      }
     },
     "b052ea996a47478aab39b081e366ed4d": {
      "model_module": "@jupyter-widgets/base",
      "model_module_version": "1.1.0",
      "model_name": "LayoutModel",
      "state": {}
     },
     "b069b669533e4eeba86921398172a64f": {
      "model_module": "@jupyter-widgets/controls",
      "model_module_version": "1.4.0",
      "model_name": "ButtonModel",
      "state": {
       "description": "Valider",
       "layout": "IPY_MODEL_2e3f2c3c9d8b4d6abaa8a1f960e37fe6",
       "style": "IPY_MODEL_76cd2c1ae2544d8e8d5628f0a9ee127e"
      }
     },
     "b0ef82623f43475b87e93ce6139752e8": {
      "model_module": "@jupyter-widgets/controls",
      "model_module_version": "1.4.0",
      "model_name": "DescriptionStyleModel",
      "state": {
       "description_width": ""
      }
     },
     "b0efe0b176e84ecbaffb6c8670a2603b": {
      "model_module": "@jupyter-widgets/controls",
      "model_module_version": "1.4.0",
      "model_name": "DescriptionStyleModel",
      "state": {
       "description_width": ""
      }
     },
     "b12b49004e3a4fe987bbdcea8bd9c5c2": {
      "model_module": "@jupyter-widgets/controls",
      "model_module_version": "1.4.0",
      "model_name": "ButtonStyleModel",
      "state": {}
     },
     "b133f26e87514f7a84a4443c3fdb529f": {
      "model_module": "@jupyter-widgets/controls",
      "model_module_version": "1.4.0",
      "model_name": "ButtonModel",
      "state": {
       "description": "Order 2",
       "layout": "IPY_MODEL_99f99de25c6a4753aae7c33047bfb690",
       "style": "IPY_MODEL_56c60327f46a4092a132688b90198135"
      }
     },
     "b135cda2ea5e4f1bbbd2ed644e94f359": {
      "model_module": "@jupyter-widgets/controls",
      "model_module_version": "1.4.0",
      "model_name": "LabelModel",
      "state": {
       "description": "LabelOK",
       "layout": "IPY_MODEL_735a2044488645d6bf8962a967f4be07",
       "style": "IPY_MODEL_46cf5b87f4a64c3db3cf6d23a9bdf624"
      }
     },
     "b160f85dfac74fc4bacb6a9e8b83f249": {
      "model_module": "@jupyter-widgets/controls",
      "model_module_version": "1.4.0",
      "model_name": "TextModel",
      "state": {
       "description": "K :",
       "layout": "IPY_MODEL_11749799921d41a9a93a18c641057ab4",
       "placeholder": "Type a value for K",
       "style": "IPY_MODEL_856f5dda4af4434bb933aea2ff307cf2",
       "value": "2"
      }
     },
     "b17cda8551ba4380979685c663e64c6f": {
      "model_module": "@jupyter-widgets/controls",
      "model_module_version": "1.4.0",
      "model_name": "DescriptionStyleModel",
      "state": {
       "description_width": ""
      }
     },
     "b182ec1fdf6845d8a36e9ef9414a6118": {
      "model_module": "@jupyter-widgets/base",
      "model_module_version": "1.1.0",
      "model_name": "LayoutModel",
      "state": {}
     },
     "b189c0145fc64484bbb37a9855b94eb1": {
      "model_module": "@jupyter-widgets/controls",
      "model_module_version": "1.4.0",
      "model_name": "TextModel",
      "state": {
       "description": "K :",
       "layout": "IPY_MODEL_c34b080f047e45818765cc9c50fce1ea",
       "placeholder": "Type a value for K",
       "style": "IPY_MODEL_65ed935241624b05899afdbb218c3b27",
       "value": "1"
      }
     },
     "b19ba9c21f414f8ab44a4c57c6ec7615": {
      "model_module": "@jupyter-widgets/controls",
      "model_module_version": "1.4.0",
      "model_name": "ButtonStyleModel",
      "state": {}
     },
     "b1e3c931410a4852b95a58de87c132df": {
      "model_module": "@jupyter-widgets/controls",
      "model_module_version": "1.4.0",
      "model_name": "HBoxModel",
      "state": {
       "children": [
        "IPY_MODEL_d67fec1ee850451bb92c7258d4343dfb",
        "IPY_MODEL_581abd6310ad4dd2b96a42b609ce4c73",
        "IPY_MODEL_91fefad500994745aceff61fb28e9994"
       ],
       "layout": "IPY_MODEL_2cd5f46c468844b986343b3abec017b4"
      }
     },
     "b243ebfd52d54465ac8b61335651ea43": {
      "model_module": "@jupyter-widgets/controls",
      "model_module_version": "1.4.0",
      "model_name": "ButtonStyleModel",
      "state": {}
     },
     "b27240c7d01e4665b17dfb8f1bfc75f6": {
      "model_module": "@jupyter-widgets/controls",
      "model_module_version": "1.4.0",
      "model_name": "ButtonStyleModel",
      "state": {}
     },
     "b2f2cc7b56914735bf634a1b406ca10f": {
      "model_module": "@jupyter-widgets/controls",
      "model_module_version": "1.4.0",
      "model_name": "ButtonModel",
      "state": {
       "description": "Order > 2",
       "layout": "IPY_MODEL_7a55b8322cfa4e3d96c5fd7f8ee36b27",
       "style": "IPY_MODEL_0dd16845af924d20b78031096beaa9dd"
      }
     },
     "b300e0a8160249d5a67e763f85e5eb20": {
      "model_module": "@jupyter-widgets/controls",
      "model_module_version": "1.4.0",
      "model_name": "ButtonStyleModel",
      "state": {}
     },
     "b331f6a03bb64f6fb2074dc0f044e48c": {
      "model_module": "@jupyter-widgets/controls",
      "model_module_version": "1.4.0",
      "model_name": "ButtonStyleModel",
      "state": {}
     },
     "b343fb899e7f49eb91955700386882d0": {
      "model_module": "@jupyter-widgets/controls",
      "model_module_version": "1.4.0",
      "model_name": "ButtonModel",
      "state": {
       "description": "Order 2",
       "layout": "IPY_MODEL_d5791c779ca04718a0cc4ea68ed54ee9",
       "style": "IPY_MODEL_03c586d186ad406983443ea7f520ee5a"
      }
     },
     "b34eaf66354749ef8ce27ea9ed67e5f8": {
      "model_module": "@jupyter-widgets/controls",
      "model_module_version": "1.4.0",
      "model_name": "ButtonModel",
      "state": {
       "description": "Order 2",
       "layout": "IPY_MODEL_a2fd1b19c9b7445e9b820892753ddb49",
       "style": "IPY_MODEL_a2af094251db4781baf646bae51d2309"
      }
     },
     "b3568ea2e9ed417fb31e155fd80435e2": {
      "model_module": "@jupyter-widgets/controls",
      "model_module_version": "1.4.0",
      "model_name": "TextModel",
      "state": {
       "description": "T :",
       "layout": "IPY_MODEL_e7cef001cb984a449d0fb20c63298a66",
       "placeholder": "Type a value for T",
       "style": "IPY_MODEL_2b5d81956e604047a3d6396481939695",
       "value": "9"
      }
     },
     "b3635b379f844329a0e180552a526269": {
      "model_module": "@jupyter-widgets/base",
      "model_module_version": "1.1.0",
      "model_name": "LayoutModel",
      "state": {}
     },
     "b42591b4078a419bb652bb29b605534f": {
      "model_module": "@jupyter-widgets/controls",
      "model_module_version": "1.4.0",
      "model_name": "ButtonModel",
      "state": {
       "description": "Order 1",
       "layout": "IPY_MODEL_e37c5c66229447e097be30ebb402217e",
       "style": "IPY_MODEL_5370465f8cdf488f9df975797dc11c75"
      }
     },
     "b49b1981780b4a19b13a9ffc752bc475": {
      "model_module": "@jupyter-widgets/controls",
      "model_module_version": "1.4.0",
      "model_name": "ButtonModel",
      "state": {
       "description": "Order 2",
       "layout": "IPY_MODEL_3eb1134095cd4fbfac4aa2562d0a04dc",
       "style": "IPY_MODEL_f4194311d8e44dcab4739d3a9328131a"
      }
     },
     "b4e3c62eef3d4971afc52ae03493f623": {
      "model_module": "@jupyter-widgets/controls",
      "model_module_version": "1.4.0",
      "model_name": "ButtonModel",
      "state": {
       "description": "Order 2",
       "layout": "IPY_MODEL_a87a1d3061a34004a7688932fd2b8bd7",
       "style": "IPY_MODEL_0c3bbad0696447fb821901c138edb6de"
      }
     },
     "b4ee5718148044d2b4fb6eaf33765d79": {
      "model_module": "@jupyter-widgets/base",
      "model_module_version": "1.1.0",
      "model_name": "LayoutModel",
      "state": {}
     },
     "b531f196e30b448faf0542fff1d9fad4": {
      "model_module": "@jupyter-widgets/controls",
      "model_module_version": "1.4.0",
      "model_name": "HBoxModel",
      "state": {
       "children": [
        "IPY_MODEL_462052e9401d4d298979f52b4db381de",
        "IPY_MODEL_056df855e7394e138f7c6e6dc29cbf4d",
        "IPY_MODEL_f60a8c7838b44494a718792522d040e3"
       ],
       "layout": "IPY_MODEL_5663e02ae5624eee9188f3a611817001"
      }
     },
     "b599245f710643d2b74cc30411f6f1d9": {
      "model_module": "@jupyter-widgets/controls",
      "model_module_version": "1.4.0",
      "model_name": "DescriptionStyleModel",
      "state": {
       "description_width": ""
      }
     },
     "b5a0eabd00cd4f0bb8d5bd5048354562": {
      "model_module": "@jupyter-widgets/controls",
      "model_module_version": "1.4.0",
      "model_name": "ButtonStyleModel",
      "state": {}
     },
     "b5ce158d3817447ca6691f3bb00c5f39": {
      "model_module": "@jupyter-widgets/controls",
      "model_module_version": "1.4.0",
      "model_name": "ButtonModel",
      "state": {
       "description": "Valider",
       "layout": "IPY_MODEL_ec5d213429304701be827491bcb02de1",
       "style": "IPY_MODEL_495702869f8549d4a3b20d59fbf17cb5"
      }
     },
     "b627fa981e7c4502b0513f0a1e7e4a75": {
      "model_module": "@jupyter-widgets/controls",
      "model_module_version": "1.4.0",
      "model_name": "ButtonModel",
      "state": {
       "description": "Order 1",
       "layout": "IPY_MODEL_2413d80736494b13b98e08484147ac9a",
       "style": "IPY_MODEL_a4e24adeaeff445a9fc0ccb33a632bb3"
      }
     },
     "b6a360e8fad14ac5886150aa637392ad": {
      "model_module": "@jupyter-widgets/controls",
      "model_module_version": "1.4.0",
      "model_name": "HBoxModel",
      "state": {
       "children": [
        "IPY_MODEL_1e5c84bfb100400c97b870cb92845697",
        "IPY_MODEL_0fed6c77fcbc4a9fa1f20e5d57654972",
        "IPY_MODEL_9d2f4417d6dc42178548bc80753eb238"
       ],
       "layout": "IPY_MODEL_fdc790a832d6480883a8069aae3c7120"
      }
     },
     "b6c8459ad9fb4ba7b1770e98bb97e5cd": {
      "model_module": "@jupyter-widgets/controls",
      "model_module_version": "1.4.0",
      "model_name": "TextModel",
      "state": {
       "description": "T :",
       "layout": "IPY_MODEL_44b1b20f4c0d43a4b4f86504548811a9",
       "placeholder": "Type a value for T",
       "style": "IPY_MODEL_d14258c9816b4ac48e74ab6bd00c65fe",
       "value": "3"
      }
     },
     "b6d5108815184479ba465fa8e5c50912": {
      "model_module": "@jupyter-widgets/controls",
      "model_module_version": "1.4.0",
      "model_name": "ButtonModel",
      "state": {
       "description": "Order 1",
       "layout": "IPY_MODEL_91ad59665f2749b3af09f706eb731cfc",
       "style": "IPY_MODEL_c8d8dda417bd414cbf3207997faa7b4e"
      }
     },
     "b724a27694ab4946bec0a98484a9fca5": {
      "model_module": "@jupyter-widgets/controls",
      "model_module_version": "1.4.0",
      "model_name": "HBoxModel",
      "state": {
       "children": [
        "IPY_MODEL_c67b7ae6e0f04867ac326c676a58da67",
        "IPY_MODEL_8684b692ccb246889fae670c30c47237",
        "IPY_MODEL_98f819b24a9547c4836e245eb7058373"
       ],
       "layout": "IPY_MODEL_c8ac4c751d734fad8bdb27097cd3406c"
      }
     },
     "b7361aedfc5f4584a6cb209e5d2cff8d": {
      "model_module": "@jupyter-widgets/base",
      "model_module_version": "1.1.0",
      "model_name": "LayoutModel",
      "state": {}
     },
     "b75f3fe0dd3847fe9cd60a03d54ff432": {
      "model_module": "@jupyter-widgets/controls",
      "model_module_version": "1.4.0",
      "model_name": "ButtonModel",
      "state": {
       "description": "Order 2",
       "layout": "IPY_MODEL_ff521024eab247c19a2c4c8b4afc8fd9",
       "style": "IPY_MODEL_697d6037d1204fb591406cdbde38d42c"
      }
     },
     "b761a61c8964432f93ea045d92d91d5c": {
      "model_module": "@jupyter-widgets/controls",
      "model_module_version": "1.4.0",
      "model_name": "HBoxModel",
      "state": {
       "children": [
        "IPY_MODEL_aa7ad5165c344dc99d766610e47ca6ee",
        "IPY_MODEL_e8b083de30e448cc9428ddd77fac6c51",
        "IPY_MODEL_3a28d2951ef644c3ab4ec4896f05fd51"
       ],
       "layout": "IPY_MODEL_059f70aeaea74c0cb101a5645fb6556c"
      }
     },
     "b7de7a7c3e224ed98cdd3429c3157e33": {
      "model_module": "@jupyter-widgets/base",
      "model_module_version": "1.1.0",
      "model_name": "LayoutModel",
      "state": {}
     },
     "b7e49e08a77346e8921256a9378ccb2f": {
      "model_module": "@jupyter-widgets/controls",
      "model_module_version": "1.4.0",
      "model_name": "TextModel",
      "state": {
       "layout": "IPY_MODEL_1aaa53aaa9ee4c5b852803017ffae074",
       "style": "IPY_MODEL_2461e1ef1d934237999306f1a856a361"
      }
     },
     "b80b8c90feca4d63ac42658b0ed58228": {
      "model_module": "@jupyter-widgets/controls",
      "model_module_version": "1.4.0",
      "model_name": "HBoxModel",
      "state": {
       "children": [
        "IPY_MODEL_81b379a1736e43ef8e4a6ccdfa6e9276",
        "IPY_MODEL_2ed361938f744249bcb1f85a5b748a51",
        "IPY_MODEL_71c865f9ac634fe2b13f98c19426d7f8"
       ],
       "layout": "IPY_MODEL_dc40a65dedaa4f07a7911e45ca1c2705"
      }
     },
     "b81e6feb2687460993dbbd5bc9e773b5": {
      "model_module": "@jupyter-widgets/controls",
      "model_module_version": "1.4.0",
      "model_name": "ButtonModel",
      "state": {
       "description": "Order > 2",
       "layout": "IPY_MODEL_3157c56358db47df9fc4345fab4a5669",
       "style": "IPY_MODEL_13629db42fb948c69f90e5b5d31a0153"
      }
     },
     "b842b38a562049d1b691847dbdcf8f6b": {
      "model_module": "@jupyter-widgets/base",
      "model_module_version": "1.1.0",
      "model_name": "LayoutModel",
      "state": {}
     },
     "b84ed21f21cd46749e1b00fdd4699a13": {
      "model_module": "@jupyter-widgets/controls",
      "model_module_version": "1.4.0",
      "model_name": "ButtonModel",
      "state": {
       "description": "Order > 2",
       "layout": "IPY_MODEL_fdd3d91abbdc4c009663442960d6d040",
       "style": "IPY_MODEL_c64c6d652d04498b9c169c3342c4c9ef"
      }
     },
     "b8895ed0c7174dae9b5a9f36d415ea01": {
      "model_module": "@jupyter-widgets/controls",
      "model_module_version": "1.4.0",
      "model_name": "TextModel",
      "state": {
       "description": "T :",
       "layout": "IPY_MODEL_9dd8d5f06d3e482eb295048fe0673102",
       "placeholder": "Type a value for T",
       "style": "IPY_MODEL_e8a871dd3afe488e86ab7ad54c47267d",
       "value": "8"
      }
     },
     "b88dfb166dd14ab8b13d8302c3785efa": {
      "model_module": "@jupyter-widgets/controls",
      "model_module_version": "1.4.0",
      "model_name": "ButtonModel",
      "state": {
       "description": "Order 1",
       "layout": "IPY_MODEL_e276543793004c5f848fbc60098332ea",
       "style": "IPY_MODEL_dee045ea6d7a406ca246a3126717c1e2"
      }
     },
     "b8e45fbf0efc4056b8d4e55b0633c464": {
      "model_module": "@jupyter-widgets/base",
      "model_module_version": "1.1.0",
      "model_name": "LayoutModel",
      "state": {}
     },
     "b8eb7278270540afb1ff4e07b9ac023a": {
      "model_module": "@jupyter-widgets/base",
      "model_module_version": "1.1.0",
      "model_name": "LayoutModel",
      "state": {}
     },
     "b8f006c7eb5f4bc38edfa209973db9c1": {
      "model_module": "@jupyter-widgets/base",
      "model_module_version": "1.1.0",
      "model_name": "LayoutModel",
      "state": {}
     },
     "b9c77b0903c44b9a94f627347800684c": {
      "model_module": "@jupyter-widgets/base",
      "model_module_version": "1.1.0",
      "model_name": "LayoutModel",
      "state": {}
     },
     "ba8979d94ffa470294d9a7046864e7d3": {
      "model_module": "@jupyter-widgets/controls",
      "model_module_version": "1.4.0",
      "model_name": "ButtonStyleModel",
      "state": {}
     },
     "ba9cb185dc7a45128153e214fde44cd1": {
      "model_module": "@jupyter-widgets/controls",
      "model_module_version": "1.4.0",
      "model_name": "ButtonModel",
      "state": {
       "description": "Order 2",
       "layout": "IPY_MODEL_4a99a0e4da0247949afe56662b73b686",
       "style": "IPY_MODEL_c55481f2da8f4f599418b398f8205353"
      }
     },
     "bb0d150ba2884fab8814f52495be184c": {
      "model_module": "@jupyter-widgets/base",
      "model_module_version": "1.1.0",
      "model_name": "LayoutModel",
      "state": {}
     },
     "bb0f5b61625944c39f8eb3bf091b0f57": {
      "model_module": "@jupyter-widgets/base",
      "model_module_version": "1.1.0",
      "model_name": "LayoutModel",
      "state": {}
     },
     "bb5dea1d91c1484f8bc07cee150143a6": {
      "model_module": "@jupyter-widgets/controls",
      "model_module_version": "1.4.0",
      "model_name": "TextModel",
      "state": {
       "description": "K :",
       "layout": "IPY_MODEL_77ed9193b4b8459683959ba7d445e5fc",
       "placeholder": "Type a value for K",
       "style": "IPY_MODEL_736ade9f76464171b7d3cfc9bacfd886",
       "value": "1"
      }
     },
     "bb635885033d40a7ba6141afc9b52382": {
      "model_module": "@jupyter-widgets/base",
      "model_module_version": "1.1.0",
      "model_name": "LayoutModel",
      "state": {}
     },
     "bb67679975464189b0ab1e69b10baa43": {
      "model_module": "@jupyter-widgets/controls",
      "model_module_version": "1.4.0",
      "model_name": "ButtonStyleModel",
      "state": {}
     },
     "bb8e1ef0fc7848388a01dd2164c98802": {
      "model_module": "@jupyter-widgets/base",
      "model_module_version": "1.1.0",
      "model_name": "LayoutModel",
      "state": {}
     },
     "bbbbb373d8b7467491142c77eb1b332a": {
      "model_module": "@jupyter-widgets/base",
      "model_module_version": "1.1.0",
      "model_name": "LayoutModel",
      "state": {}
     },
     "bbc8d8f63f1346b0868fa32307db8269": {
      "model_module": "@jupyter-widgets/controls",
      "model_module_version": "1.4.0",
      "model_name": "ButtonModel",
      "state": {
       "description": "Order 1",
       "layout": "IPY_MODEL_076a1119326844c18070f08a96a76391",
       "style": "IPY_MODEL_58b58cd0c397440fa6c0bf17a837cc61"
      }
     },
     "bbe5eaff4dbe422d9b08b4eaacb05ccf": {
      "model_module": "@jupyter-widgets/controls",
      "model_module_version": "1.4.0",
      "model_name": "ButtonStyleModel",
      "state": {}
     },
     "bc040099ee484241ad113579d805737c": {
      "model_module": "@jupyter-widgets/controls",
      "model_module_version": "1.4.0",
      "model_name": "ButtonStyleModel",
      "state": {}
     },
     "bc7a7d54298141b0b5fdb2849ec70280": {
      "model_module": "@jupyter-widgets/controls",
      "model_module_version": "1.4.0",
      "model_name": "DescriptionStyleModel",
      "state": {
       "description_width": ""
      }
     },
     "bd883f6b9ae74d789617aafa95b7a1ed": {
      "model_module": "@jupyter-widgets/controls",
      "model_module_version": "1.4.0",
      "model_name": "DescriptionStyleModel",
      "state": {
       "description_width": ""
      }
     },
     "be8dd715637b4523b65d82d376932493": {
      "model_module": "@jupyter-widgets/controls",
      "model_module_version": "1.4.0",
      "model_name": "HBoxModel",
      "state": {
       "children": [
        "IPY_MODEL_34678b7d76df4407b1348d674ef018f7",
        "IPY_MODEL_a2c896e350844a2a8f4771b714afaf26",
        "IPY_MODEL_f46a7e9037364fb3b991668f96b701f5"
       ],
       "layout": "IPY_MODEL_482175a213be4518b08e1b227dbd7d1c"
      }
     },
     "bebdcd5732b54146bc730d0cef0ac867": {
      "model_module": "@jupyter-widgets/controls",
      "model_module_version": "1.4.0",
      "model_name": "DescriptionStyleModel",
      "state": {
       "description_width": ""
      }
     },
     "bf277a2b72584c0690e463e4238b7e5f": {
      "model_module": "@jupyter-widgets/controls",
      "model_module_version": "1.4.0",
      "model_name": "ButtonStyleModel",
      "state": {}
     },
     "bf2983f6a105435082e4a196f2134681": {
      "model_module": "@jupyter-widgets/base",
      "model_module_version": "1.1.0",
      "model_name": "LayoutModel",
      "state": {}
     },
     "bf629af592cd40e29252f4606112aee6": {
      "model_module": "@jupyter-widgets/controls",
      "model_module_version": "1.4.0",
      "model_name": "HBoxModel",
      "state": {
       "children": [
        "IPY_MODEL_12983ae5af784680804919001d076221",
        "IPY_MODEL_30e9bcfdc6b74e939127e6c632e91630",
        "IPY_MODEL_3390351d9a2a4fcc9f90bf739434522b"
       ],
       "layout": "IPY_MODEL_e6e68018814c43d386c66b6c504d81b2"
      }
     },
     "bf7cad2b095a4792a113f8893f5166a8": {
      "model_module": "@jupyter-widgets/controls",
      "model_module_version": "1.4.0",
      "model_name": "ButtonModel",
      "state": {
       "description": "Order > 2",
       "layout": "IPY_MODEL_644ac7e315154e2c891eb8bd3b08ab45",
       "style": "IPY_MODEL_b300e0a8160249d5a67e763f85e5eb20"
      }
     },
     "bf8bc678ac7e4fb8aa23b55dd574752b": {
      "model_module": "@jupyter-widgets/controls",
      "model_module_version": "1.4.0",
      "model_name": "ButtonStyleModel",
      "state": {}
     },
     "bfb9c7e5b740460590a377038dcde1a0": {
      "model_module": "@jupyter-widgets/base",
      "model_module_version": "1.1.0",
      "model_name": "LayoutModel",
      "state": {}
     },
     "c0000e4b122b438286a0abcfe2962f6c": {
      "model_module": "@jupyter-widgets/controls",
      "model_module_version": "1.4.0",
      "model_name": "ButtonStyleModel",
      "state": {}
     },
     "c09c8145f32546d6aff605ca73059e42": {
      "model_module": "@jupyter-widgets/base",
      "model_module_version": "1.1.0",
      "model_name": "LayoutModel",
      "state": {}
     },
     "c0a57b6fccc0461aa6295fe2aa036e12": {
      "model_module": "@jupyter-widgets/base",
      "model_module_version": "1.1.0",
      "model_name": "LayoutModel",
      "state": {}
     },
     "c0e068ad7d524e58bced72f60f55bee7": {
      "model_module": "@jupyter-widgets/controls",
      "model_module_version": "1.4.0",
      "model_name": "ButtonModel",
      "state": {
       "description": "Order 2",
       "layout": "IPY_MODEL_2ee939f2428e42d69a6b3b9fbc3f15cd",
       "style": "IPY_MODEL_16a6e5bb503b4a8bb4016ec1bbc12e6c"
      }
     },
     "c122c860302a4dfd9dbff29eb6f17444": {
      "model_module": "@jupyter-widgets/base",
      "model_module_version": "1.1.0",
      "model_name": "LayoutModel",
      "state": {}
     },
     "c14879621de540358f220e4db1ddb71e": {
      "model_module": "@jupyter-widgets/base",
      "model_module_version": "1.1.0",
      "model_name": "LayoutModel",
      "state": {}
     },
     "c1da4f73222940eaa137bd4b01dd3de5": {
      "model_module": "@jupyter-widgets/base",
      "model_module_version": "1.1.0",
      "model_name": "LayoutModel",
      "state": {}
     },
     "c213121e33f34b2cb5ac7b69a29aacbc": {
      "model_module": "@jupyter-widgets/controls",
      "model_module_version": "1.4.0",
      "model_name": "DescriptionStyleModel",
      "state": {
       "description_width": ""
      }
     },
     "c2688c99935547ba96f79f4fc88ce018": {
      "model_module": "@jupyter-widgets/controls",
      "model_module_version": "1.4.0",
      "model_name": "ButtonStyleModel",
      "state": {}
     },
     "c303579d1f8e42eb9b14f3da4fe5e1b7": {
      "model_module": "@jupyter-widgets/controls",
      "model_module_version": "1.4.0",
      "model_name": "ButtonModel",
      "state": {
       "description": "Order > 2",
       "layout": "IPY_MODEL_eb0f39eca59a49c8b9307a0f1fe99d68",
       "style": "IPY_MODEL_e21689e5c0234042aa6370fd5b5d1cef"
      }
     },
     "c3214b6ff6cb47f4a6a6af52537dff3a": {
      "model_module": "@jupyter-widgets/controls",
      "model_module_version": "1.4.0",
      "model_name": "HBoxModel",
      "state": {
       "children": [
        "IPY_MODEL_10463dfe350e46f1aec04578e31dde37",
        "IPY_MODEL_8787d9c9492d479b820608e32b50661e",
        "IPY_MODEL_e1b8326ef3d440f192e92e569663145b"
       ],
       "layout": "IPY_MODEL_258f6906e34a4b98804838566705ebed"
      }
     },
     "c34b080f047e45818765cc9c50fce1ea": {
      "model_module": "@jupyter-widgets/base",
      "model_module_version": "1.1.0",
      "model_name": "LayoutModel",
      "state": {}
     },
     "c38d91c7fc3b45c98e29f02f9fa8a552": {
      "model_module": "@jupyter-widgets/base",
      "model_module_version": "1.1.0",
      "model_name": "LayoutModel",
      "state": {}
     },
     "c3f31f09f2a24d3c85fb20110a50464f": {
      "model_module": "@jupyter-widgets/controls",
      "model_module_version": "1.4.0",
      "model_name": "DescriptionStyleModel",
      "state": {
       "description_width": ""
      }
     },
     "c41bce19f3e048c8961db7d62fd87d76": {
      "model_module": "@jupyter-widgets/controls",
      "model_module_version": "1.4.0",
      "model_name": "HBoxModel",
      "state": {
       "children": [
        "IPY_MODEL_15df64609bc94c9d9673b0010aa4667d",
        "IPY_MODEL_d3477e3a56d947188141dc53b92764dc",
        "IPY_MODEL_012ad35c75db48f4b179181d9d98fd0c"
       ],
       "layout": "IPY_MODEL_16b6553b275640d997c5536c70ce4bd9"
      }
     },
     "c447007bc68641a18fb2b1f3575a4539": {
      "model_module": "@jupyter-widgets/controls",
      "model_module_version": "1.4.0",
      "model_name": "ButtonModel",
      "state": {
       "description": "Order > 2",
       "layout": "IPY_MODEL_e6f53081cbca4844b4a3fc78058ebeca",
       "style": "IPY_MODEL_6aca12d2d74f4938b13fdcb9a939b46c"
      }
     },
     "c447dda5249c4862ac076cf55b54b32f": {
      "model_module": "@jupyter-widgets/base",
      "model_module_version": "1.1.0",
      "model_name": "LayoutModel",
      "state": {}
     },
     "c469ac52f08b4c20bcdc02bf5cd9988c": {
      "model_module": "@jupyter-widgets/controls",
      "model_module_version": "1.4.0",
      "model_name": "ButtonStyleModel",
      "state": {}
     },
     "c488cc217b394d5d8767c8e3dee0984c": {
      "model_module": "@jupyter-widgets/controls",
      "model_module_version": "1.4.0",
      "model_name": "DescriptionStyleModel",
      "state": {
       "description_width": ""
      }
     },
     "c4abc264f61249cdbd75d75f97f2e8d2": {
      "model_module": "@jupyter-widgets/base",
      "model_module_version": "1.1.0",
      "model_name": "LayoutModel",
      "state": {}
     },
     "c4b930e8680548f5a104628c4f8c6c45": {
      "model_module": "@jupyter-widgets/controls",
      "model_module_version": "1.4.0",
      "model_name": "ButtonStyleModel",
      "state": {}
     },
     "c533422f2eac4ac1ba8f7c69a39e2fd4": {
      "model_module": "@jupyter-widgets/base",
      "model_module_version": "1.1.0",
      "model_name": "LayoutModel",
      "state": {}
     },
     "c55481f2da8f4f599418b398f8205353": {
      "model_module": "@jupyter-widgets/controls",
      "model_module_version": "1.4.0",
      "model_name": "ButtonStyleModel",
      "state": {}
     },
     "c5c2831767874f188c5fe7bc9838e62c": {
      "model_module": "@jupyter-widgets/base",
      "model_module_version": "1.1.0",
      "model_name": "LayoutModel",
      "state": {}
     },
     "c5e1d8e46aef425ebd0e67bd6d6ec792": {
      "model_module": "@jupyter-widgets/base",
      "model_module_version": "1.1.0",
      "model_name": "LayoutModel",
      "state": {}
     },
     "c6380aaf700d41b78a217e8831582c08": {
      "model_module": "@jupyter-widgets/base",
      "model_module_version": "1.1.0",
      "model_name": "LayoutModel",
      "state": {}
     },
     "c639a5ffda494f43adb4e4f32ae1cdb9": {
      "model_module": "@jupyter-widgets/controls",
      "model_module_version": "1.4.0",
      "model_name": "ButtonModel",
      "state": {
       "description": "Order > 2",
       "layout": "IPY_MODEL_06f4c2b9e5004b3c828b0679718aab93",
       "style": "IPY_MODEL_d9f1a28e10284e87a528904dbed51a13"
      }
     },
     "c64c6d652d04498b9c169c3342c4c9ef": {
      "model_module": "@jupyter-widgets/controls",
      "model_module_version": "1.4.0",
      "model_name": "ButtonStyleModel",
      "state": {}
     },
     "c67b7ae6e0f04867ac326c676a58da67": {
      "model_module": "@jupyter-widgets/controls",
      "model_module_version": "1.4.0",
      "model_name": "ButtonModel",
      "state": {
       "description": "Order 1",
       "layout": "IPY_MODEL_919b189a06dd4444955f9465b332e8c4",
       "style": "IPY_MODEL_e0464c8c58e1481796232f24934b0393"
      }
     },
     "c6cfa584d3544bc7b4c30c05fb189aea": {
      "model_module": "@jupyter-widgets/controls",
      "model_module_version": "1.4.0",
      "model_name": "ButtonStyleModel",
      "state": {}
     },
     "c73110b0735b42e082c230f525f5253c": {
      "model_module": "@jupyter-widgets/controls",
      "model_module_version": "1.4.0",
      "model_name": "ButtonModel",
      "state": {
       "description": "Order > 2",
       "layout": "IPY_MODEL_8f11ca9130294f75b347bdbd325f2234",
       "style": "IPY_MODEL_448765b3caec467a9005a93c141a90d8"
      }
     },
     "c744e9ca918b4315ae123beb849a826c": {
      "model_module": "@jupyter-widgets/controls",
      "model_module_version": "1.4.0",
      "model_name": "ButtonModel",
      "state": {
       "description": "Order 1",
       "layout": "IPY_MODEL_b4ee5718148044d2b4fb6eaf33765d79",
       "style": "IPY_MODEL_07a3a715b3254f498ed017bb6901369b"
      }
     },
     "c762182a673d418c965f7cf0a0b6cfe8": {
      "model_module": "@jupyter-widgets/base",
      "model_module_version": "1.1.0",
      "model_name": "LayoutModel",
      "state": {}
     },
     "c77341675c78487291654c03a49e0bc6": {
      "model_module": "@jupyter-widgets/controls",
      "model_module_version": "1.4.0",
      "model_name": "TextModel",
      "state": {
       "description": "K :",
       "layout": "IPY_MODEL_d5f1678d733a4ef3bec5c0f2a7b6cbbe",
       "placeholder": "Type a value for K",
       "style": "IPY_MODEL_65cbc6a218b444c394cfce39d11118a3",
       "value": "2"
      }
     },
     "c7a592176fab4719b0b9e548936ca8e2": {
      "model_module": "@jupyter-widgets/base",
      "model_module_version": "1.1.0",
      "model_name": "LayoutModel",
      "state": {}
     },
     "c7bf51fc468344c0b0fc218ef62254b9": {
      "model_module": "@jupyter-widgets/controls",
      "model_module_version": "1.4.0",
      "model_name": "ButtonStyleModel",
      "state": {}
     },
     "c7ef39af22104114aad40bc11d7bdccb": {
      "model_module": "@jupyter-widgets/controls",
      "model_module_version": "1.4.0",
      "model_name": "ButtonModel",
      "state": {
       "description": "Order 2",
       "layout": "IPY_MODEL_31531b2f6f9d4ef4b01e9863d9333e46",
       "style": "IPY_MODEL_b19ba9c21f414f8ab44a4c57c6ec7615"
      }
     },
     "c8060ccaf4e24a90a5c389efb9925804": {
      "model_module": "@jupyter-widgets/base",
      "model_module_version": "1.1.0",
      "model_name": "LayoutModel",
      "state": {}
     },
     "c81a43cf7415482693f24c98fcbb57c6": {
      "model_module": "@jupyter-widgets/controls",
      "model_module_version": "1.4.0",
      "model_name": "ButtonStyleModel",
      "state": {}
     },
     "c8574b840bb8423381300396c63cb31d": {
      "model_module": "@jupyter-widgets/controls",
      "model_module_version": "1.4.0",
      "model_name": "DescriptionStyleModel",
      "state": {
       "description_width": ""
      }
     },
     "c857eb1d00df4f22839c7d5bc31e592a": {
      "model_module": "@jupyter-widgets/controls",
      "model_module_version": "1.4.0",
      "model_name": "ButtonModel",
      "state": {
       "description": "Order > 2",
       "layout": "IPY_MODEL_f4eab0d71e014fa6899e08154f4117a9",
       "style": "IPY_MODEL_9625ec2b626248799c5f6423a8c0df42"
      }
     },
     "c86792b635eb4d75aa688cc840d67c9e": {
      "model_module": "@jupyter-widgets/controls",
      "model_module_version": "1.4.0",
      "model_name": "ButtonModel",
      "state": {
       "description": "Order 2",
       "layout": "IPY_MODEL_d34101a3a2a042d386af3b86cce6338f",
       "style": "IPY_MODEL_4b5961a9a888411ea287b1d6dac51000"
      }
     },
     "c879c46e4ca2489d81b4ceb56c8f3023": {
      "model_module": "@jupyter-widgets/controls",
      "model_module_version": "1.4.0",
      "model_name": "ButtonStyleModel",
      "state": {}
     },
     "c8ac4c751d734fad8bdb27097cd3406c": {
      "model_module": "@jupyter-widgets/base",
      "model_module_version": "1.1.0",
      "model_name": "LayoutModel",
      "state": {}
     },
     "c8d8dda417bd414cbf3207997faa7b4e": {
      "model_module": "@jupyter-widgets/controls",
      "model_module_version": "1.4.0",
      "model_name": "ButtonStyleModel",
      "state": {}
     },
     "c8e896aa185a4112bf514823f5938324": {
      "model_module": "@jupyter-widgets/controls",
      "model_module_version": "1.4.0",
      "model_name": "DescriptionStyleModel",
      "state": {
       "description_width": ""
      }
     },
     "c8ebb6efb4e94e6d8319ff5fbf5034a1": {
      "model_module": "@jupyter-widgets/base",
      "model_module_version": "1.1.0",
      "model_name": "LayoutModel",
      "state": {}
     },
     "c900d461d25d4001a4d3204c0697ddec": {
      "model_module": "@jupyter-widgets/base",
      "model_module_version": "1.1.0",
      "model_name": "LayoutModel",
      "state": {}
     },
     "ca3a05c2cc6d4ca6bb06c4a937f2047c": {
      "model_module": "@jupyter-widgets/base",
      "model_module_version": "1.1.0",
      "model_name": "LayoutModel",
      "state": {}
     },
     "ca7fbb41e92d4a539a3f48990ac80605": {
      "model_module": "@jupyter-widgets/controls",
      "model_module_version": "1.4.0",
      "model_name": "DescriptionStyleModel",
      "state": {
       "description_width": ""
      }
     },
     "cacec260b62f4fd293cffcd64fa36ec1": {
      "model_module": "@jupyter-widgets/controls",
      "model_module_version": "1.4.0",
      "model_name": "ButtonModel",
      "state": {
       "description": "Order 2",
       "layout": "IPY_MODEL_9ea0bc8a1af44965b7b2562076abed21",
       "style": "IPY_MODEL_95bed2af149249a9880b0cb407fd89e0"
      }
     },
     "cb1700569acb47388888898cebb209e7": {
      "model_module": "@jupyter-widgets/controls",
      "model_module_version": "1.4.0",
      "model_name": "ButtonStyleModel",
      "state": {}
     },
     "cb3ad467d8444d31b4f8e08d1d50f23c": {
      "model_module": "@jupyter-widgets/controls",
      "model_module_version": "1.4.0",
      "model_name": "DescriptionStyleModel",
      "state": {
       "description_width": ""
      }
     },
     "cb4f752ea19c41b893256494973be9d7": {
      "model_module": "@jupyter-widgets/controls",
      "model_module_version": "1.4.0",
      "model_name": "HBoxModel",
      "state": {
       "children": [
        "IPY_MODEL_d9c9173c8caf49dd9b7d3c95b29b8b85",
        "IPY_MODEL_167b45f92232473685f8edd7b15fcb11",
        "IPY_MODEL_0093b3acdc984c75bedbf50860b4ffd1"
       ],
       "layout": "IPY_MODEL_a42c71613e194b908b649e0a3f806111"
      }
     },
     "cb9c7cc8b730453c8cf092e548ea3b91": {
      "model_module": "@jupyter-widgets/base",
      "model_module_version": "1.1.0",
      "model_name": "LayoutModel",
      "state": {}
     },
     "cbc353afe5fe4c38ac88b0b0b98c27a6": {
      "model_module": "@jupyter-widgets/controls",
      "model_module_version": "1.4.0",
      "model_name": "HBoxModel",
      "state": {
       "children": [
        "IPY_MODEL_fc165d7f994a4e90ae6a04cc71fd9e5c",
        "IPY_MODEL_263baf1ef416416497e0fb7015ba83a3",
        "IPY_MODEL_00b4af5968e440cca101b55d75ec57b9"
       ],
       "layout": "IPY_MODEL_67b13a73ffd142bcbb3d3bb5bb25dd35"
      }
     },
     "cbdab8286265411e854972515476ece7": {
      "model_module": "@jupyter-widgets/controls",
      "model_module_version": "1.4.0",
      "model_name": "TextModel",
      "state": {
       "description": "T :",
       "layout": "IPY_MODEL_a645cd04e5f24fb6a0c5670a73c26109",
       "placeholder": "Type a value for T",
       "style": "IPY_MODEL_4a1f5cb2a33d47f794fac970515b9fbc",
       "value": "1"
      }
     },
     "cbeb1836b8144fdf9c90ea6193e0fd5a": {
      "model_module": "@jupyter-widgets/controls",
      "model_module_version": "1.4.0",
      "model_name": "ButtonModel",
      "state": {
       "description": "Order 2",
       "layout": "IPY_MODEL_27a0c3eb2ecb48ab9b27a0fd9eab4531",
       "style": "IPY_MODEL_585b0ca47b634da6a8ba6a99c49700ec"
      }
     },
     "cbfc161550ac4bfc9c0321c21f836008": {
      "model_module": "@jupyter-widgets/controls",
      "model_module_version": "1.4.0",
      "model_name": "ButtonModel",
      "state": {
       "description": "Order 1",
       "layout": "IPY_MODEL_27b83b8087424494b871ad1fc044795d",
       "style": "IPY_MODEL_7fec3139c2cf48568db84455465880b6"
      }
     },
     "cc05ef4f78e54fba8effa688e2423e5f": {
      "model_module": "@jupyter-widgets/controls",
      "model_module_version": "1.4.0",
      "model_name": "TextModel",
      "state": {
       "description": "K :",
       "layout": "IPY_MODEL_d147245117394320b1de188e0f4fb4dc",
       "placeholder": "Type a value for K",
       "style": "IPY_MODEL_b17cda8551ba4380979685c663e64c6f"
      }
     },
     "cc9dca23d7b34f8481904d44b9608c97": {
      "model_module": "@jupyter-widgets/controls",
      "model_module_version": "1.4.0",
      "model_name": "ButtonModel",
      "state": {
       "description": "Order 2",
       "layout": "IPY_MODEL_8ea507b53edb4f5ab82716df38d66b50",
       "style": "IPY_MODEL_dd3b2b56e65f4bf3b3c66ac49d784fbe"
      }
     },
     "cd2769a387884c3e9352c8ff6c73f961": {
      "model_module": "@jupyter-widgets/base",
      "model_module_version": "1.1.0",
      "model_name": "LayoutModel",
      "state": {}
     },
     "cd622f12d5ae4df2ada93549a81a4d6c": {
      "model_module": "@jupyter-widgets/base",
      "model_module_version": "1.1.0",
      "model_name": "LayoutModel",
      "state": {}
     },
     "cd838d44dd18462188e33d5a8cdbf648": {
      "model_module": "@jupyter-widgets/base",
      "model_module_version": "1.1.0",
      "model_name": "LayoutModel",
      "state": {}
     },
     "cd87ae4eb5654212ad9309acebd42eb9": {
      "model_module": "@jupyter-widgets/base",
      "model_module_version": "1.1.0",
      "model_name": "LayoutModel",
      "state": {}
     },
     "cdafbec7ce00482397b76ea92a31af99": {
      "model_module": "@jupyter-widgets/controls",
      "model_module_version": "1.4.0",
      "model_name": "ButtonModel",
      "state": {
       "description": "Order 2",
       "layout": "IPY_MODEL_a0b8c2d6ed1f49df936df57df27b4985",
       "style": "IPY_MODEL_fb7982b473f54390a8f51eaa387e39c6"
      }
     },
     "cdf81ebdf6204006b724991719849872": {
      "model_module": "@jupyter-widgets/controls",
      "model_module_version": "1.4.0",
      "model_name": "ButtonStyleModel",
      "state": {}
     },
     "ce3255738ffa4e30a4dc2ca9fbdef833": {
      "model_module": "@jupyter-widgets/base",
      "model_module_version": "1.1.0",
      "model_name": "LayoutModel",
      "state": {}
     },
     "ce5fab6403c64e938f6590dcee982a13": {
      "model_module": "@jupyter-widgets/controls",
      "model_module_version": "1.4.0",
      "model_name": "ButtonModel",
      "state": {
       "description": "Order > 2",
       "layout": "IPY_MODEL_594d1af66d054b06b8376de13100ae76",
       "style": "IPY_MODEL_fc705628e6084001bebc4045418e03b7"
      }
     },
     "ce6b3371064c48a4a6a124f8d2d10390": {
      "model_module": "@jupyter-widgets/controls",
      "model_module_version": "1.4.0",
      "model_name": "ButtonModel",
      "state": {
       "description": "Order 1",
       "layout": "IPY_MODEL_c5c2831767874f188c5fe7bc9838e62c",
       "style": "IPY_MODEL_613ff14bb79b4ab3bbf5c4cc3f29d992"
      }
     },
     "ce8516d955b043a98c42d4c5b8b7916f": {
      "model_module": "@jupyter-widgets/controls",
      "model_module_version": "1.4.0",
      "model_name": "ButtonModel",
      "state": {
       "description": "Valider",
       "layout": "IPY_MODEL_272786c52f9b470ca9b0cc68e3d94dab",
       "style": "IPY_MODEL_cdf81ebdf6204006b724991719849872"
      }
     },
     "cee5bbaac3274354b3386da84e5f010e": {
      "model_module": "@jupyter-widgets/controls",
      "model_module_version": "1.4.0",
      "model_name": "HBoxModel",
      "state": {
       "children": [
        "IPY_MODEL_0aca6af96a334fa0b75fb2aab5bc930c",
        "IPY_MODEL_87cedec5b3e74f9db57687e19ed6490a",
        "IPY_MODEL_ef153b2e45df49fcbfed2e8b1877c88a"
       ],
       "layout": "IPY_MODEL_a0679b9d2915447680b949a93b22e6cc"
      }
     },
     "cf1dd7136f0148eba72b10dd618afba5": {
      "model_module": "@jupyter-widgets/base",
      "model_module_version": "1.1.0",
      "model_name": "LayoutModel",
      "state": {}
     },
     "cf7c7606c30f44bbac8e983680a1e656": {
      "model_module": "@jupyter-widgets/controls",
      "model_module_version": "1.4.0",
      "model_name": "ButtonStyleModel",
      "state": {}
     },
     "d00d2496b50b469594006500f754c68d": {
      "model_module": "@jupyter-widgets/base",
      "model_module_version": "1.1.0",
      "model_name": "LayoutModel",
      "state": {}
     },
     "d00fb3636cd44042a4dcbc3b2283f607": {
      "model_module": "@jupyter-widgets/controls",
      "model_module_version": "1.4.0",
      "model_name": "TextModel",
      "state": {
       "description": "T :",
       "layout": "IPY_MODEL_1371b81ac20849b080677ce41ec7f819",
       "placeholder": "Type a value for T",
       "style": "IPY_MODEL_b0ef82623f43475b87e93ce6139752e8",
       "value": "7"
      }
     },
     "d02ea26edb39403085e2c95f6e790bb9": {
      "model_module": "@jupyter-widgets/controls",
      "model_module_version": "1.4.0",
      "model_name": "ButtonStyleModel",
      "state": {}
     },
     "d08cb24026344b5fbb898c91d729e095": {
      "model_module": "@jupyter-widgets/base",
      "model_module_version": "1.1.0",
      "model_name": "LayoutModel",
      "state": {}
     },
     "d0ca5ad193eb4a28b1f53a3e02d10df0": {
      "model_module": "@jupyter-widgets/controls",
      "model_module_version": "1.4.0",
      "model_name": "TextModel",
      "state": {
       "description": "T :",
       "layout": "IPY_MODEL_c5e1d8e46aef425ebd0e67bd6d6ec792",
       "placeholder": "Type a value for T",
       "style": "IPY_MODEL_0267b98017044e23bba551ad8287a748",
       "value": "3"
      }
     },
     "d14258c9816b4ac48e74ab6bd00c65fe": {
      "model_module": "@jupyter-widgets/controls",
      "model_module_version": "1.4.0",
      "model_name": "DescriptionStyleModel",
      "state": {
       "description_width": ""
      }
     },
     "d147245117394320b1de188e0f4fb4dc": {
      "model_module": "@jupyter-widgets/base",
      "model_module_version": "1.1.0",
      "model_name": "LayoutModel",
      "state": {}
     },
     "d193b11454c44781bc69a565ae78910d": {
      "model_module": "@jupyter-widgets/controls",
      "model_module_version": "1.4.0",
      "model_name": "ButtonStyleModel",
      "state": {}
     },
     "d2ff4bd240024e12906fd02ba991d9d6": {
      "model_module": "@jupyter-widgets/controls",
      "model_module_version": "1.4.0",
      "model_name": "ButtonModel",
      "state": {
       "description": "Order > 2",
       "layout": "IPY_MODEL_6e82f7ecbb334bbf84fc54d504c86b2b",
       "style": "IPY_MODEL_b27240c7d01e4665b17dfb8f1bfc75f6"
      }
     },
     "d34020160540418c9a4faf0d99e55402": {
      "model_module": "@jupyter-widgets/controls",
      "model_module_version": "1.4.0",
      "model_name": "ButtonStyleModel",
      "state": {}
     },
     "d34101a3a2a042d386af3b86cce6338f": {
      "model_module": "@jupyter-widgets/base",
      "model_module_version": "1.1.0",
      "model_name": "LayoutModel",
      "state": {}
     },
     "d3477e3a56d947188141dc53b92764dc": {
      "model_module": "@jupyter-widgets/controls",
      "model_module_version": "1.4.0",
      "model_name": "ButtonModel",
      "state": {
       "description": "Order 2",
       "layout": "IPY_MODEL_cd838d44dd18462188e33d5a8cdbf648",
       "style": "IPY_MODEL_546770db6f524c8cb202d36ee3f5533e"
      }
     },
     "d37ad23b95204684a67dcb5a5850feeb": {
      "model_module": "@jupyter-widgets/controls",
      "model_module_version": "1.4.0",
      "model_name": "DescriptionStyleModel",
      "state": {
       "description_width": ""
      }
     },
     "d3c0257782e14f968dfe3bec4ff0df0a": {
      "model_module": "@jupyter-widgets/base",
      "model_module_version": "1.1.0",
      "model_name": "LayoutModel",
      "state": {}
     },
     "d3f944816a4d4e4781e05977e311fead": {
      "model_module": "@jupyter-widgets/base",
      "model_module_version": "1.1.0",
      "model_name": "LayoutModel",
      "state": {}
     },
     "d49a9727d8ef4fc1a6233dad476917bf": {
      "model_module": "@jupyter-widgets/controls",
      "model_module_version": "1.4.0",
      "model_name": "HBoxModel",
      "state": {
       "children": [
        "IPY_MODEL_01d9a653c9554ca5b2fbca531cd326b9",
        "IPY_MODEL_8d6599fbd18542ab83eff41769a59920",
        "IPY_MODEL_af5952f82c5248b49d6763e159639196"
       ],
       "layout": "IPY_MODEL_efc0cc15837a4f318dbbacee70852751"
      }
     },
     "d4be0f7fbf9a4e1ebd4016c7de072f8b": {
      "model_module": "@jupyter-widgets/controls",
      "model_module_version": "1.4.0",
      "model_name": "TextModel",
      "state": {
       "description": "K :",
       "layout": "IPY_MODEL_b8e45fbf0efc4056b8d4e55b0633c464",
       "placeholder": "Type a value for K",
       "style": "IPY_MODEL_28458cbc885e40da82d183a60751b294"
      }
     },
     "d52504b7d6344802b2efcb73ffd34641": {
      "model_module": "@jupyter-widgets/controls",
      "model_module_version": "1.4.0",
      "model_name": "ButtonModel",
      "state": {
       "description": "Order > 2",
       "layout": "IPY_MODEL_3f06c92b54ae448799bf38a5e2a71879",
       "style": "IPY_MODEL_144a08e3f8af49d5884bfc752221f30a"
      }
     },
     "d5791c779ca04718a0cc4ea68ed54ee9": {
      "model_module": "@jupyter-widgets/base",
      "model_module_version": "1.1.0",
      "model_name": "LayoutModel",
      "state": {}
     },
     "d5a2b51ccf00465abb2bdb0eebf146c6": {
      "model_module": "@jupyter-widgets/controls",
      "model_module_version": "1.4.0",
      "model_name": "HBoxModel",
      "state": {
       "children": [
        "IPY_MODEL_397874d1dc6540b998ea488dac4c5ad0",
        "IPY_MODEL_b75f3fe0dd3847fe9cd60a03d54ff432",
        "IPY_MODEL_961a44bb74b5453b8a0c715e1fe1116a"
       ],
       "layout": "IPY_MODEL_bf2983f6a105435082e4a196f2134681"
      }
     },
     "d5a8fdccfd364fc894c783b6936769a0": {
      "model_module": "@jupyter-widgets/controls",
      "model_module_version": "1.4.0",
      "model_name": "ButtonModel",
      "state": {
       "description": "Order 1",
       "layout": "IPY_MODEL_72b7a4228d3b4ba7bf714bf2b85c715f",
       "style": "IPY_MODEL_6a94dc251074413c93e48ccbee0cc736"
      }
     },
     "d5c97b9437ee47bdba2716dcf67f237f": {
      "model_module": "@jupyter-widgets/controls",
      "model_module_version": "1.4.0",
      "model_name": "ButtonStyleModel",
      "state": {}
     },
     "d5f1678d733a4ef3bec5c0f2a7b6cbbe": {
      "model_module": "@jupyter-widgets/base",
      "model_module_version": "1.1.0",
      "model_name": "LayoutModel",
      "state": {}
     },
     "d5f6284f9da84300b19978e3d9406bfd": {
      "model_module": "@jupyter-widgets/controls",
      "model_module_version": "1.4.0",
      "model_name": "ButtonStyleModel",
      "state": {}
     },
     "d61ad2caa25f4ea09270760d51a85adf": {
      "model_module": "@jupyter-widgets/controls",
      "model_module_version": "1.4.0",
      "model_name": "ButtonStyleModel",
      "state": {}
     },
     "d67fec1ee850451bb92c7258d4343dfb": {
      "model_module": "@jupyter-widgets/controls",
      "model_module_version": "1.4.0",
      "model_name": "ButtonModel",
      "state": {
       "description": "Order 1",
       "layout": "IPY_MODEL_9890ddaf067549c0a8f5a9984e40a9b4",
       "style": "IPY_MODEL_7d04739353c04c0483e46be0f91b3f07"
      }
     },
     "d6a37630c214466eafaa119669ad9cdb": {
      "model_module": "@jupyter-widgets/base",
      "model_module_version": "1.1.0",
      "model_name": "LayoutModel",
      "state": {}
     },
     "d6b7638e17af44a38b62d5427236cc42": {
      "model_module": "@jupyter-widgets/base",
      "model_module_version": "1.1.0",
      "model_name": "LayoutModel",
      "state": {}
     },
     "d7005be1be104df9823a04aebe3bbf9a": {
      "model_module": "@jupyter-widgets/controls",
      "model_module_version": "1.4.0",
      "model_name": "ButtonModel",
      "state": {
       "description": "Order 1",
       "layout": "IPY_MODEL_b7de7a7c3e224ed98cdd3429c3157e33",
       "style": "IPY_MODEL_0c098dbe00b6484a8142c01ec77ef1b3"
      }
     },
     "d70e7b8897dc4f43a335f0051adda51c": {
      "model_module": "@jupyter-widgets/base",
      "model_module_version": "1.1.0",
      "model_name": "LayoutModel",
      "state": {}
     },
     "d7382f6f4cce4d27afdd2ddbebbb5519": {
      "model_module": "@jupyter-widgets/base",
      "model_module_version": "1.1.0",
      "model_name": "LayoutModel",
      "state": {}
     },
     "d755ca6003f942aab399103c4f2bc9da": {
      "model_module": "@jupyter-widgets/controls",
      "model_module_version": "1.4.0",
      "model_name": "ButtonStyleModel",
      "state": {}
     },
     "d75b7df41be34717b7e60e78924c94ca": {
      "model_module": "@jupyter-widgets/base",
      "model_module_version": "1.1.0",
      "model_name": "LayoutModel",
      "state": {}
     },
     "d75bcf6ce90a463487e5fb7e2b6fc268": {
      "model_module": "@jupyter-widgets/controls",
      "model_module_version": "1.4.0",
      "model_name": "ButtonModel",
      "state": {
       "description": "Order 1",
       "layout": "IPY_MODEL_e632196974ac44cdb0fc92ca70dfbd1f",
       "style": "IPY_MODEL_1f501746ee7344fbb6a51514183baab3"
      }
     },
     "d760495742f941f3857d59c64418cdaa": {
      "model_module": "@jupyter-widgets/base",
      "model_module_version": "1.1.0",
      "model_name": "LayoutModel",
      "state": {}
     },
     "d7acacc828b249879e42d2eb6d550e72": {
      "model_module": "@jupyter-widgets/controls",
      "model_module_version": "1.4.0",
      "model_name": "DescriptionStyleModel",
      "state": {
       "description_width": ""
      }
     },
     "d7c0c91faf824134918b2dc576eb575a": {
      "model_module": "@jupyter-widgets/controls",
      "model_module_version": "1.4.0",
      "model_name": "ButtonStyleModel",
      "state": {}
     },
     "d7e243f186a042af8e0dae05043d3f48": {
      "model_module": "@jupyter-widgets/base",
      "model_module_version": "1.1.0",
      "model_name": "LayoutModel",
      "state": {}
     },
     "d833d561aa9843a9a3dbdb6f04a885a9": {
      "model_module": "@jupyter-widgets/controls",
      "model_module_version": "1.4.0",
      "model_name": "ButtonStyleModel",
      "state": {}
     },
     "d834a00f22974ef0bbc4559a224417ee": {
      "model_module": "@jupyter-widgets/base",
      "model_module_version": "1.1.0",
      "model_name": "LayoutModel",
      "state": {}
     },
     "d8a2d699bdda4e818e4d59924ff2fbbf": {
      "model_module": "@jupyter-widgets/controls",
      "model_module_version": "1.4.0",
      "model_name": "DescriptionStyleModel",
      "state": {
       "description_width": ""
      }
     },
     "d8a6b2e46a65456d980e5ff6a0691c71": {
      "model_module": "@jupyter-widgets/controls",
      "model_module_version": "1.4.0",
      "model_name": "ButtonModel",
      "state": {
       "description": "Order 2",
       "layout": "IPY_MODEL_ecd1e7a0944d4164afd63fe5859f681b",
       "style": "IPY_MODEL_704aaa0389834d5488b2b7d6d3b8844d"
      }
     },
     "d957679a7c9f48849b7ed5cdcf9a8a23": {
      "model_module": "@jupyter-widgets/base",
      "model_module_version": "1.1.0",
      "model_name": "LayoutModel",
      "state": {}
     },
     "d9a13b63440c4cfbb372d0bc399d2347": {
      "model_module": "@jupyter-widgets/controls",
      "model_module_version": "1.4.0",
      "model_name": "HBoxModel",
      "state": {
       "children": [
        "IPY_MODEL_f49d09ff0fee4f28aa26566f648a2299",
        "IPY_MODEL_cdafbec7ce00482397b76ea92a31af99",
        "IPY_MODEL_9b3272d6a66d490db7e2a79c824cb7b9"
       ],
       "layout": "IPY_MODEL_a9b67adc481a4cfbbd8594939f5cd5ac"
      }
     },
     "d9c9173c8caf49dd9b7d3c95b29b8b85": {
      "model_module": "@jupyter-widgets/controls",
      "model_module_version": "1.4.0",
      "model_name": "ButtonModel",
      "state": {
       "description": "Order 1",
       "layout": "IPY_MODEL_af4799f0bbcc4c8d97d5ccc095845505",
       "style": "IPY_MODEL_6d90b8d9cb8442c9b7c6eb2d35db8aad"
      }
     },
     "d9e34f9e8718460d96593b98643d72e6": {
      "model_module": "@jupyter-widgets/controls",
      "model_module_version": "1.4.0",
      "model_name": "ButtonModel",
      "state": {
       "description": "Order > 2",
       "layout": "IPY_MODEL_9fb0c6282db04804b592dd235105ed90",
       "style": "IPY_MODEL_625748bd4f13440bbbb0b953753cf2ea"
      }
     },
     "d9f1a28e10284e87a528904dbed51a13": {
      "model_module": "@jupyter-widgets/controls",
      "model_module_version": "1.4.0",
      "model_name": "ButtonStyleModel",
      "state": {}
     },
     "d9fad1710e3b426da00038963dfd84fe": {
      "model_module": "@jupyter-widgets/base",
      "model_module_version": "1.1.0",
      "model_name": "LayoutModel",
      "state": {}
     },
     "da1e57bd400a4010bf56bf8e2073d9ad": {
      "model_module": "@jupyter-widgets/controls",
      "model_module_version": "1.4.0",
      "model_name": "ButtonModel",
      "state": {
       "description": "Valider",
       "layout": "IPY_MODEL_6529da2495024019975affd871df6673",
       "style": "IPY_MODEL_a1d66ef318ea4314a51d4a57eb66e6e7"
      }
     },
     "da968ed27e064f498ea938e5d659ddec": {
      "model_module": "@jupyter-widgets/base",
      "model_module_version": "1.1.0",
      "model_name": "LayoutModel",
      "state": {}
     },
     "daa080992b6b4f44b430a7430ab3c5ed": {
      "model_module": "@jupyter-widgets/controls",
      "model_module_version": "1.4.0",
      "model_name": "ButtonModel",
      "state": {
       "description": "Order > 2",
       "layout": "IPY_MODEL_0af22833596d42c0ab12f0157cd2269f",
       "style": "IPY_MODEL_06582bb00879462b94ce3c4763ce5447"
      }
     },
     "dab9968506f34d759a75d0027a856862": {
      "model_module": "@jupyter-widgets/controls",
      "model_module_version": "1.4.0",
      "model_name": "TextModel",
      "state": {
       "description": "T :",
       "layout": "IPY_MODEL_af2b8e40b67b4dcbaec4831cc315e2dd",
       "placeholder": "Type a value for T",
       "style": "IPY_MODEL_25908f6047f2413bb675e4939d39a918",
       "value": "9"
      }
     },
     "dad770c5e6504eb98bf2acdb9889ea2d": {
      "model_module": "@jupyter-widgets/controls",
      "model_module_version": "1.4.0",
      "model_name": "ButtonStyleModel",
      "state": {}
     },
     "daf2d98db22e4bdb8202f3bfb71873e0": {
      "model_module": "@jupyter-widgets/controls",
      "model_module_version": "1.4.0",
      "model_name": "ButtonModel",
      "state": {
       "description": "Valider",
       "layout": "IPY_MODEL_edc04a5dfc424938a7f2ae9198d5a698",
       "style": "IPY_MODEL_ec7bbbe4af434f1782bf427cef8b42d2"
      }
     },
     "db0111e2771249728b93cbced38abe7f": {
      "model_module": "@jupyter-widgets/controls",
      "model_module_version": "1.4.0",
      "model_name": "ButtonStyleModel",
      "state": {}
     },
     "db01d75a0a504e53afca4f106b4165aa": {
      "model_module": "@jupyter-widgets/controls",
      "model_module_version": "1.4.0",
      "model_name": "ButtonStyleModel",
      "state": {}
     },
     "db04ccd0f8cf411c86c8d38c1d306436": {
      "model_module": "@jupyter-widgets/controls",
      "model_module_version": "1.4.0",
      "model_name": "TextModel",
      "state": {
       "description": "T :",
       "layout": "IPY_MODEL_76e3362aaa2649a4a45125f7213d4399",
       "placeholder": "Type a value for T",
       "style": "IPY_MODEL_d37ad23b95204684a67dcb5a5850feeb",
       "value": "1"
      }
     },
     "db4c12782ae440468d4f1a53ab2c1711": {
      "model_module": "@jupyter-widgets/controls",
      "model_module_version": "1.4.0",
      "model_name": "TextModel",
      "state": {
       "description": "T :",
       "layout": "IPY_MODEL_2dac3761b3c0489bbaa9e3ebc28d337e",
       "placeholder": "Type a value for T",
       "style": "IPY_MODEL_1db8180d12614e81bcbd98d8e8861378",
       "value": "1"
      }
     },
     "db87f038fdbf49e797c08a4e31bc61be": {
      "model_module": "@jupyter-widgets/controls",
      "model_module_version": "1.4.0",
      "model_name": "ButtonStyleModel",
      "state": {}
     },
     "dc288bbed7814a54b332d4408805e9ed": {
      "model_module": "@jupyter-widgets/controls",
      "model_module_version": "1.4.0",
      "model_name": "DescriptionStyleModel",
      "state": {
       "description_width": ""
      }
     },
     "dc40a65dedaa4f07a7911e45ca1c2705": {
      "model_module": "@jupyter-widgets/base",
      "model_module_version": "1.1.0",
      "model_name": "LayoutModel",
      "state": {}
     },
     "dc54c7bd94c644dba8dbb42a7d78bf91": {
      "model_module": "@jupyter-widgets/controls",
      "model_module_version": "1.4.0",
      "model_name": "ButtonModel",
      "state": {
       "description": "Valider",
       "layout": "IPY_MODEL_b8f006c7eb5f4bc38edfa209973db9c1",
       "style": "IPY_MODEL_ed314b80988547ad85841def8f9e1e9b"
      }
     },
     "dcb243482e3e4043a5286e12cbd8ed3b": {
      "model_module": "@jupyter-widgets/controls",
      "model_module_version": "1.4.0",
      "model_name": "ButtonModel",
      "state": {
       "description": "Order > 2",
       "layout": "IPY_MODEL_d70e7b8897dc4f43a335f0051adda51c",
       "style": "IPY_MODEL_76f819f83a234061a5a55d34ebe35201"
      }
     },
     "dcc7af94d9a14bb7b9109eb9037cdec7": {
      "model_module": "@jupyter-widgets/controls",
      "model_module_version": "1.4.0",
      "model_name": "DescriptionStyleModel",
      "state": {
       "description_width": ""
      }
     },
     "dd3b2b56e65f4bf3b3c66ac49d784fbe": {
      "model_module": "@jupyter-widgets/controls",
      "model_module_version": "1.4.0",
      "model_name": "ButtonStyleModel",
      "state": {}
     },
     "de4ba1a837cb45bda7625cfe406113ad": {
      "model_module": "@jupyter-widgets/base",
      "model_module_version": "1.1.0",
      "model_name": "LayoutModel",
      "state": {}
     },
     "deae3d561a8c4c89a92dc7f83235be80": {
      "model_module": "@jupyter-widgets/base",
      "model_module_version": "1.1.0",
      "model_name": "LayoutModel",
      "state": {}
     },
     "dee045ea6d7a406ca246a3126717c1e2": {
      "model_module": "@jupyter-widgets/controls",
      "model_module_version": "1.4.0",
      "model_name": "ButtonStyleModel",
      "state": {}
     },
     "defd9e5e319b4a3ebba796f211a41ea6": {
      "model_module": "@jupyter-widgets/base",
      "model_module_version": "1.1.0",
      "model_name": "LayoutModel",
      "state": {}
     },
     "df025b992f1c4575958fab92fd3a12ce": {
      "model_module": "@jupyter-widgets/controls",
      "model_module_version": "1.4.0",
      "model_name": "ButtonModel",
      "state": {
       "description": "Order > 2",
       "layout": "IPY_MODEL_25e18771d93e4a3b90f7ea6552a552fe",
       "style": "IPY_MODEL_8d77dd3eb39c45ef917d11219a8d03af"
      }
     },
     "df1a4cb963a542deb412c926a20aa696": {
      "model_module": "@jupyter-widgets/controls",
      "model_module_version": "1.4.0",
      "model_name": "ButtonStyleModel",
      "state": {}
     },
     "df1f9267ad3e47b6a677aa5a05db78dc": {
      "model_module": "@jupyter-widgets/controls",
      "model_module_version": "1.4.0",
      "model_name": "TextModel",
      "state": {
       "description": "T :",
       "layout": "IPY_MODEL_18b1cac16d40482ca38d9930c520b8da",
       "placeholder": "Type a value for T",
       "style": "IPY_MODEL_aadb7296ddd24e858b577edf04fd9bd8",
       "value": "1"
      }
     },
     "df5af860cf684d699372abe5d7ed063a": {
      "model_module": "@jupyter-widgets/base",
      "model_module_version": "1.1.0",
      "model_name": "LayoutModel",
      "state": {}
     },
     "dfdb00a276ca4a12b0e7188312624e20": {
      "model_module": "@jupyter-widgets/controls",
      "model_module_version": "1.4.0",
      "model_name": "TextModel",
      "state": {
       "description": "K :",
       "layout": "IPY_MODEL_6b23d980651242ba90cd19e355ad342f",
       "placeholder": "Type a value for K",
       "style": "IPY_MODEL_7523f6f9de51455aaa80b7081be742ae",
       "value": "1"
      }
     },
     "e03ba2eeeb1545ac82112cc24171b8bf": {
      "model_module": "@jupyter-widgets/controls",
      "model_module_version": "1.4.0",
      "model_name": "ButtonStyleModel",
      "state": {}
     },
     "e03e18e6423c4fdeb3b9697606ee5830": {
      "model_module": "@jupyter-widgets/controls",
      "model_module_version": "1.4.0",
      "model_name": "ButtonModel",
      "state": {
       "description": "Valider",
       "layout": "IPY_MODEL_7bcaa18e8f0d4fadacb308805442c933",
       "style": "IPY_MODEL_6e02b30bdbe341208ac6ad9d3f34d1c9"
      }
     },
     "e0464c8c58e1481796232f24934b0393": {
      "model_module": "@jupyter-widgets/controls",
      "model_module_version": "1.4.0",
      "model_name": "ButtonStyleModel",
      "state": {}
     },
     "e09b33841b0b4cdda816bca8e09a1644": {
      "model_module": "@jupyter-widgets/controls",
      "model_module_version": "1.4.0",
      "model_name": "ButtonStyleModel",
      "state": {}
     },
     "e0b6f07b560c4ab1b7de322ca27725c1": {
      "model_module": "@jupyter-widgets/base",
      "model_module_version": "1.1.0",
      "model_name": "LayoutModel",
      "state": {}
     },
     "e11728309e7b4885ad93393a7b9638be": {
      "model_module": "@jupyter-widgets/base",
      "model_module_version": "1.1.0",
      "model_name": "LayoutModel",
      "state": {}
     },
     "e13a0c158c1a46b08c6d7fad8e7fdde6": {
      "model_module": "@jupyter-widgets/controls",
      "model_module_version": "1.4.0",
      "model_name": "ButtonModel",
      "state": {
       "description": "Order 1",
       "layout": "IPY_MODEL_fbfd2fa791234cbfbbafeaf2130e1dcc",
       "style": "IPY_MODEL_5be9e251c4c94e70af976219e49c8636"
      }
     },
     "e164a23e75944767905d25fc4307a4f0": {
      "model_module": "@jupyter-widgets/controls",
      "model_module_version": "1.4.0",
      "model_name": "DescriptionStyleModel",
      "state": {
       "description_width": ""
      }
     },
     "e1aadf12b7e549e4aecac8b9d7edd104": {
      "model_module": "@jupyter-widgets/controls",
      "model_module_version": "1.4.0",
      "model_name": "ButtonStyleModel",
      "state": {}
     },
     "e1b8326ef3d440f192e92e569663145b": {
      "model_module": "@jupyter-widgets/controls",
      "model_module_version": "1.4.0",
      "model_name": "ButtonModel",
      "state": {
       "description": "Order > 2",
       "layout": "IPY_MODEL_2d30f745fb94480799f17e3cab6c8517",
       "style": "IPY_MODEL_744f585f31a743a0965acfd8bca9b616"
      }
     },
     "e1bd643037324abd98a5e8ddd548afc4": {
      "model_module": "@jupyter-widgets/controls",
      "model_module_version": "1.4.0",
      "model_name": "ButtonModel",
      "state": {
       "description": "Order > 2",
       "layout": "IPY_MODEL_8be180678f204342b3a2e5d23ed0edbf",
       "style": "IPY_MODEL_f47c95ba373549dcb39937f34c3f96e2"
      }
     },
     "e1c09027827b47d1aa0a1518f93ceb98": {
      "model_module": "@jupyter-widgets/base",
      "model_module_version": "1.1.0",
      "model_name": "LayoutModel",
      "state": {}
     },
     "e1c71892cc13499b9e9ec6c54e3966e2": {
      "model_module": "@jupyter-widgets/controls",
      "model_module_version": "1.4.0",
      "model_name": "HBoxModel",
      "state": {
       "children": [
        "IPY_MODEL_bbc8d8f63f1346b0868fa32307db8269",
        "IPY_MODEL_8e547f8194864008a9111a50333b6f4d",
        "IPY_MODEL_c857eb1d00df4f22839c7d5bc31e592a"
       ],
       "layout": "IPY_MODEL_cd2769a387884c3e9352c8ff6c73f961"
      }
     },
     "e21689e5c0234042aa6370fd5b5d1cef": {
      "model_module": "@jupyter-widgets/controls",
      "model_module_version": "1.4.0",
      "model_name": "ButtonStyleModel",
      "state": {}
     },
     "e276543793004c5f848fbc60098332ea": {
      "model_module": "@jupyter-widgets/base",
      "model_module_version": "1.1.0",
      "model_name": "LayoutModel",
      "state": {}
     },
     "e282450a335249fdaf1adbc6349c6901": {
      "model_module": "@jupyter-widgets/controls",
      "model_module_version": "1.4.0",
      "model_name": "ButtonStyleModel",
      "state": {}
     },
     "e29fe05da6094611ad7d2fcc13f350f6": {
      "model_module": "@jupyter-widgets/controls",
      "model_module_version": "1.4.0",
      "model_name": "HBoxModel",
      "state": {
       "children": [
        "IPY_MODEL_792ee79804a445c1bef9659836f6e87b",
        "IPY_MODEL_f678d33a4c4647738982f168640c3266",
        "IPY_MODEL_a81718d526c042c4ab2ed7454e8c4ceb"
       ],
       "layout": "IPY_MODEL_7ed4ffb484524bde8e176d266fddd46d"
      }
     },
     "e2ab9d6fa4994df3b1dc51ba7bddc9fd": {
      "model_module": "@jupyter-widgets/base",
      "model_module_version": "1.1.0",
      "model_name": "LayoutModel",
      "state": {}
     },
     "e357699e388d4fc6b5249419f7390a80": {
      "model_module": "@jupyter-widgets/controls",
      "model_module_version": "1.4.0",
      "model_name": "HBoxModel",
      "state": {
       "children": [
        "IPY_MODEL_47c459be519f477a9c2fe97135a59666",
        "IPY_MODEL_f04bb737bcf74837acf27a5707e74bf5",
        "IPY_MODEL_314d4a6574b64c838577b5743d500c1b"
       ],
       "layout": "IPY_MODEL_e11728309e7b4885ad93393a7b9638be"
      }
     },
     "e37c5c66229447e097be30ebb402217e": {
      "model_module": "@jupyter-widgets/base",
      "model_module_version": "1.1.0",
      "model_name": "LayoutModel",
      "state": {}
     },
     "e3980603429a4984a4e607a29eb5a4f0": {
      "model_module": "@jupyter-widgets/controls",
      "model_module_version": "1.4.0",
      "model_name": "HBoxModel",
      "state": {
       "children": [
        "IPY_MODEL_90326bb91042401ab713dbbd9fabb6d5",
        "IPY_MODEL_3b927aebbbc042b694868199a518e776",
        "IPY_MODEL_4400d85567214b399c29d8cb61fc3778"
       ],
       "layout": "IPY_MODEL_9cc91ab03e65451a97743f381e3b03f2"
      }
     },
     "e399cd585a6649649b73ce4b215d6a67": {
      "model_module": "@jupyter-widgets/base",
      "model_module_version": "1.1.0",
      "model_name": "LayoutModel",
      "state": {}
     },
     "e3f9a048237e48d7a42c0e6ffe18111f": {
      "model_module": "@jupyter-widgets/controls",
      "model_module_version": "1.4.0",
      "model_name": "ButtonStyleModel",
      "state": {}
     },
     "e416c513fbcc42e6bc4fc254a7b5711e": {
      "model_module": "@jupyter-widgets/controls",
      "model_module_version": "1.4.0",
      "model_name": "ButtonModel",
      "state": {
       "description": "Valider",
       "layout": "IPY_MODEL_eb5bd88c77314da3b45d383a7b8716a0",
       "style": "IPY_MODEL_51a75ef8b7144ad587e148760c479458"
      }
     },
     "e41be635486940fda1cadca534734d54": {
      "model_module": "@jupyter-widgets/controls",
      "model_module_version": "1.4.0",
      "model_name": "TextModel",
      "state": {
       "description": "T :",
       "layout": "IPY_MODEL_52aab185efa24dcfb1a594f10bceb1f5",
       "placeholder": "Type a value for T",
       "style": "IPY_MODEL_c213121e33f34b2cb5ac7b69a29aacbc",
       "value": "2"
      }
     },
     "e45b2f53e0c94baf81b8cf95fc6954fa": {
      "model_module": "@jupyter-widgets/controls",
      "model_module_version": "1.4.0",
      "model_name": "ButtonModel",
      "state": {
       "description": "Order 1",
       "layout": "IPY_MODEL_2d5425d5a0df4365924803116f0dc10e",
       "style": "IPY_MODEL_e1aadf12b7e549e4aecac8b9d7edd104"
      }
     },
     "e4c4c61383a94a00bc259ac43912cb3b": {
      "model_module": "@jupyter-widgets/controls",
      "model_module_version": "1.4.0",
      "model_name": "ButtonStyleModel",
      "state": {}
     },
     "e4e4c983b5a048fabe4db7f4d9340ec5": {
      "model_module": "@jupyter-widgets/base",
      "model_module_version": "1.1.0",
      "model_name": "LayoutModel",
      "state": {}
     },
     "e539c6f3c6c44cac89bd520ea988d665": {
      "model_module": "@jupyter-widgets/base",
      "model_module_version": "1.1.0",
      "model_name": "LayoutModel",
      "state": {}
     },
     "e55b92ef36ab4c5ea81f34b13b8c1bcb": {
      "model_module": "@jupyter-widgets/controls",
      "model_module_version": "1.4.0",
      "model_name": "ButtonStyleModel",
      "state": {}
     },
     "e55bd1f78f9445fb86ad1e016bb14c8c": {
      "model_module": "@jupyter-widgets/controls",
      "model_module_version": "1.4.0",
      "model_name": "ButtonStyleModel",
      "state": {}
     },
     "e5627c868e2f403f8dc5ac60e9e37eb5": {
      "model_module": "@jupyter-widgets/base",
      "model_module_version": "1.1.0",
      "model_name": "LayoutModel",
      "state": {}
     },
     "e6050d084542442a9f7678d4b7a34c78": {
      "model_module": "@jupyter-widgets/controls",
      "model_module_version": "1.4.0",
      "model_name": "TextModel",
      "state": {
       "description": "T :",
       "layout": "IPY_MODEL_7913e60e64a040a5952a32ad6ad7887d",
       "placeholder": "Type a value for T",
       "style": "IPY_MODEL_6185b3ca324d45f181147a430c1c444b",
       "value": "3"
      }
     },
     "e622f063c28344b2896132e973d6d672": {
      "model_module": "@jupyter-widgets/controls",
      "model_module_version": "1.4.0",
      "model_name": "ButtonStyleModel",
      "state": {}
     },
     "e632196974ac44cdb0fc92ca70dfbd1f": {
      "model_module": "@jupyter-widgets/base",
      "model_module_version": "1.1.0",
      "model_name": "LayoutModel",
      "state": {}
     },
     "e63ed63af379483a8b8a21d7dc00ee1f": {
      "model_module": "@jupyter-widgets/base",
      "model_module_version": "1.1.0",
      "model_name": "LayoutModel",
      "state": {}
     },
     "e653f909ccb944c58deb2bb7f2c853c1": {
      "model_module": "@jupyter-widgets/controls",
      "model_module_version": "1.4.0",
      "model_name": "ButtonStyleModel",
      "state": {}
     },
     "e6ade5e4f4e948e3a33738a28317d948": {
      "model_module": "@jupyter-widgets/base",
      "model_module_version": "1.1.0",
      "model_name": "LayoutModel",
      "state": {}
     },
     "e6c43893fb6b4c5c99d8d5bb6e6ed52a": {
      "model_module": "@jupyter-widgets/controls",
      "model_module_version": "1.4.0",
      "model_name": "ButtonStyleModel",
      "state": {}
     },
     "e6ccc53a793e4a56a5dcaab4b42798d9": {
      "model_module": "@jupyter-widgets/base",
      "model_module_version": "1.1.0",
      "model_name": "LayoutModel",
      "state": {}
     },
     "e6e68018814c43d386c66b6c504d81b2": {
      "model_module": "@jupyter-widgets/base",
      "model_module_version": "1.1.0",
      "model_name": "LayoutModel",
      "state": {}
     },
     "e6f53081cbca4844b4a3fc78058ebeca": {
      "model_module": "@jupyter-widgets/base",
      "model_module_version": "1.1.0",
      "model_name": "LayoutModel",
      "state": {}
     },
     "e769ae08169f46379184bd3051f96ac0": {
      "model_module": "@jupyter-widgets/controls",
      "model_module_version": "1.4.0",
      "model_name": "ButtonModel",
      "state": {
       "description": "Order > 2",
       "layout": "IPY_MODEL_c900d461d25d4001a4d3204c0697ddec",
       "style": "IPY_MODEL_b331f6a03bb64f6fb2074dc0f044e48c"
      }
     },
     "e7a334b8e799483a9dd690bfc66cbc59": {
      "model_module": "@jupyter-widgets/base",
      "model_module_version": "1.1.0",
      "model_name": "LayoutModel",
      "state": {}
     },
     "e7cef001cb984a449d0fb20c63298a66": {
      "model_module": "@jupyter-widgets/base",
      "model_module_version": "1.1.0",
      "model_name": "LayoutModel",
      "state": {}
     },
     "e7e6bc6c12cb4f52920bd96695e99653": {
      "model_module": "@jupyter-widgets/base",
      "model_module_version": "1.1.0",
      "model_name": "LayoutModel",
      "state": {}
     },
     "e8044241ad3840aa8d5a2eb11922cd1e": {
      "model_module": "@jupyter-widgets/base",
      "model_module_version": "1.1.0",
      "model_name": "LayoutModel",
      "state": {}
     },
     "e848c208f1a8413480aed3faabdcda16": {
      "model_module": "@jupyter-widgets/controls",
      "model_module_version": "1.4.0",
      "model_name": "ButtonStyleModel",
      "state": {}
     },
     "e889ffbb364448e79c62217cb8b589da": {
      "model_module": "@jupyter-widgets/controls",
      "model_module_version": "1.4.0",
      "model_name": "ButtonModel",
      "state": {
       "description": "Order 2",
       "layout": "IPY_MODEL_03f70802bca74719be98721ef358fc44",
       "style": "IPY_MODEL_0051b883ea44412383508206a0481d02"
      }
     },
     "e8a871dd3afe488e86ab7ad54c47267d": {
      "model_module": "@jupyter-widgets/controls",
      "model_module_version": "1.4.0",
      "model_name": "DescriptionStyleModel",
      "state": {
       "description_width": ""
      }
     },
     "e8b083de30e448cc9428ddd77fac6c51": {
      "model_module": "@jupyter-widgets/controls",
      "model_module_version": "1.4.0",
      "model_name": "ButtonModel",
      "state": {
       "description": "Order 2",
       "layout": "IPY_MODEL_2c39a35b7b1745528f5fa2cefc663cf4",
       "style": "IPY_MODEL_acb5fbc67fd44b8a9e4324e95e2205f2"
      }
     },
     "e92b6c5176b44537bd251a49c9980d65": {
      "model_module": "@jupyter-widgets/base",
      "model_module_version": "1.1.0",
      "model_name": "LayoutModel",
      "state": {}
     },
     "e93d7743e7ed41bbb0cee03427ecce85": {
      "model_module": "@jupyter-widgets/base",
      "model_module_version": "1.1.0",
      "model_name": "LayoutModel",
      "state": {}
     },
     "e9e9466b5ee14382b59d5cefea5b7aec": {
      "model_module": "@jupyter-widgets/controls",
      "model_module_version": "1.4.0",
      "model_name": "ButtonStyleModel",
      "state": {}
     },
     "ea09e5923ac0430f82d046289dde1660": {
      "model_module": "@jupyter-widgets/base",
      "model_module_version": "1.1.0",
      "model_name": "LayoutModel",
      "state": {}
     },
     "ea51094b94e14843b489a2115d904221": {
      "model_module": "@jupyter-widgets/controls",
      "model_module_version": "1.4.0",
      "model_name": "ButtonStyleModel",
      "state": {}
     },
     "ea5a0dd3f0464349a16259b94784466a": {
      "model_module": "@jupyter-widgets/base",
      "model_module_version": "1.1.0",
      "model_name": "LayoutModel",
      "state": {}
     },
     "ea88be34d76b4e02a98df89bd8dce3eb": {
      "model_module": "@jupyter-widgets/base",
      "model_module_version": "1.1.0",
      "model_name": "LayoutModel",
      "state": {}
     },
     "ea9fab0d110b47f18c65ce5a1c31ae09": {
      "model_module": "@jupyter-widgets/controls",
      "model_module_version": "1.4.0",
      "model_name": "ButtonStyleModel",
      "state": {}
     },
     "eab66f85619e4971906cf529bfb51710": {
      "model_module": "@jupyter-widgets/controls",
      "model_module_version": "1.4.0",
      "model_name": "DescriptionStyleModel",
      "state": {
       "description_width": ""
      }
     },
     "eaeec1a6f971434c90d0b24384b9e82b": {
      "model_module": "@jupyter-widgets/controls",
      "model_module_version": "1.4.0",
      "model_name": "ButtonModel",
      "state": {
       "description": "Order 1",
       "layout": "IPY_MODEL_ab293b3e02e64de7a903b8b37f57557b",
       "style": "IPY_MODEL_39d5be1bc0254cc9bf8b1699fc4673d0"
      }
     },
     "eb0f39eca59a49c8b9307a0f1fe99d68": {
      "model_module": "@jupyter-widgets/base",
      "model_module_version": "1.1.0",
      "model_name": "LayoutModel",
      "state": {}
     },
     "eb31608005bf433c9604b4c18f49d060": {
      "model_module": "@jupyter-widgets/base",
      "model_module_version": "1.1.0",
      "model_name": "LayoutModel",
      "state": {}
     },
     "eb4a77cf8c1b45bf9c18e4380df70402": {
      "model_module": "@jupyter-widgets/base",
      "model_module_version": "1.1.0",
      "model_name": "LayoutModel",
      "state": {}
     },
     "eb5bd88c77314da3b45d383a7b8716a0": {
      "model_module": "@jupyter-widgets/base",
      "model_module_version": "1.1.0",
      "model_name": "LayoutModel",
      "state": {}
     },
     "eb9ae2b2fd5e41e8bff0367b277c8df5": {
      "model_module": "@jupyter-widgets/controls",
      "model_module_version": "1.4.0",
      "model_name": "DescriptionStyleModel",
      "state": {
       "description_width": ""
      }
     },
     "ebc36c8d591747ed99ad3a8ae1fa2c10": {
      "model_module": "@jupyter-widgets/controls",
      "model_module_version": "1.4.0",
      "model_name": "ButtonModel",
      "state": {
       "description": "Order 2",
       "layout": "IPY_MODEL_996ed926e6c14edebfd72a6dcc3d8b65",
       "style": "IPY_MODEL_f512a941ba114736af1c56961c8b1611"
      }
     },
     "ebc63d95b8864ff2b5a418e9bee540ed": {
      "model_module": "@jupyter-widgets/controls",
      "model_module_version": "1.4.0",
      "model_name": "HBoxModel",
      "state": {
       "children": [
        "IPY_MODEL_e45b2f53e0c94baf81b8cf95fc6954fa",
        "IPY_MODEL_0926ceea3efd4575b37506afb9e5496d",
        "IPY_MODEL_2d68b6891ded4fa9804229e1786ae0d0"
       ],
       "layout": "IPY_MODEL_c533422f2eac4ac1ba8f7c69a39e2fd4"
      }
     },
     "ec1088e1b5f448f29c5890bf61ad436e": {
      "model_module": "@jupyter-widgets/controls",
      "model_module_version": "1.4.0",
      "model_name": "ButtonStyleModel",
      "state": {}
     },
     "ec2d23089fd5414dba3aded4ccb63dd4": {
      "model_module": "@jupyter-widgets/base",
      "model_module_version": "1.1.0",
      "model_name": "LayoutModel",
      "state": {}
     },
     "ec33b30dc9a54caf9dadbe1a7452a024": {
      "model_module": "@jupyter-widgets/controls",
      "model_module_version": "1.4.0",
      "model_name": "TextModel",
      "state": {
       "description": "K :",
       "layout": "IPY_MODEL_ea5a0dd3f0464349a16259b94784466a",
       "placeholder": "Type a value for K",
       "style": "IPY_MODEL_9a98f7e022dc44da8932d3ad25f64c89",
       "value": "2"
      }
     },
     "ec5d213429304701be827491bcb02de1": {
      "model_module": "@jupyter-widgets/base",
      "model_module_version": "1.1.0",
      "model_name": "LayoutModel",
      "state": {}
     },
     "ec7bbbe4af434f1782bf427cef8b42d2": {
      "model_module": "@jupyter-widgets/controls",
      "model_module_version": "1.4.0",
      "model_name": "ButtonStyleModel",
      "state": {}
     },
     "ecd1e7a0944d4164afd63fe5859f681b": {
      "model_module": "@jupyter-widgets/base",
      "model_module_version": "1.1.0",
      "model_name": "LayoutModel",
      "state": {}
     },
     "ecfa3c837d684c3a9c7ffcf72281cfa7": {
      "model_module": "@jupyter-widgets/controls",
      "model_module_version": "1.4.0",
      "model_name": "ButtonModel",
      "state": {
       "description": "Order > 2",
       "layout": "IPY_MODEL_8bbe8f0766754425bedb5a8506b38da3",
       "style": "IPY_MODEL_3aeb9495fe24437b861f1a953ba40527"
      }
     },
     "ecfde9db29b0499cb1da163d0f0282b3": {
      "model_module": "@jupyter-widgets/controls",
      "model_module_version": "1.4.0",
      "model_name": "DescriptionStyleModel",
      "state": {
       "description_width": ""
      }
     },
     "ed02839304234127b84988f0050c8819": {
      "model_module": "@jupyter-widgets/base",
      "model_module_version": "1.1.0",
      "model_name": "LayoutModel",
      "state": {}
     },
     "ed041bc1cbaa459999bde3dd5c5ddd3d": {
      "model_module": "@jupyter-widgets/controls",
      "model_module_version": "1.4.0",
      "model_name": "ButtonStyleModel",
      "state": {}
     },
     "ed18776adbfc4218ab7c4b07db58ef3c": {
      "model_module": "@jupyter-widgets/controls",
      "model_module_version": "1.4.0",
      "model_name": "DescriptionStyleModel",
      "state": {
       "description_width": ""
      }
     },
     "ed314b80988547ad85841def8f9e1e9b": {
      "model_module": "@jupyter-widgets/controls",
      "model_module_version": "1.4.0",
      "model_name": "ButtonStyleModel",
      "state": {}
     },
     "ed379108f5804003a0460a3d6b1f9e73": {
      "model_module": "@jupyter-widgets/controls",
      "model_module_version": "1.4.0",
      "model_name": "TextModel",
      "state": {
       "description": "T :",
       "layout": "IPY_MODEL_211ca5092aee402ea7cad5331e2a00de",
       "placeholder": "Type a value for T",
       "style": "IPY_MODEL_0da9dc3f131b41708e0c384a9d17a81e",
       "value": "1"
      }
     },
     "ed6f037bd1f4418d989e8bc603bc44d3": {
      "model_module": "@jupyter-widgets/controls",
      "model_module_version": "1.4.0",
      "model_name": "ButtonModel",
      "state": {
       "description": "Order 2",
       "layout": "IPY_MODEL_8342f4c1aa724d7a8b1584e881f3d268",
       "style": "IPY_MODEL_9815814639c14e90884ac2662e966ec0"
      }
     },
     "edad799639604f65aa648f6b2c3bfb02": {
      "model_module": "@jupyter-widgets/controls",
      "model_module_version": "1.4.0",
      "model_name": "ButtonStyleModel",
      "state": {}
     },
     "edc04a5dfc424938a7f2ae9198d5a698": {
      "model_module": "@jupyter-widgets/base",
      "model_module_version": "1.1.0",
      "model_name": "LayoutModel",
      "state": {}
     },
     "eeef4de35acd4ee5886057692a1a6bce": {
      "model_module": "@jupyter-widgets/controls",
      "model_module_version": "1.4.0",
      "model_name": "TextModel",
      "state": {
       "description": "K :",
       "layout": "IPY_MODEL_6ba234e17a1e4f76b519e8aebd26cf13",
       "placeholder": "Type a value for K",
       "style": "IPY_MODEL_cb3ad467d8444d31b4f8e08d1d50f23c",
       "value": "lol"
      }
     },
     "ef0728ceffc841fc9486b984e81b050e": {
      "model_module": "@jupyter-widgets/controls",
      "model_module_version": "1.4.0",
      "model_name": "ButtonModel",
      "state": {
       "description": "Valider",
       "layout": "IPY_MODEL_c14879621de540358f220e4db1ddb71e",
       "style": "IPY_MODEL_9900c916bae9497ca35e1e6983426e9a"
      }
     },
     "ef077b590e8e4de292600f4013794706": {
      "model_module": "@jupyter-widgets/controls",
      "model_module_version": "1.4.0",
      "model_name": "ButtonStyleModel",
      "state": {}
     },
     "ef153b2e45df49fcbfed2e8b1877c88a": {
      "model_module": "@jupyter-widgets/controls",
      "model_module_version": "1.4.0",
      "model_name": "ButtonModel",
      "state": {
       "description": "Order > 2",
       "layout": "IPY_MODEL_d75b7df41be34717b7e60e78924c94ca",
       "style": "IPY_MODEL_a6dade88e50143eaaee6568d58fa8cd4"
      }
     },
     "ef41f145496e43cd91c109ecce6e12fd": {
      "model_module": "@jupyter-widgets/base",
      "model_module_version": "1.1.0",
      "model_name": "LayoutModel",
      "state": {}
     },
     "ef9d3620e6a64520b5fec7d7d0dd196b": {
      "model_module": "@jupyter-widgets/base",
      "model_module_version": "1.1.0",
      "model_name": "LayoutModel",
      "state": {}
     },
     "efc0cc15837a4f318dbbacee70852751": {
      "model_module": "@jupyter-widgets/base",
      "model_module_version": "1.1.0",
      "model_name": "LayoutModel",
      "state": {}
     },
     "f02ef732e27e49f1b4180793373b5a19": {
      "model_module": "@jupyter-widgets/controls",
      "model_module_version": "1.4.0",
      "model_name": "HBoxModel",
      "state": {
       "children": [
        "IPY_MODEL_d5a8fdccfd364fc894c783b6936769a0",
        "IPY_MODEL_3a3f2c8504f54001a4839ef2cfd79386",
        "IPY_MODEL_c73110b0735b42e082c230f525f5253c"
       ],
       "layout": "IPY_MODEL_87ea7a92a29b48c691a815f702de8a3e"
      }
     },
     "f0320f7c8fe84fc9a070a4a50d35649b": {
      "model_module": "@jupyter-widgets/controls",
      "model_module_version": "1.4.0",
      "model_name": "HBoxModel",
      "state": {
       "children": [
        "IPY_MODEL_4bd0e713a0f342b69fb5ce6b1861d585",
        "IPY_MODEL_9eab46f70fa7491ab489abdbdb668295",
        "IPY_MODEL_73de6c520490470fa79df91fc9c868c8"
       ],
       "layout": "IPY_MODEL_aef3c35fa3fe4b64be50f227d4b42024"
      }
     },
     "f04a5095f04d45c497babfa54213cf27": {
      "model_module": "@jupyter-widgets/base",
      "model_module_version": "1.1.0",
      "model_name": "LayoutModel",
      "state": {}
     },
     "f04bb737bcf74837acf27a5707e74bf5": {
      "model_module": "@jupyter-widgets/controls",
      "model_module_version": "1.4.0",
      "model_name": "ButtonModel",
      "state": {
       "description": "Order 2",
       "layout": "IPY_MODEL_d3f944816a4d4e4781e05977e311fead",
       "style": "IPY_MODEL_37743446f8234f9c8efd0d3ce9c98f3d"
      }
     },
     "f090889f2e404b22afafd95ec84f5736": {
      "model_module": "@jupyter-widgets/controls",
      "model_module_version": "1.4.0",
      "model_name": "ButtonModel",
      "state": {
       "description": "Order 1",
       "layout": "IPY_MODEL_475ef3f528b14ae9a3305e646e480640",
       "style": "IPY_MODEL_89aa3ef8b00644d793d32c49ef43d1e6"
      }
     },
     "f0cf2255de14462b9096c771f4e37b48": {
      "model_module": "@jupyter-widgets/base",
      "model_module_version": "1.1.0",
      "model_name": "LayoutModel",
      "state": {}
     },
     "f0e0ceae1931418d8befcb5bad8c9af8": {
      "model_module": "@jupyter-widgets/base",
      "model_module_version": "1.1.0",
      "model_name": "LayoutModel",
      "state": {}
     },
     "f164964aa18448c99f85a30c1b54fc4c": {
      "model_module": "@jupyter-widgets/controls",
      "model_module_version": "1.4.0",
      "model_name": "ButtonStyleModel",
      "state": {}
     },
     "f1a692af59564a82a6407ace884fe049": {
      "model_module": "@jupyter-widgets/base",
      "model_module_version": "1.1.0",
      "model_name": "LayoutModel",
      "state": {}
     },
     "f1d008f5a63c4ab28d5c16930a3d73e2": {
      "model_module": "@jupyter-widgets/base",
      "model_module_version": "1.1.0",
      "model_name": "LayoutModel",
      "state": {}
     },
     "f1dd3cc73ce4460b8690bc828b9460f9": {
      "model_module": "@jupyter-widgets/controls",
      "model_module_version": "1.4.0",
      "model_name": "ButtonModel",
      "state": {
       "description": "Order > 2",
       "layout": "IPY_MODEL_fd2a22d9ceb9471aa538e7ccbfe57b82",
       "style": "IPY_MODEL_e55bd1f78f9445fb86ad1e016bb14c8c"
      }
     },
     "f280f03cb3364dcb8c881d66d92c3a83": {
      "model_module": "@jupyter-widgets/controls",
      "model_module_version": "1.4.0",
      "model_name": "ButtonStyleModel",
      "state": {}
     },
     "f2af440188ad455385c72b6bf21a8817": {
      "model_module": "@jupyter-widgets/controls",
      "model_module_version": "1.4.0",
      "model_name": "HBoxModel",
      "state": {
       "children": [
        "IPY_MODEL_6001cdbe2c9444d3956cc09d62cbb0e3",
        "IPY_MODEL_e889ffbb364448e79c62217cb8b589da",
        "IPY_MODEL_77e8ceb30c6141cd98658e6f58531eda"
       ],
       "layout": "IPY_MODEL_bb635885033d40a7ba6141afc9b52382"
      }
     },
     "f2bc7d3e8e974b3ba242e98bda765a9e": {
      "model_module": "@jupyter-widgets/controls",
      "model_module_version": "1.4.0",
      "model_name": "ButtonStyleModel",
      "state": {}
     },
     "f323b715151c4f4b8e7338d896de348c": {
      "model_module": "@jupyter-widgets/base",
      "model_module_version": "1.1.0",
      "model_name": "LayoutModel",
      "state": {}
     },
     "f40b5c9522c54e15acf9ca5e9f099459": {
      "model_module": "@jupyter-widgets/controls",
      "model_module_version": "1.4.0",
      "model_name": "ButtonStyleModel",
      "state": {}
     },
     "f40fdae6b24e4b38bbaf4a0d3de94116": {
      "model_module": "@jupyter-widgets/base",
      "model_module_version": "1.1.0",
      "model_name": "LayoutModel",
      "state": {}
     },
     "f4194311d8e44dcab4739d3a9328131a": {
      "model_module": "@jupyter-widgets/controls",
      "model_module_version": "1.4.0",
      "model_name": "ButtonStyleModel",
      "state": {}
     },
     "f45a23a47d09483e85833f22840ae738": {
      "model_module": "@jupyter-widgets/controls",
      "model_module_version": "1.4.0",
      "model_name": "TextModel",
      "state": {
       "description": "K :",
       "layout": "IPY_MODEL_814f393e45fd4035a7046c3a4041cfe5",
       "placeholder": "Type a value for K",
       "style": "IPY_MODEL_5d12c6015ede4ffb87e209abe2422ea4",
       "value": "1"
      }
     },
     "f46a7e9037364fb3b991668f96b701f5": {
      "model_module": "@jupyter-widgets/controls",
      "model_module_version": "1.4.0",
      "model_name": "ButtonModel",
      "state": {
       "description": "Order > 2",
       "layout": "IPY_MODEL_53e3862af2454a9786ecca7d72cf202d",
       "style": "IPY_MODEL_ac327e2f9bf94e25ae80700508751a99"
      }
     },
     "f47c95ba373549dcb39937f34c3f96e2": {
      "model_module": "@jupyter-widgets/controls",
      "model_module_version": "1.4.0",
      "model_name": "ButtonStyleModel",
      "state": {}
     },
     "f49d09ff0fee4f28aa26566f648a2299": {
      "model_module": "@jupyter-widgets/controls",
      "model_module_version": "1.4.0",
      "model_name": "ButtonModel",
      "state": {
       "description": "Order 1",
       "layout": "IPY_MODEL_de4ba1a837cb45bda7625cfe406113ad",
       "style": "IPY_MODEL_fa763aa4ebcf48f498418688c2f8b848"
      }
     },
     "f4e646c62e474161987ad5889d194fe5": {
      "model_module": "@jupyter-widgets/controls",
      "model_module_version": "1.4.0",
      "model_name": "ButtonStyleModel",
      "state": {}
     },
     "f4eab0d71e014fa6899e08154f4117a9": {
      "model_module": "@jupyter-widgets/base",
      "model_module_version": "1.1.0",
      "model_name": "LayoutModel",
      "state": {}
     },
     "f512a941ba114736af1c56961c8b1611": {
      "model_module": "@jupyter-widgets/controls",
      "model_module_version": "1.4.0",
      "model_name": "ButtonStyleModel",
      "state": {}
     },
     "f520afd79f014ab9ba4691976fbf7722": {
      "model_module": "@jupyter-widgets/base",
      "model_module_version": "1.1.0",
      "model_name": "LayoutModel",
      "state": {}
     },
     "f5253b3a5b2d487791889b9c2266aeb6": {
      "model_module": "@jupyter-widgets/base",
      "model_module_version": "1.1.0",
      "model_name": "LayoutModel",
      "state": {}
     },
     "f5664988b92341fba1bcbe06d322f759": {
      "model_module": "@jupyter-widgets/base",
      "model_module_version": "1.1.0",
      "model_name": "LayoutModel",
      "state": {}
     },
     "f60661a7be2848699a2c5da7638a2ad4": {
      "model_module": "@jupyter-widgets/controls",
      "model_module_version": "1.4.0",
      "model_name": "ButtonStyleModel",
      "state": {}
     },
     "f60a8c7838b44494a718792522d040e3": {
      "model_module": "@jupyter-widgets/controls",
      "model_module_version": "1.4.0",
      "model_name": "ButtonModel",
      "state": {
       "description": "Order > 2",
       "layout": "IPY_MODEL_4e05e7d5ed0946d3af0579c3f4494e85",
       "style": "IPY_MODEL_10f26851a4554491ad99c7cd21cbf266"
      }
     },
     "f631b96b0f8c49078c3e64f0507beb83": {
      "model_module": "@jupyter-widgets/controls",
      "model_module_version": "1.4.0",
      "model_name": "ButtonStyleModel",
      "state": {}
     },
     "f644145f1a1849cd884719ce86a8f170": {
      "model_module": "@jupyter-widgets/base",
      "model_module_version": "1.1.0",
      "model_name": "LayoutModel",
      "state": {}
     },
     "f64d73d1dd234208b302b17d6afee813": {
      "model_module": "@jupyter-widgets/base",
      "model_module_version": "1.1.0",
      "model_name": "LayoutModel",
      "state": {}
     },
     "f64ed0891a984e32bbfefe927660d4f9": {
      "model_module": "@jupyter-widgets/controls",
      "model_module_version": "1.4.0",
      "model_name": "ButtonModel",
      "state": {
       "description": "Order 2",
       "layout": "IPY_MODEL_36967f4dcc6049909004ae256f54d656",
       "style": "IPY_MODEL_e03ba2eeeb1545ac82112cc24171b8bf"
      }
     },
     "f654711e61a84fb1abe171dabb8e410b": {
      "model_module": "@jupyter-widgets/base",
      "model_module_version": "1.1.0",
      "model_name": "LayoutModel",
      "state": {}
     },
     "f678d33a4c4647738982f168640c3266": {
      "model_module": "@jupyter-widgets/controls",
      "model_module_version": "1.4.0",
      "model_name": "ButtonModel",
      "state": {
       "description": "Order 2",
       "layout": "IPY_MODEL_b052ea996a47478aab39b081e366ed4d",
       "style": "IPY_MODEL_910d75c75b4742a99141778db23a7958"
      }
     },
     "f6d5ae1147d04a0fadc903910076b85e": {
      "model_module": "@jupyter-widgets/controls",
      "model_module_version": "1.4.0",
      "model_name": "DescriptionStyleModel",
      "state": {
       "description_width": ""
      }
     },
     "f731bd7ce3c349edbae439e681b47541": {
      "model_module": "@jupyter-widgets/controls",
      "model_module_version": "1.4.0",
      "model_name": "DescriptionStyleModel",
      "state": {
       "description_width": ""
      }
     },
     "f7744f2af57445b9921349db6258dba5": {
      "model_module": "@jupyter-widgets/base",
      "model_module_version": "1.1.0",
      "model_name": "LayoutModel",
      "state": {}
     },
     "f80829b36ca148afadaac0691c19713c": {
      "model_module": "@jupyter-widgets/controls",
      "model_module_version": "1.4.0",
      "model_name": "HBoxModel",
      "state": {
       "children": [
        "IPY_MODEL_60468de212c54848904e3b34c2e68947",
        "IPY_MODEL_4539e28ed3f24b3ea0a73c9a4cd3ed94",
        "IPY_MODEL_8b5d81445bf7407eb493c66248d37ba2"
       ],
       "layout": "IPY_MODEL_f890e9716a4142d789179c3e353625ef"
      }
     },
     "f859f3154c094df49ffbac6d0a166bb8": {
      "model_module": "@jupyter-widgets/controls",
      "model_module_version": "1.4.0",
      "model_name": "ButtonStyleModel",
      "state": {}
     },
     "f86f8294b95a484eacb6e59170ee3c66": {
      "model_module": "@jupyter-widgets/controls",
      "model_module_version": "1.4.0",
      "model_name": "ButtonStyleModel",
      "state": {}
     },
     "f890e9716a4142d789179c3e353625ef": {
      "model_module": "@jupyter-widgets/base",
      "model_module_version": "1.1.0",
      "model_name": "LayoutModel",
      "state": {}
     },
     "f94741e4782e4ea5988dc8e8285c78f8": {
      "model_module": "@jupyter-widgets/controls",
      "model_module_version": "1.4.0",
      "model_name": "ButtonModel",
      "state": {
       "description": "Order 1",
       "layout": "IPY_MODEL_53612e7960604f408daa615366369054",
       "style": "IPY_MODEL_b243ebfd52d54465ac8b61335651ea43"
      }
     },
     "f9bb3ea6f26742fab60ff5df28cde3c5": {
      "model_module": "@jupyter-widgets/controls",
      "model_module_version": "1.4.0",
      "model_name": "ButtonStyleModel",
      "state": {}
     },
     "fa03c28c4a1a45c0871b70ee3a6b109e": {
      "model_module": "@jupyter-widgets/controls",
      "model_module_version": "1.4.0",
      "model_name": "HBoxModel",
      "state": {
       "children": [
        "IPY_MODEL_b627fa981e7c4502b0513f0a1e7e4a75",
        "IPY_MODEL_3b41f1995675424795c007bbd883fdc8",
        "IPY_MODEL_b2f2cc7b56914735bf634a1b406ca10f"
       ],
       "layout": "IPY_MODEL_ea09e5923ac0430f82d046289dde1660"
      }
     },
     "fa763aa4ebcf48f498418688c2f8b848": {
      "model_module": "@jupyter-widgets/controls",
      "model_module_version": "1.4.0",
      "model_name": "ButtonStyleModel",
      "state": {}
     },
     "faeceb0f48524965acbb9715fefbe03c": {
      "model_module": "@jupyter-widgets/controls",
      "model_module_version": "1.4.0",
      "model_name": "ButtonStyleModel",
      "state": {}
     },
     "faf9a81ba1c144b0bb3ad0c23c992e88": {
      "model_module": "@jupyter-widgets/controls",
      "model_module_version": "1.4.0",
      "model_name": "ButtonModel",
      "state": {
       "description": "Order 1",
       "layout": "IPY_MODEL_53e8a29392ae49d39b9032c7bae791cd",
       "style": "IPY_MODEL_7e0c853a97434fad8385c0580648d767"
      }
     },
     "fb5fe9821acb4e0ab0271f3be28c6700": {
      "model_module": "@jupyter-widgets/controls",
      "model_module_version": "1.4.0",
      "model_name": "TextModel",
      "state": {
       "description": "K :",
       "layout": "IPY_MODEL_8f5b41b91e1f47c8a595c1427dd1e97e",
       "placeholder": "Type a value for K",
       "style": "IPY_MODEL_54d8a62958d94058927992de2e01c8a2",
       "value": "2"
      }
     },
     "fb63c0e468764fd5af6e68d9bdee8f77": {
      "model_module": "@jupyter-widgets/controls",
      "model_module_version": "1.4.0",
      "model_name": "ButtonStyleModel",
      "state": {}
     },
     "fb7982b473f54390a8f51eaa387e39c6": {
      "model_module": "@jupyter-widgets/controls",
      "model_module_version": "1.4.0",
      "model_name": "ButtonStyleModel",
      "state": {}
     },
     "fbfd2fa791234cbfbbafeaf2130e1dcc": {
      "model_module": "@jupyter-widgets/base",
      "model_module_version": "1.1.0",
      "model_name": "LayoutModel",
      "state": {}
     },
     "fc165d7f994a4e90ae6a04cc71fd9e5c": {
      "model_module": "@jupyter-widgets/controls",
      "model_module_version": "1.4.0",
      "model_name": "ButtonModel",
      "state": {
       "description": "Order 1",
       "layout": "IPY_MODEL_82348f249b0645b5beeb1f09ed14e719",
       "style": "IPY_MODEL_54cd84b74e3745cd962543a78999dcc4"
      }
     },
     "fc705628e6084001bebc4045418e03b7": {
      "model_module": "@jupyter-widgets/controls",
      "model_module_version": "1.4.0",
      "model_name": "ButtonStyleModel",
      "state": {}
     },
     "fc89dfd4f10e4267966f1a5b23e7ab93": {
      "model_module": "@jupyter-widgets/controls",
      "model_module_version": "1.4.0",
      "model_name": "TextModel",
      "state": {
       "description": "K :",
       "layout": "IPY_MODEL_f04a5095f04d45c497babfa54213cf27",
       "placeholder": "Type a value for K",
       "style": "IPY_MODEL_5f660ca44722498f907001d0ef752466"
      }
     },
     "fcc069f9b9704d2080485b1a89bb4d64": {
      "model_module": "@jupyter-widgets/base",
      "model_module_version": "1.1.0",
      "model_name": "LayoutModel",
      "state": {}
     },
     "fceb22c793d64a38854d7ad548f154b1": {
      "model_module": "@jupyter-widgets/controls",
      "model_module_version": "1.4.0",
      "model_name": "ButtonModel",
      "state": {
       "description": "Valider",
       "layout": "IPY_MODEL_a170ac89db0042598bce6d60101c0f16",
       "style": "IPY_MODEL_2f615a54dc334090bdaaa2d13614e850"
      }
     },
     "fd2a22d9ceb9471aa538e7ccbfe57b82": {
      "model_module": "@jupyter-widgets/base",
      "model_module_version": "1.1.0",
      "model_name": "LayoutModel",
      "state": {}
     },
     "fdb3fb81b5e946498d861f577ebfffdf": {
      "model_module": "@jupyter-widgets/controls",
      "model_module_version": "1.4.0",
      "model_name": "ButtonStyleModel",
      "state": {}
     },
     "fdc790a832d6480883a8069aae3c7120": {
      "model_module": "@jupyter-widgets/base",
      "model_module_version": "1.1.0",
      "model_name": "LayoutModel",
      "state": {}
     },
     "fdd3d91abbdc4c009663442960d6d040": {
      "model_module": "@jupyter-widgets/base",
      "model_module_version": "1.1.0",
      "model_name": "LayoutModel",
      "state": {}
     },
     "fe0a5332ff034f96b9ce1a8f49a319c0": {
      "model_module": "@jupyter-widgets/controls",
      "model_module_version": "1.4.0",
      "model_name": "HBoxModel",
      "state": {
       "children": [
        "IPY_MODEL_499306c24c394912b9cb9fbd18660654",
        "IPY_MODEL_a1e10fdd46db4e3db76a3b31b115b6a8",
        "IPY_MODEL_ce5fab6403c64e938f6590dcee982a13"
       ],
       "layout": "IPY_MODEL_2c79a4a65e444991a7c7868e1b2fdcd9"
      }
     },
     "fe4b61ccf99246dbb89fe92c5d060b56": {
      "model_module": "@jupyter-widgets/controls",
      "model_module_version": "1.4.0",
      "model_name": "ButtonStyleModel",
      "state": {}
     },
     "fe59cb68e9724613887e8b16391e822a": {
      "model_module": "@jupyter-widgets/base",
      "model_module_version": "1.1.0",
      "model_name": "LayoutModel",
      "state": {}
     },
     "fe9b891eb54b45fc91c768fde85be91e": {
      "model_module": "@jupyter-widgets/controls",
      "model_module_version": "1.4.0",
      "model_name": "HBoxModel",
      "state": {
       "children": [
        "IPY_MODEL_053daa5cc658433c91fff39495a18e46",
        "IPY_MODEL_96aebbeb0fb848899f23cd24444b15d6",
        "IPY_MODEL_d2ff4bd240024e12906fd02ba991d9d6"
       ],
       "layout": "IPY_MODEL_9ddd32098b5a4c38bb08355d35a0a111"
      }
     },
     "ff521024eab247c19a2c4c8b4afc8fd9": {
      "model_module": "@jupyter-widgets/base",
      "model_module_version": "1.1.0",
      "model_name": "LayoutModel",
      "state": {}
     },
     "ffdb9a7c9d024d198cc0689f363424c2": {
      "model_module": "@jupyter-widgets/controls",
      "model_module_version": "1.4.0",
      "model_name": "LabelModel",
      "state": {
       "description": "LabelOK",
       "layout": "IPY_MODEL_f5664988b92341fba1bcbe06d322f759",
       "style": "IPY_MODEL_9a339957bbf34f8da3e152158c0e0b45"
      }
     }
    },
    "version_major": 2,
    "version_minor": 0
   }
  }
 },
 "nbformat": 4,
 "nbformat_minor": 2
}
